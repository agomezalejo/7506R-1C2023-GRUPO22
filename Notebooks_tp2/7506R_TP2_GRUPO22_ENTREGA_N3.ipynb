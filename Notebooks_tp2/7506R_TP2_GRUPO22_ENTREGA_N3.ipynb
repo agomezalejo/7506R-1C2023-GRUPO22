{
  "cells": [
    {
      "cell_type": "markdown",
      "metadata": {
        "id": "ltKeQx0ZyVnA"
      },
      "source": [
        "## Importes"
      ]
    },
    {
      "cell_type": "markdown",
      "metadata": {
        "id": "uP6dffpa0P46"
      },
      "source": [
        "Realizamos los importes necesarios para nuestro modelo"
      ]
    },
    {
      "cell_type": "code",
      "execution_count": 66,
      "metadata": {
        "id": "syJUsd2ZyZLy"
      },
      "outputs": [],
      "source": [
        "import pandas as pd\n",
        "import numpy as np\n",
        "import matplotlib.pyplot as plt\n",
        "import sklearn as skl\n",
        "import seaborn as sns\n",
        "import pickle\n",
        "\n",
        "from ast import literal_eval\n",
        "#La lista tokens en la columna tokens es en realidad una representación de una lista hecha con un string, literal_eval lo transforma en una lista real\n",
        "\n",
        "from sklearn.metrics import f1_score, recall_score, precision_score, accuracy_score, confusion_matrix\n",
        "from sklearn.model_selection import RandomizedSearchCV, train_test_split, cross_val_predict\n",
        "from sklearn.linear_model import LogisticRegression\n",
        "from scipy.stats import randint\n",
        "from sklearn.ensemble import RandomForestClassifier\n",
        "from sklearn.feature_extraction.text import CountVectorizer"
      ]
    },
    {
      "cell_type": "code",
      "execution_count": 67,
      "metadata": {
        "id": "0ToCjuoP0xlh"
      },
      "outputs": [],
      "source": [
        "partes_train = []\n",
        "cant_partes = 2\n",
        "for i in range(cant_partes):\n",
        "  parte = pd.read_csv(f'https://raw.githubusercontent.com/agomezalejo/7506R-1C2023-GRUPO22/main/train_tp2/train_data_procesado_FILTRADO_FINAL_parte_{i}.csv')\n",
        "  partes_train.append(parte)\n",
        "train_data = pd.concat(partes_train, ignore_index=True)\n",
        "\n",
        "test_url = \"https://raw.githubusercontent.com/agomezalejo/7506R-1C2023-GRUPO22/main/train_tp2/test_data_procesado_FILTRADO_FINAL.csv\"\n",
        "test_data = pd.read_csv(test_url)"
      ]
    },
    {
      "cell_type": "markdown",
      "metadata": {
        "id": "rd69n-ag0Uzw"
      },
      "source": [
        "Concatenamos los tokens en una unica lista de texto y lo utilizamos para crear y entrenar el vectorizer; tanto para train como para test"
      ]
    },
    {
      "cell_type": "code",
      "execution_count": 68,
      "metadata": {
        "id": "EtE6-9QqzcGT"
      },
      "outputs": [],
      "source": [
        "#Transformamos train_data['tokens'] y test_data['tokens] en listas reales (antes eran representaciónes de lista hechas en string)\n",
        "train_data['tokens'] = train_data['tokens'].apply(literal_eval)\n",
        "test_data['tokens'] = test_data['tokens'].apply(literal_eval)\n",
        "\n",
        "vectorizer = CountVectorizer()\n",
        "\n",
        "corpus = [' '.join(tokens) for tokens in train_data['tokens']]\n",
        "X = vectorizer.fit_transform(corpus)\n",
        "\n",
        "corpus_test = [' '.join(tokens) for tokens in test_data['tokens']]\n",
        "X_test_data = vectorizer.transform(corpus_test)"
      ]
    },
    {
      "cell_type": "markdown",
      "metadata": {
        "id": "MjW2Y3vO0lsH"
      },
      "source": [
        "Obtenemos las etiquetas y dividivos los datos en conjunto de train y test"
      ]
    },
    {
      "cell_type": "code",
      "execution_count": 69,
      "metadata": {
        "id": "f8vEM4a6y01U"
      },
      "outputs": [],
      "source": [
        "y = train_data['sentimiento']\n",
        "\n",
        "X_train, X_test, y_train, y_test = train_test_split(X, y, test_size=0.3, random_state=42)"
      ]
    },
    {
      "cell_type": "markdown",
      "metadata": {
        "id": "tdnwvyb47KDz"
      },
      "source": [
        "Dado que Random Forest tarda en correr, vamos a obtener una subclasificación de nuestra división de datos, así mejoramos el tiempo de optimización de hiperparametros"
      ]
    },
    {
      "cell_type": "code",
      "execution_count": 70,
      "metadata": {
        "id": "8A6rFJoL7Hea"
      },
      "outputs": [],
      "source": [
        "X_train_sub, _, y_train_sub, _ = train_test_split(X_train, y_train, train_size=10000, stratify=y_train, random_state=42)"
      ]
    },
    {
      "cell_type": "markdown",
      "metadata": {
        "id": "SHz8k8SmOlD0"
      },
      "source": [
        "## Funciones"
      ]
    },
    {
      "cell_type": "markdown",
      "metadata": {
        "id": "nhY4EHlAOr6m"
      },
      "source": [
        "A Continuación, crearemos distintas funciones que serán utilizadas a lo largo del trabajo."
      ]
    },
    {
      "cell_type": "markdown",
      "metadata": {
        "id": "1xGOnNWUO1c6"
      },
      "source": [
        "### mostrar_resultados"
      ]
    },
    {
      "cell_type": "markdown",
      "metadata": {
        "id": "aj6e1f-_O5UW"
      },
      "source": [
        "Esta función, recibe los mejores parametros encontrados, los conjuntos de datos tanto de entrenamiento como de prueba y nos muestra las distintas metricas obtenidas del modelo."
      ]
    },
    {
      "cell_type": "code",
      "execution_count": 71,
      "metadata": {
        "id": "ge_SjDO_3ySr"
      },
      "outputs": [],
      "source": [
        "def mostrar_resultados(model, best_params, X_train, y_train, X_test, y_test):\n",
        "  print(\"Mejores hiperparámetros encontrados:\", best_params)\n",
        "\n",
        "  # Metricas en el conjunto de entrenamiento\n",
        "  y_train_pred = model.predict(X_train)\n",
        "\n",
        "  print(\"Métricas de evaluación en el conjunto de entrenamiento:\")\n",
        "  print(\"Accuracy:\", accuracy_score(y_train, y_train_pred))\n",
        "  print(\"Recall:\", recall_score(y_train, y_train_pred, average='macro'))\n",
        "  print(\"F1-Score:\", f1_score(y_train, y_train_pred, average='macro'))\n",
        "  print(\"Precision:\", precision_score(y_train, y_train_pred, average='macro'))\n",
        "\n",
        "  # Metricas en el conjunto de prueba\n",
        "  y_test_pred = model.predict(X_test)\n",
        "\n",
        "  print(\"\\nMétricas de evaluación en el conjunto de prueba:\")\n",
        "  print(\"Accuracy:\", accuracy_score(y_test, y_test_pred))\n",
        "  print(\"Recall:\", recall_score(y_test, y_test_pred, average='macro'))\n",
        "  print(\"F1-Score:\", f1_score(y_test, y_test_pred, average='macro'))\n",
        "  print(\"Precision:\", precision_score(y_test, y_test_pred, average='macro'))"
      ]
    },
    {
      "cell_type": "markdown",
      "metadata": {
        "id": "VpqNLkVo2Rqb"
      },
      "source": [
        "### mostrar_matriz_confusion"
      ]
    },
    {
      "cell_type": "markdown",
      "metadata": {
        "id": "Ph7nUtSx2VQp"
      },
      "source": [
        "La siguiuente función recibe un modelo, y los conjuntos de datos tanto de entrenamiento como de prueba y nos muestra la matriz de confusión correspondiente para cada caso"
      ]
    },
    {
      "cell_type": "code",
      "execution_count": 72,
      "metadata": {
        "id": "fBtVcqL4bU3L"
      },
      "outputs": [],
      "source": [
        "def mostrar_matriz_confusion(model, X_train, y_train, X_test, y_test):\n",
        "  y_train_pred = model.predict(X_train)\n",
        "  cm_train = confusion_matrix(y_train, y_train_pred)\n",
        "\n",
        "  class_labels = ['Negativo', 'Positivo']\n",
        "  fig, ax = plt.subplots(figsize=(6, 4))\n",
        "  sns.heatmap(cm_train, annot=True, cmap='Blues', fmt='d', xticklabels=class_labels, yticklabels=class_labels, ax=ax)\n",
        "  ax.set_xlabel('Predicted')\n",
        "  ax.set_ylabel('Actual')\n",
        "  ax.set_title('Matriz de Confusión en el conjunto de entrenamiento')\n",
        "  plt.show()\n",
        "\n",
        "  print(\"\\n\\n\")\n",
        "\n",
        "  y_test_pred = model.predict(X_test)\n",
        "  cm_train = confusion_matrix(y_test, y_test_pred)\n",
        "  class_labels = ['Negativo', 'Positivo']\n",
        "  fig, ax = plt.subplots(figsize=(6, 4))\n",
        "  sns.heatmap(cm_train, annot=True, cmap='Blues', fmt='d', xticklabels=class_labels, yticklabels=class_labels, ax=ax)\n",
        "  ax.set_xlabel('Predicted')\n",
        "  ax.set_ylabel('Actual')\n",
        "  ax.set_title('Matriz de Confusión en el conjunto de prueba')\n",
        "\n",
        "  plt.show()"
      ]
    },
    {
      "cell_type": "markdown",
      "metadata": {
        "id": "RazkRZnr5C2V"
      },
      "source": [
        "## Random Forest"
      ]
    },
    {
      "cell_type": "markdown",
      "metadata": {
        "id": "mv1BdUhNpQ7W"
      },
      "source": [
        "Creamos el modelo de Random Forest y definimos los hiperparámetros a usar"
      ]
    },
    {
      "cell_type": "code",
      "execution_count": 73,
      "metadata": {
        "id": "pQOJxNKw7Slt"
      },
      "outputs": [],
      "source": [
        "random_forest = RandomForestClassifier()\n",
        "\n",
        "hyperparameters = {\n",
        "    'n_estimators': [100, 120, 140],\n",
        "    'criterion': ['gini', 'entropy'],\n",
        "    'max_depth': [None, 30, 50],\n",
        "    'min_samples_split': [2, 5, 10],\n",
        "    'min_samples_leaf': [1, 3, 5],\n",
        "    'max_features': ['sqrt', 'log2'],\n",
        "    'random_state': [42]\n",
        "}"
      ]
    },
    {
      "cell_type": "markdown",
      "metadata": {
        "id": "Udd4jjrlpSv9"
      },
      "source": [
        "Realizamos la optimización de los hiperparametros utliizando Random Search con Cross Validation de 5. Usamos una porción de nuestros datos, ya que este modelo tarda mucho"
      ]
    },
    {
      "cell_type": "code",
      "execution_count": 74,
      "metadata": {
        "colab": {
          "base_uri": "https://localhost:8080/",
          "height": 134
        },
        "id": "corRaZtppmMB",
        "outputId": "bcc19004-51d7-415c-f219-f8e3ece9989a"
      },
      "outputs": [
        {
          "output_type": "stream",
          "name": "stdout",
          "text": [
            "Fitting 5 folds for each of 100 candidates, totalling 500 fits\n"
          ]
        },
        {
          "output_type": "execute_result",
          "data": {
            "text/plain": [
              "RandomizedSearchCV(cv=5, estimator=RandomForestClassifier(), n_iter=100,\n",
              "                   n_jobs=-1,\n",
              "                   param_distributions={'criterion': ['gini', 'entropy'],\n",
              "                                        'max_depth': [None, 30, 50],\n",
              "                                        'max_features': ['sqrt', 'log2'],\n",
              "                                        'min_samples_leaf': [1, 3, 5],\n",
              "                                        'min_samples_split': [2, 5, 10],\n",
              "                                        'n_estimators': [100, 120, 140],\n",
              "                                        'random_state': [42]},\n",
              "                   random_state=42, verbose=10)"
            ],
            "text/html": [
              "<style>#sk-container-id-12 {color: black;background-color: white;}#sk-container-id-12 pre{padding: 0;}#sk-container-id-12 div.sk-toggleable {background-color: white;}#sk-container-id-12 label.sk-toggleable__label {cursor: pointer;display: block;width: 100%;margin-bottom: 0;padding: 0.3em;box-sizing: border-box;text-align: center;}#sk-container-id-12 label.sk-toggleable__label-arrow:before {content: \"▸\";float: left;margin-right: 0.25em;color: #696969;}#sk-container-id-12 label.sk-toggleable__label-arrow:hover:before {color: black;}#sk-container-id-12 div.sk-estimator:hover label.sk-toggleable__label-arrow:before {color: black;}#sk-container-id-12 div.sk-toggleable__content {max-height: 0;max-width: 0;overflow: hidden;text-align: left;background-color: #f0f8ff;}#sk-container-id-12 div.sk-toggleable__content pre {margin: 0.2em;color: black;border-radius: 0.25em;background-color: #f0f8ff;}#sk-container-id-12 input.sk-toggleable__control:checked~div.sk-toggleable__content {max-height: 200px;max-width: 100%;overflow: auto;}#sk-container-id-12 input.sk-toggleable__control:checked~label.sk-toggleable__label-arrow:before {content: \"▾\";}#sk-container-id-12 div.sk-estimator input.sk-toggleable__control:checked~label.sk-toggleable__label {background-color: #d4ebff;}#sk-container-id-12 div.sk-label input.sk-toggleable__control:checked~label.sk-toggleable__label {background-color: #d4ebff;}#sk-container-id-12 input.sk-hidden--visually {border: 0;clip: rect(1px 1px 1px 1px);clip: rect(1px, 1px, 1px, 1px);height: 1px;margin: -1px;overflow: hidden;padding: 0;position: absolute;width: 1px;}#sk-container-id-12 div.sk-estimator {font-family: monospace;background-color: #f0f8ff;border: 1px dotted black;border-radius: 0.25em;box-sizing: border-box;margin-bottom: 0.5em;}#sk-container-id-12 div.sk-estimator:hover {background-color: #d4ebff;}#sk-container-id-12 div.sk-parallel-item::after {content: \"\";width: 100%;border-bottom: 1px solid gray;flex-grow: 1;}#sk-container-id-12 div.sk-label:hover label.sk-toggleable__label {background-color: #d4ebff;}#sk-container-id-12 div.sk-serial::before {content: \"\";position: absolute;border-left: 1px solid gray;box-sizing: border-box;top: 0;bottom: 0;left: 50%;z-index: 0;}#sk-container-id-12 div.sk-serial {display: flex;flex-direction: column;align-items: center;background-color: white;padding-right: 0.2em;padding-left: 0.2em;position: relative;}#sk-container-id-12 div.sk-item {position: relative;z-index: 1;}#sk-container-id-12 div.sk-parallel {display: flex;align-items: stretch;justify-content: center;background-color: white;position: relative;}#sk-container-id-12 div.sk-item::before, #sk-container-id-12 div.sk-parallel-item::before {content: \"\";position: absolute;border-left: 1px solid gray;box-sizing: border-box;top: 0;bottom: 0;left: 50%;z-index: -1;}#sk-container-id-12 div.sk-parallel-item {display: flex;flex-direction: column;z-index: 1;position: relative;background-color: white;}#sk-container-id-12 div.sk-parallel-item:first-child::after {align-self: flex-end;width: 50%;}#sk-container-id-12 div.sk-parallel-item:last-child::after {align-self: flex-start;width: 50%;}#sk-container-id-12 div.sk-parallel-item:only-child::after {width: 0;}#sk-container-id-12 div.sk-dashed-wrapped {border: 1px dashed gray;margin: 0 0.4em 0.5em 0.4em;box-sizing: border-box;padding-bottom: 0.4em;background-color: white;}#sk-container-id-12 div.sk-label label {font-family: monospace;font-weight: bold;display: inline-block;line-height: 1.2em;}#sk-container-id-12 div.sk-label-container {text-align: center;}#sk-container-id-12 div.sk-container {/* jupyter's `normalize.less` sets `[hidden] { display: none; }` but bootstrap.min.css set `[hidden] { display: none !important; }` so we also need the `!important` here to be able to override the default hidden behavior on the sphinx rendered scikit-learn.org. See: https://github.com/scikit-learn/scikit-learn/issues/21755 */display: inline-block !important;position: relative;}#sk-container-id-12 div.sk-text-repr-fallback {display: none;}</style><div id=\"sk-container-id-12\" class=\"sk-top-container\"><div class=\"sk-text-repr-fallback\"><pre>RandomizedSearchCV(cv=5, estimator=RandomForestClassifier(), n_iter=100,\n",
              "                   n_jobs=-1,\n",
              "                   param_distributions={&#x27;criterion&#x27;: [&#x27;gini&#x27;, &#x27;entropy&#x27;],\n",
              "                                        &#x27;max_depth&#x27;: [None, 30, 50],\n",
              "                                        &#x27;max_features&#x27;: [&#x27;sqrt&#x27;, &#x27;log2&#x27;],\n",
              "                                        &#x27;min_samples_leaf&#x27;: [1, 3, 5],\n",
              "                                        &#x27;min_samples_split&#x27;: [2, 5, 10],\n",
              "                                        &#x27;n_estimators&#x27;: [100, 120, 140],\n",
              "                                        &#x27;random_state&#x27;: [42]},\n",
              "                   random_state=42, verbose=10)</pre><b>In a Jupyter environment, please rerun this cell to show the HTML representation or trust the notebook. <br />On GitHub, the HTML representation is unable to render, please try loading this page with nbviewer.org.</b></div><div class=\"sk-container\" hidden><div class=\"sk-item sk-dashed-wrapped\"><div class=\"sk-label-container\"><div class=\"sk-label sk-toggleable\"><input class=\"sk-toggleable__control sk-hidden--visually\" id=\"sk-estimator-id-24\" type=\"checkbox\" ><label for=\"sk-estimator-id-24\" class=\"sk-toggleable__label sk-toggleable__label-arrow\">RandomizedSearchCV</label><div class=\"sk-toggleable__content\"><pre>RandomizedSearchCV(cv=5, estimator=RandomForestClassifier(), n_iter=100,\n",
              "                   n_jobs=-1,\n",
              "                   param_distributions={&#x27;criterion&#x27;: [&#x27;gini&#x27;, &#x27;entropy&#x27;],\n",
              "                                        &#x27;max_depth&#x27;: [None, 30, 50],\n",
              "                                        &#x27;max_features&#x27;: [&#x27;sqrt&#x27;, &#x27;log2&#x27;],\n",
              "                                        &#x27;min_samples_leaf&#x27;: [1, 3, 5],\n",
              "                                        &#x27;min_samples_split&#x27;: [2, 5, 10],\n",
              "                                        &#x27;n_estimators&#x27;: [100, 120, 140],\n",
              "                                        &#x27;random_state&#x27;: [42]},\n",
              "                   random_state=42, verbose=10)</pre></div></div></div><div class=\"sk-parallel\"><div class=\"sk-parallel-item\"><div class=\"sk-item\"><div class=\"sk-label-container\"><div class=\"sk-label sk-toggleable\"><input class=\"sk-toggleable__control sk-hidden--visually\" id=\"sk-estimator-id-25\" type=\"checkbox\" ><label for=\"sk-estimator-id-25\" class=\"sk-toggleable__label sk-toggleable__label-arrow\">estimator: RandomForestClassifier</label><div class=\"sk-toggleable__content\"><pre>RandomForestClassifier()</pre></div></div></div><div class=\"sk-serial\"><div class=\"sk-item\"><div class=\"sk-estimator sk-toggleable\"><input class=\"sk-toggleable__control sk-hidden--visually\" id=\"sk-estimator-id-26\" type=\"checkbox\" ><label for=\"sk-estimator-id-26\" class=\"sk-toggleable__label sk-toggleable__label-arrow\">RandomForestClassifier</label><div class=\"sk-toggleable__content\"><pre>RandomForestClassifier()</pre></div></div></div></div></div></div></div></div></div></div>"
            ]
          },
          "metadata": {},
          "execution_count": 74
        }
      ],
      "source": [
        "random_search_rf = RandomizedSearchCV(random_forest, hyperparameters, cv=5, n_iter=100, random_state=42, n_jobs=-1, verbose = 10)\n",
        "random_search_rf.fit(X_train_sub, y_train_sub)"
      ]
    },
    {
      "cell_type": "markdown",
      "metadata": {
        "id": "IXQUPw5EpfFW"
      },
      "source": [
        "Obteneoms los mejores parametros y entrenamos el modelo a partir de ellos"
      ]
    },
    {
      "cell_type": "code",
      "execution_count": 75,
      "metadata": {
        "id": "aPseRPLCptXv",
        "colab": {
          "base_uri": "https://localhost:8080/",
          "height": 109
        },
        "outputId": "f11a82fc-4fb6-4d8e-baa6-31d2e528fe94"
      },
      "outputs": [
        {
          "output_type": "execute_result",
          "data": {
            "text/plain": [
              "RandomForestClassifier(criterion='entropy', max_features='log2',\n",
              "                       min_samples_leaf=3, min_samples_split=10,\n",
              "                       n_estimators=140, random_state=42)"
            ],
            "text/html": [
              "<style>#sk-container-id-13 {color: black;background-color: white;}#sk-container-id-13 pre{padding: 0;}#sk-container-id-13 div.sk-toggleable {background-color: white;}#sk-container-id-13 label.sk-toggleable__label {cursor: pointer;display: block;width: 100%;margin-bottom: 0;padding: 0.3em;box-sizing: border-box;text-align: center;}#sk-container-id-13 label.sk-toggleable__label-arrow:before {content: \"▸\";float: left;margin-right: 0.25em;color: #696969;}#sk-container-id-13 label.sk-toggleable__label-arrow:hover:before {color: black;}#sk-container-id-13 div.sk-estimator:hover label.sk-toggleable__label-arrow:before {color: black;}#sk-container-id-13 div.sk-toggleable__content {max-height: 0;max-width: 0;overflow: hidden;text-align: left;background-color: #f0f8ff;}#sk-container-id-13 div.sk-toggleable__content pre {margin: 0.2em;color: black;border-radius: 0.25em;background-color: #f0f8ff;}#sk-container-id-13 input.sk-toggleable__control:checked~div.sk-toggleable__content {max-height: 200px;max-width: 100%;overflow: auto;}#sk-container-id-13 input.sk-toggleable__control:checked~label.sk-toggleable__label-arrow:before {content: \"▾\";}#sk-container-id-13 div.sk-estimator input.sk-toggleable__control:checked~label.sk-toggleable__label {background-color: #d4ebff;}#sk-container-id-13 div.sk-label input.sk-toggleable__control:checked~label.sk-toggleable__label {background-color: #d4ebff;}#sk-container-id-13 input.sk-hidden--visually {border: 0;clip: rect(1px 1px 1px 1px);clip: rect(1px, 1px, 1px, 1px);height: 1px;margin: -1px;overflow: hidden;padding: 0;position: absolute;width: 1px;}#sk-container-id-13 div.sk-estimator {font-family: monospace;background-color: #f0f8ff;border: 1px dotted black;border-radius: 0.25em;box-sizing: border-box;margin-bottom: 0.5em;}#sk-container-id-13 div.sk-estimator:hover {background-color: #d4ebff;}#sk-container-id-13 div.sk-parallel-item::after {content: \"\";width: 100%;border-bottom: 1px solid gray;flex-grow: 1;}#sk-container-id-13 div.sk-label:hover label.sk-toggleable__label {background-color: #d4ebff;}#sk-container-id-13 div.sk-serial::before {content: \"\";position: absolute;border-left: 1px solid gray;box-sizing: border-box;top: 0;bottom: 0;left: 50%;z-index: 0;}#sk-container-id-13 div.sk-serial {display: flex;flex-direction: column;align-items: center;background-color: white;padding-right: 0.2em;padding-left: 0.2em;position: relative;}#sk-container-id-13 div.sk-item {position: relative;z-index: 1;}#sk-container-id-13 div.sk-parallel {display: flex;align-items: stretch;justify-content: center;background-color: white;position: relative;}#sk-container-id-13 div.sk-item::before, #sk-container-id-13 div.sk-parallel-item::before {content: \"\";position: absolute;border-left: 1px solid gray;box-sizing: border-box;top: 0;bottom: 0;left: 50%;z-index: -1;}#sk-container-id-13 div.sk-parallel-item {display: flex;flex-direction: column;z-index: 1;position: relative;background-color: white;}#sk-container-id-13 div.sk-parallel-item:first-child::after {align-self: flex-end;width: 50%;}#sk-container-id-13 div.sk-parallel-item:last-child::after {align-self: flex-start;width: 50%;}#sk-container-id-13 div.sk-parallel-item:only-child::after {width: 0;}#sk-container-id-13 div.sk-dashed-wrapped {border: 1px dashed gray;margin: 0 0.4em 0.5em 0.4em;box-sizing: border-box;padding-bottom: 0.4em;background-color: white;}#sk-container-id-13 div.sk-label label {font-family: monospace;font-weight: bold;display: inline-block;line-height: 1.2em;}#sk-container-id-13 div.sk-label-container {text-align: center;}#sk-container-id-13 div.sk-container {/* jupyter's `normalize.less` sets `[hidden] { display: none; }` but bootstrap.min.css set `[hidden] { display: none !important; }` so we also need the `!important` here to be able to override the default hidden behavior on the sphinx rendered scikit-learn.org. See: https://github.com/scikit-learn/scikit-learn/issues/21755 */display: inline-block !important;position: relative;}#sk-container-id-13 div.sk-text-repr-fallback {display: none;}</style><div id=\"sk-container-id-13\" class=\"sk-top-container\"><div class=\"sk-text-repr-fallback\"><pre>RandomForestClassifier(criterion=&#x27;entropy&#x27;, max_features=&#x27;log2&#x27;,\n",
              "                       min_samples_leaf=3, min_samples_split=10,\n",
              "                       n_estimators=140, random_state=42)</pre><b>In a Jupyter environment, please rerun this cell to show the HTML representation or trust the notebook. <br />On GitHub, the HTML representation is unable to render, please try loading this page with nbviewer.org.</b></div><div class=\"sk-container\" hidden><div class=\"sk-item\"><div class=\"sk-estimator sk-toggleable\"><input class=\"sk-toggleable__control sk-hidden--visually\" id=\"sk-estimator-id-27\" type=\"checkbox\" checked><label for=\"sk-estimator-id-27\" class=\"sk-toggleable__label sk-toggleable__label-arrow\">RandomForestClassifier</label><div class=\"sk-toggleable__content\"><pre>RandomForestClassifier(criterion=&#x27;entropy&#x27;, max_features=&#x27;log2&#x27;,\n",
              "                       min_samples_leaf=3, min_samples_split=10,\n",
              "                       n_estimators=140, random_state=42)</pre></div></div></div></div></div>"
            ]
          },
          "metadata": {},
          "execution_count": 75
        }
      ],
      "source": [
        "best_params_rf = random_search_rf.best_params_\n",
        "\n",
        "best_random_forest = RandomForestClassifier(**best_params_rf)\n",
        "best_random_forest.fit(X_train, y_train)"
      ]
    },
    {
      "cell_type": "markdown",
      "metadata": {
        "id": "7GrFlf4_p3Nd"
      },
      "source": [
        "Veamos los resultados obtenidos para test y train"
      ]
    },
    {
      "cell_type": "code",
      "execution_count": 76,
      "metadata": {
        "colab": {
          "base_uri": "https://localhost:8080/"
        },
        "id": "U9K3x8wE9v9s",
        "outputId": "d172e1ac-3a5e-4276-b2a1-1ecab892d2e4"
      },
      "outputs": [
        {
          "output_type": "stream",
          "name": "stdout",
          "text": [
            "Mejores hiperparámetros encontrados: {'random_state': 42, 'n_estimators': 140, 'min_samples_split': 10, 'min_samples_leaf': 3, 'max_features': 'log2', 'max_depth': None, 'criterion': 'entropy'}\n",
            "Métricas de evaluación en el conjunto de entrenamiento:\n",
            "Accuracy: 0.884969037342841\n",
            "Recall: 0.8849814520000501\n",
            "F1-Score: 0.8849689360768296\n",
            "Precision: 0.8849875074070015\n",
            "\n",
            "Métricas de evaluación en el conjunto de prueba:\n",
            "Accuracy: 0.827276707530648\n",
            "Recall: 0.8272955284742203\n",
            "F1-Score: 0.8272687524954276\n",
            "Precision: 0.8273752914468033\n"
          ]
        }
      ],
      "source": [
        "mostrar_resultados(best_random_forest, best_params_rf, X_train, y_train, X_test, y_test)"
      ]
    },
    {
      "cell_type": "markdown",
      "metadata": {
        "id": "yrvqod4_p40R"
      },
      "source": [
        "Y mostramos las respectivas matrices de confusión"
      ]
    },
    {
      "cell_type": "code",
      "execution_count": 77,
      "metadata": {
        "colab": {
          "base_uri": "https://localhost:8080/",
          "height": 857
        },
        "id": "UxSbpy-sqBJW",
        "outputId": "b2649497-4e19-49e8-dc7c-e2f7e378675a"
      },
      "outputs": [
        {
          "output_type": "display_data",
          "data": {
            "text/plain": [
              "<Figure size 600x400 with 2 Axes>"
            ],
            "image/png": "[encoded data removed]"
          },
          "metadata": {}
        },
        {
          "output_type": "stream",
          "name": "stdout",
          "text": [
            "\n",
            "\n",
            "\n"
          ]
        },
        {
          "output_type": "display_data",
          "data": {
            "text/plain": [
              "<Figure size 600x400 with 2 Axes>"
            ],
            "image/png": "[encoded data removed]"
          },
          "metadata": {}
        }
      ],
      "source": [
        "mostrar_matriz_confusion(best_random_forest, X_train, y_train, X_test, y_test)"
      ]
    },
    {
      "cell_type": "markdown",
      "metadata": {
        "id": "w5tVdCHqqLft"
      },
      "source": [
        "Guardamos el modelo en un archivo .pkl y luego lo cargamos para hacer uso del mismo"
      ]
    },
    {
      "cell_type": "code",
      "execution_count": 81,
      "metadata": {
        "id": "y5PsqoaW92Lf"
      },
      "outputs": [],
      "source": [
        "with open('modelo_random_forest.pkl', 'wb') as file:\n",
        "    pickle.dump(best_random_forest, file)\n",
        "\n",
        "with open('modelo_random_forest.pkl', 'rb') as file:\n",
        "    loaded_model = pickle.load(file)"
      ]
    },
    {
      "cell_type": "markdown",
      "metadata": {
        "id": "WwHMxqq7qNjz"
      },
      "source": [
        "Realizamos las predicciones en el conjunto test_data, realizando el mapeo correspondiente para que vuelva a ser sentimiento positivo y negativo"
      ]
    },
    {
      "cell_type": "code",
      "execution_count": 82,
      "metadata": {
        "id": "y0z7sG2qqNwa"
      },
      "outputs": [],
      "source": [
        "y_test_data_pred = loaded_model.predict(X_test_data)\n",
        "y_test_data_pred = np.where(y_test_data_pred == 0, 'negativo', 'positivo')"
      ]
    },
    {
      "cell_type": "markdown",
      "metadata": {
        "id": "a2jI43XDqUo1"
      },
      "source": [
        "Obtenemos un dataframe con las predicciones con la estructura pedida en la consigna y lo descargamos para subirlo a la competencia de Kaggle"
      ]
    },
    {
      "cell_type": "code",
      "execution_count": 83,
      "metadata": {
        "id": "peXPV23S92Vr"
      },
      "outputs": [],
      "source": [
        "predictions_df = pd.DataFrame({'ID': test_data['ID'], 'sentimiento': y_test_data_pred})\n",
        "predictions_df.to_csv('predicciones_rf_final.csv', index=False)"
      ]
    }
  ],
  "metadata": {
    "colab": {
      "provenance": []
    },
    "kernelspec": {
      "display_name": "Python 3",
      "name": "python3"
    },
    "language_info": {
      "name": "python"
    }
  },
  "nbformat": 4,
  "nbformat_minor": 0
}