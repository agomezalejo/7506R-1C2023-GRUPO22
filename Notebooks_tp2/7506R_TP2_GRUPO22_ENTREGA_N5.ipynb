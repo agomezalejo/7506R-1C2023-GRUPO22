{
  "cells": [
    {
      "cell_type": "markdown",
      "source": [
        "## Importes"
      ],
      "metadata": {
        "id": "ltKeQx0ZyVnA"
      }
    },
    {
      "cell_type": "markdown",
      "source": [
        "Realizamos los importes necesarios para nuestro modelo"
      ],
      "metadata": {
        "id": "uP6dffpa0P46"
      }
    },
    {
      "cell_type": "code",
      "source": [
        "import pandas as pd\n",
        "import numpy as np\n",
        "import matplotlib.pyplot as plt\n",
        "import sklearn as skl\n",
        "import seaborn as sns\n",
        "import pickle\n",
        "\n",
        "from ast import literal_eval\n",
        "#La lista tokens en la columna tokens es en realidad una representación de una lista hecha con un string, literal_eval lo transforma en una lista real\n",
        "\n",
        "from sklearn.naive_bayes import MultinomialNB\n",
        "from sklearn.metrics import f1_score, recall_score, precision_score, accuracy_score, confusion_matrix\n",
        "from sklearn.model_selection import GridSearchCV, train_test_split, cross_val_predict\n",
        "from sklearn.linear_model import LogisticRegression\n",
        "from scipy.stats import randint\n",
        "from sklearn.feature_extraction.text import CountVectorizer"
      ],
      "metadata": {
        "id": "syJUsd2ZyZLy"
      },
      "execution_count": 47,
      "outputs": []
    },
    {
      "cell_type": "code",
      "source": [
        "partes_train = []\n",
        "cant_partes = 2\n",
        "for i in range(cant_partes):\n",
        "  parte = pd.read_csv(f'https://raw.githubusercontent.com/agomezalejo/7506R-1C2023-GRUPO22/main/train_tp2/train_data_procesado_FILTRADO_FINAL_parte_{i}.csv')\n",
        "  partes_train.append(parte)\n",
        "train_data = pd.concat(partes_train, ignore_index=True)\n",
        "\n",
        "test_url = \"https://raw.githubusercontent.com/agomezalejo/7506R-1C2023-GRUPO22/main/train_tp2/test_data_procesado_FILTRADO_FINAL.csv\"\n",
        "test_data = pd.read_csv(test_url)"
      ],
      "metadata": {
        "id": "WUP0Kecf7-FG"
      },
      "execution_count": 48,
      "outputs": []
    },
    {
      "cell_type": "markdown",
      "source": [
        "Concatenamos los tokens en una unica lista de texto y lo utilizamos para crear y entrenar el vectorizer; tanto para train como para test"
      ],
      "metadata": {
        "id": "rd69n-ag0Uzw"
      }
    },
    {
      "cell_type": "code",
      "source": [
        "#Transformamos train_data['tokens'] y test_data['tokens] en listas reales (antes eran representaciónes de lista hechas en string)\n",
        "train_data['tokens'] = train_data['tokens'].apply(literal_eval)\n",
        "test_data['tokens'] = test_data['tokens'].apply(literal_eval)\n",
        "\n",
        "vectorizer = CountVectorizer()\n",
        "\n",
        "corpus = [' '.join(tokens) for tokens in train_data['tokens']]\n",
        "X = vectorizer.fit_transform(corpus)\n",
        "\n",
        "corpus_test = [' '.join(tokens) for tokens in test_data['tokens']]\n",
        "X_test_data = vectorizer.transform(corpus_test)"
      ],
      "metadata": {
        "id": "EtE6-9QqzcGT"
      },
      "execution_count": 49,
      "outputs": []
    },
    {
      "cell_type": "markdown",
      "source": [
        "Obtenemos las etiquetas y dividivos los datos en conjunto de train y test"
      ],
      "metadata": {
        "id": "MjW2Y3vO0lsH"
      }
    },
    {
      "cell_type": "code",
      "source": [
        "y = train_data['sentimiento']\n",
        "\n",
        "X_train, X_test, y_train, y_test = train_test_split(X, y, test_size=0.3, random_state=42)"
      ],
      "metadata": {
        "id": "f8vEM4a6y01U"
      },
      "execution_count": 50,
      "outputs": []
    },
    {
      "cell_type": "markdown",
      "metadata": {
        "id": "SHz8k8SmOlD0"
      },
      "source": [
        "## Funciones"
      ]
    },
    {
      "cell_type": "markdown",
      "metadata": {
        "id": "nhY4EHlAOr6m"
      },
      "source": [
        "A Continuación, crearemos distintas funciones que serán utilizadas a lo largo del trabajo."
      ]
    },
    {
      "cell_type": "markdown",
      "metadata": {
        "id": "1xGOnNWUO1c6"
      },
      "source": [
        "### mostrar_resultados"
      ]
    },
    {
      "cell_type": "markdown",
      "metadata": {
        "id": "aj6e1f-_O5UW"
      },
      "source": [
        "Esta función, recibe los mejores parametros encontrados, los conjuntos de datos tanto de entrenamiento como de prueba y nos muestra las distintas metricas obtenidas del modelo."
      ]
    },
    {
      "cell_type": "code",
      "execution_count": 51,
      "metadata": {
        "id": "ge_SjDO_3ySr"
      },
      "outputs": [],
      "source": [
        "def mostrar_resultados(model, best_params, X_train, y_train, X_test, y_test):\n",
        "  print(\"Mejores hiperparámetros encontrados:\", best_params)\n",
        "\n",
        "  # Metricas en el conjunto de entrenamiento\n",
        "  y_train_pred = model.predict(X_train)\n",
        "\n",
        "  print(\"Métricas de evaluación en el conjunto de entrenamiento:\")\n",
        "  print(\"Accuracy:\", accuracy_score(y_train, y_train_pred))\n",
        "  print(\"Recall:\", recall_score(y_train, y_train_pred, average='macro'))\n",
        "  print(\"F1-Score:\", f1_score(y_train, y_train_pred, average='macro'))\n",
        "  print(\"Precision:\", precision_score(y_train, y_train_pred, average='macro'))\n",
        "\n",
        "  # Metricas en el conjunto de prueba\n",
        "  y_test_pred = model.predict(X_test)\n",
        "\n",
        "  print(\"\\nMétricas de evaluación en el conjunto de prueba:\")\n",
        "  print(\"Accuracy:\", accuracy_score(y_test, y_test_pred))\n",
        "  print(\"Recall:\", recall_score(y_test, y_test_pred, average='macro'))\n",
        "  print(\"F1-Score:\", f1_score(y_test, y_test_pred, average='macro'))\n",
        "  print(\"Precision:\", precision_score(y_test, y_test_pred, average='macro'))"
      ]
    },
    {
      "cell_type": "markdown",
      "metadata": {
        "id": "VpqNLkVo2Rqb"
      },
      "source": [
        "### mostrar_matriz_confusion"
      ]
    },
    {
      "cell_type": "markdown",
      "metadata": {
        "id": "Ph7nUtSx2VQp"
      },
      "source": [
        "La siguiuente función recibe un modelo, y los conjuntos de datos tanto de entrenamiento como de prueba y nos muestra la matriz de confusión correspondiente para cada caso"
      ]
    },
    {
      "cell_type": "code",
      "execution_count": 52,
      "metadata": {
        "id": "fBtVcqL4bU3L"
      },
      "outputs": [],
      "source": [
        "def mostrar_matriz_confusion(model, X_train, y_train, X_test, y_test):\n",
        "  y_train_pred = model.predict(X_train)\n",
        "  cm_train = confusion_matrix(y_train, y_train_pred)\n",
        "\n",
        "  class_labels = ['Negativo', 'Positivo']\n",
        "  fig, ax = plt.subplots(figsize=(6, 4))\n",
        "  sns.heatmap(cm_train, annot=True, cmap='Blues', fmt='d', xticklabels=class_labels, yticklabels=class_labels, ax=ax)\n",
        "  ax.set_xlabel('Predicted')\n",
        "  ax.set_ylabel('Actual')\n",
        "  ax.set_title('Matriz de Confusión en el conjunto de entrenamiento')\n",
        "  plt.show()\n",
        "\n",
        "  print(\"\\n\\n\")\n",
        "\n",
        "  y_test_pred = model.predict(X_test)\n",
        "  cm_train = confusion_matrix(y_test, y_test_pred)\n",
        "  class_labels = ['Negativo', 'Positivo']\n",
        "  fig, ax = plt.subplots(figsize=(6, 4))\n",
        "  sns.heatmap(cm_train, annot=True, cmap='Blues', fmt='d', xticklabels=class_labels, yticklabels=class_labels, ax=ax)\n",
        "  ax.set_xlabel('Predicted')\n",
        "  ax.set_ylabel('Actual')\n",
        "  ax.set_title('Matriz de Confusión en el conjunto de prueba')\n",
        "\n",
        "  plt.show()"
      ]
    },
    {
      "cell_type": "markdown",
      "metadata": {
        "id": "L2KeWOAA4_Aw"
      },
      "source": [
        "## Bayes Naieve"
      ]
    },
    {
      "cell_type": "markdown",
      "metadata": {
        "id": "6wKCbdZdVtNZ"
      },
      "source": [
        "Creamos el modelo de Bayes Naieve y definimos los hiperparámetros a usar"
      ]
    },
    {
      "cell_type": "code",
      "execution_count": 53,
      "metadata": {
        "id": "i5Ppp9CG4z9E"
      },
      "outputs": [],
      "source": [
        "naive_bayes = MultinomialNB()\n",
        "\n",
        "hyperparameters = {\n",
        "    'alpha': [1.0, 1.5, 2, 2.5, 2.9, 3, 3.1, 3.2, 3.3, 3.4, 3.5],\n",
        "    'fit_prior': [True, False],\n",
        "}"
      ]
    },
    {
      "cell_type": "markdown",
      "metadata": {
        "id": "X4pTpGTNV3g-"
      },
      "source": [
        "Opitmizamos hiperparametros utilizando Grid Search con Cross Validation de nivel 10"
      ]
    },
    {
      "cell_type": "code",
      "execution_count": 54,
      "metadata": {
        "id": "M30fM2siV3vk",
        "colab": {
          "base_uri": "https://localhost:8080/",
          "height": 117
        },
        "outputId": "73281e8a-de07-4159-f1e4-06727d1839aa"
      },
      "outputs": [
        {
          "output_type": "execute_result",
          "data": {
            "text/plain": [
              "GridSearchCV(cv=10, estimator=MultinomialNB(),\n",
              "             param_grid={'alpha': [1.0, 1.5, 2, 2.5, 2.9, 3, 3.1, 3.2, 3.3, 3.4,\n",
              "                                   3.5],\n",
              "                         'fit_prior': [True, False]},\n",
              "             scoring='f1')"
            ],
            "text/html": [
              "<style>#sk-container-id-9 {color: black;background-color: white;}#sk-container-id-9 pre{padding: 0;}#sk-container-id-9 div.sk-toggleable {background-color: white;}#sk-container-id-9 label.sk-toggleable__label {cursor: pointer;display: block;width: 100%;margin-bottom: 0;padding: 0.3em;box-sizing: border-box;text-align: center;}#sk-container-id-9 label.sk-toggleable__label-arrow:before {content: \"▸\";float: left;margin-right: 0.25em;color: #696969;}#sk-container-id-9 label.sk-toggleable__label-arrow:hover:before {color: black;}#sk-container-id-9 div.sk-estimator:hover label.sk-toggleable__label-arrow:before {color: black;}#sk-container-id-9 div.sk-toggleable__content {max-height: 0;max-width: 0;overflow: hidden;text-align: left;background-color: #f0f8ff;}#sk-container-id-9 div.sk-toggleable__content pre {margin: 0.2em;color: black;border-radius: 0.25em;background-color: #f0f8ff;}#sk-container-id-9 input.sk-toggleable__control:checked~div.sk-toggleable__content {max-height: 200px;max-width: 100%;overflow: auto;}#sk-container-id-9 input.sk-toggleable__control:checked~label.sk-toggleable__label-arrow:before {content: \"▾\";}#sk-container-id-9 div.sk-estimator input.sk-toggleable__control:checked~label.sk-toggleable__label {background-color: #d4ebff;}#sk-container-id-9 div.sk-label input.sk-toggleable__control:checked~label.sk-toggleable__label {background-color: #d4ebff;}#sk-container-id-9 input.sk-hidden--visually {border: 0;clip: rect(1px 1px 1px 1px);clip: rect(1px, 1px, 1px, 1px);height: 1px;margin: -1px;overflow: hidden;padding: 0;position: absolute;width: 1px;}#sk-container-id-9 div.sk-estimator {font-family: monospace;background-color: #f0f8ff;border: 1px dotted black;border-radius: 0.25em;box-sizing: border-box;margin-bottom: 0.5em;}#sk-container-id-9 div.sk-estimator:hover {background-color: #d4ebff;}#sk-container-id-9 div.sk-parallel-item::after {content: \"\";width: 100%;border-bottom: 1px solid gray;flex-grow: 1;}#sk-container-id-9 div.sk-label:hover label.sk-toggleable__label {background-color: #d4ebff;}#sk-container-id-9 div.sk-serial::before {content: \"\";position: absolute;border-left: 1px solid gray;box-sizing: border-box;top: 0;bottom: 0;left: 50%;z-index: 0;}#sk-container-id-9 div.sk-serial {display: flex;flex-direction: column;align-items: center;background-color: white;padding-right: 0.2em;padding-left: 0.2em;position: relative;}#sk-container-id-9 div.sk-item {position: relative;z-index: 1;}#sk-container-id-9 div.sk-parallel {display: flex;align-items: stretch;justify-content: center;background-color: white;position: relative;}#sk-container-id-9 div.sk-item::before, #sk-container-id-9 div.sk-parallel-item::before {content: \"\";position: absolute;border-left: 1px solid gray;box-sizing: border-box;top: 0;bottom: 0;left: 50%;z-index: -1;}#sk-container-id-9 div.sk-parallel-item {display: flex;flex-direction: column;z-index: 1;position: relative;background-color: white;}#sk-container-id-9 div.sk-parallel-item:first-child::after {align-self: flex-end;width: 50%;}#sk-container-id-9 div.sk-parallel-item:last-child::after {align-self: flex-start;width: 50%;}#sk-container-id-9 div.sk-parallel-item:only-child::after {width: 0;}#sk-container-id-9 div.sk-dashed-wrapped {border: 1px dashed gray;margin: 0 0.4em 0.5em 0.4em;box-sizing: border-box;padding-bottom: 0.4em;background-color: white;}#sk-container-id-9 div.sk-label label {font-family: monospace;font-weight: bold;display: inline-block;line-height: 1.2em;}#sk-container-id-9 div.sk-label-container {text-align: center;}#sk-container-id-9 div.sk-container {/* jupyter's `normalize.less` sets `[hidden] { display: none; }` but bootstrap.min.css set `[hidden] { display: none !important; }` so we also need the `!important` here to be able to override the default hidden behavior on the sphinx rendered scikit-learn.org. See: https://github.com/scikit-learn/scikit-learn/issues/21755 */display: inline-block !important;position: relative;}#sk-container-id-9 div.sk-text-repr-fallback {display: none;}</style><div id=\"sk-container-id-9\" class=\"sk-top-container\"><div class=\"sk-text-repr-fallback\"><pre>GridSearchCV(cv=10, estimator=MultinomialNB(),\n",
              "             param_grid={&#x27;alpha&#x27;: [1.0, 1.5, 2, 2.5, 2.9, 3, 3.1, 3.2, 3.3, 3.4,\n",
              "                                   3.5],\n",
              "                         &#x27;fit_prior&#x27;: [True, False]},\n",
              "             scoring=&#x27;f1&#x27;)</pre><b>In a Jupyter environment, please rerun this cell to show the HTML representation or trust the notebook. <br />On GitHub, the HTML representation is unable to render, please try loading this page with nbviewer.org.</b></div><div class=\"sk-container\" hidden><div class=\"sk-item sk-dashed-wrapped\"><div class=\"sk-label-container\"><div class=\"sk-label sk-toggleable\"><input class=\"sk-toggleable__control sk-hidden--visually\" id=\"sk-estimator-id-17\" type=\"checkbox\" ><label for=\"sk-estimator-id-17\" class=\"sk-toggleable__label sk-toggleable__label-arrow\">GridSearchCV</label><div class=\"sk-toggleable__content\"><pre>GridSearchCV(cv=10, estimator=MultinomialNB(),\n",
              "             param_grid={&#x27;alpha&#x27;: [1.0, 1.5, 2, 2.5, 2.9, 3, 3.1, 3.2, 3.3, 3.4,\n",
              "                                   3.5],\n",
              "                         &#x27;fit_prior&#x27;: [True, False]},\n",
              "             scoring=&#x27;f1&#x27;)</pre></div></div></div><div class=\"sk-parallel\"><div class=\"sk-parallel-item\"><div class=\"sk-item\"><div class=\"sk-label-container\"><div class=\"sk-label sk-toggleable\"><input class=\"sk-toggleable__control sk-hidden--visually\" id=\"sk-estimator-id-18\" type=\"checkbox\" ><label for=\"sk-estimator-id-18\" class=\"sk-toggleable__label sk-toggleable__label-arrow\">estimator: MultinomialNB</label><div class=\"sk-toggleable__content\"><pre>MultinomialNB()</pre></div></div></div><div class=\"sk-serial\"><div class=\"sk-item\"><div class=\"sk-estimator sk-toggleable\"><input class=\"sk-toggleable__control sk-hidden--visually\" id=\"sk-estimator-id-19\" type=\"checkbox\" ><label for=\"sk-estimator-id-19\" class=\"sk-toggleable__label sk-toggleable__label-arrow\">MultinomialNB</label><div class=\"sk-toggleable__content\"><pre>MultinomialNB()</pre></div></div></div></div></div></div></div></div></div></div>"
            ]
          },
          "metadata": {},
          "execution_count": 54
        }
      ],
      "source": [
        "grid_search = GridSearchCV(naive_bayes, hyperparameters, scoring='f1', cv=10)\n",
        "grid_search.fit(X_train, y_train)"
      ]
    },
    {
      "cell_type": "markdown",
      "metadata": {
        "id": "eh25bP_9WOup"
      },
      "source": [
        "Obteneoms los mejores parametros encontrados y creamos el modelo a partir de ellos"
      ]
    },
    {
      "cell_type": "code",
      "execution_count": 55,
      "metadata": {
        "id": "V2emgtAMWO7L",
        "colab": {
          "base_uri": "https://localhost:8080/",
          "height": 74
        },
        "outputId": "7e76849e-ba65-4092-ef4a-a77ece445a96"
      },
      "outputs": [
        {
          "output_type": "execute_result",
          "data": {
            "text/plain": [
              "MultinomialNB(alpha=3, fit_prior=False)"
            ],
            "text/html": [
              "<style>#sk-container-id-10 {color: black;background-color: white;}#sk-container-id-10 pre{padding: 0;}#sk-container-id-10 div.sk-toggleable {background-color: white;}#sk-container-id-10 label.sk-toggleable__label {cursor: pointer;display: block;width: 100%;margin-bottom: 0;padding: 0.3em;box-sizing: border-box;text-align: center;}#sk-container-id-10 label.sk-toggleable__label-arrow:before {content: \"▸\";float: left;margin-right: 0.25em;color: #696969;}#sk-container-id-10 label.sk-toggleable__label-arrow:hover:before {color: black;}#sk-container-id-10 div.sk-estimator:hover label.sk-toggleable__label-arrow:before {color: black;}#sk-container-id-10 div.sk-toggleable__content {max-height: 0;max-width: 0;overflow: hidden;text-align: left;background-color: #f0f8ff;}#sk-container-id-10 div.sk-toggleable__content pre {margin: 0.2em;color: black;border-radius: 0.25em;background-color: #f0f8ff;}#sk-container-id-10 input.sk-toggleable__control:checked~div.sk-toggleable__content {max-height: 200px;max-width: 100%;overflow: auto;}#sk-container-id-10 input.sk-toggleable__control:checked~label.sk-toggleable__label-arrow:before {content: \"▾\";}#sk-container-id-10 div.sk-estimator input.sk-toggleable__control:checked~label.sk-toggleable__label {background-color: #d4ebff;}#sk-container-id-10 div.sk-label input.sk-toggleable__control:checked~label.sk-toggleable__label {background-color: #d4ebff;}#sk-container-id-10 input.sk-hidden--visually {border: 0;clip: rect(1px 1px 1px 1px);clip: rect(1px, 1px, 1px, 1px);height: 1px;margin: -1px;overflow: hidden;padding: 0;position: absolute;width: 1px;}#sk-container-id-10 div.sk-estimator {font-family: monospace;background-color: #f0f8ff;border: 1px dotted black;border-radius: 0.25em;box-sizing: border-box;margin-bottom: 0.5em;}#sk-container-id-10 div.sk-estimator:hover {background-color: #d4ebff;}#sk-container-id-10 div.sk-parallel-item::after {content: \"\";width: 100%;border-bottom: 1px solid gray;flex-grow: 1;}#sk-container-id-10 div.sk-label:hover label.sk-toggleable__label {background-color: #d4ebff;}#sk-container-id-10 div.sk-serial::before {content: \"\";position: absolute;border-left: 1px solid gray;box-sizing: border-box;top: 0;bottom: 0;left: 50%;z-index: 0;}#sk-container-id-10 div.sk-serial {display: flex;flex-direction: column;align-items: center;background-color: white;padding-right: 0.2em;padding-left: 0.2em;position: relative;}#sk-container-id-10 div.sk-item {position: relative;z-index: 1;}#sk-container-id-10 div.sk-parallel {display: flex;align-items: stretch;justify-content: center;background-color: white;position: relative;}#sk-container-id-10 div.sk-item::before, #sk-container-id-10 div.sk-parallel-item::before {content: \"\";position: absolute;border-left: 1px solid gray;box-sizing: border-box;top: 0;bottom: 0;left: 50%;z-index: -1;}#sk-container-id-10 div.sk-parallel-item {display: flex;flex-direction: column;z-index: 1;position: relative;background-color: white;}#sk-container-id-10 div.sk-parallel-item:first-child::after {align-self: flex-end;width: 50%;}#sk-container-id-10 div.sk-parallel-item:last-child::after {align-self: flex-start;width: 50%;}#sk-container-id-10 div.sk-parallel-item:only-child::after {width: 0;}#sk-container-id-10 div.sk-dashed-wrapped {border: 1px dashed gray;margin: 0 0.4em 0.5em 0.4em;box-sizing: border-box;padding-bottom: 0.4em;background-color: white;}#sk-container-id-10 div.sk-label label {font-family: monospace;font-weight: bold;display: inline-block;line-height: 1.2em;}#sk-container-id-10 div.sk-label-container {text-align: center;}#sk-container-id-10 div.sk-container {/* jupyter's `normalize.less` sets `[hidden] { display: none; }` but bootstrap.min.css set `[hidden] { display: none !important; }` so we also need the `!important` here to be able to override the default hidden behavior on the sphinx rendered scikit-learn.org. See: https://github.com/scikit-learn/scikit-learn/issues/21755 */display: inline-block !important;position: relative;}#sk-container-id-10 div.sk-text-repr-fallback {display: none;}</style><div id=\"sk-container-id-10\" class=\"sk-top-container\"><div class=\"sk-text-repr-fallback\"><pre>MultinomialNB(alpha=3, fit_prior=False)</pre><b>In a Jupyter environment, please rerun this cell to show the HTML representation or trust the notebook. <br />On GitHub, the HTML representation is unable to render, please try loading this page with nbviewer.org.</b></div><div class=\"sk-container\" hidden><div class=\"sk-item\"><div class=\"sk-estimator sk-toggleable\"><input class=\"sk-toggleable__control sk-hidden--visually\" id=\"sk-estimator-id-20\" type=\"checkbox\" checked><label for=\"sk-estimator-id-20\" class=\"sk-toggleable__label sk-toggleable__label-arrow\">MultinomialNB</label><div class=\"sk-toggleable__content\"><pre>MultinomialNB(alpha=3, fit_prior=False)</pre></div></div></div></div></div>"
            ]
          },
          "metadata": {},
          "execution_count": 55
        }
      ],
      "source": [
        "best_params = grid_search.best_params_\n",
        "\n",
        "best_naive_bayes = MultinomialNB(alpha=best_params['alpha'], fit_prior=best_params['fit_prior'])\n",
        "best_naive_bayes.fit(X_train, y_train)"
      ]
    },
    {
      "cell_type": "markdown",
      "metadata": {
        "id": "EKLUENmwWb85"
      },
      "source": [
        "Procedemos a mostrar las metricas obtenidas con nuestro modelo. Vemos que en entrenamiento tiene bastante mejor resultado que en prueba. Lo que ocurre probablemente es que existe overfiting."
      ]
    },
    {
      "cell_type": "code",
      "execution_count": 56,
      "metadata": {
        "id": "10DTrV3i4nQ_",
        "colab": {
          "base_uri": "https://localhost:8080/"
        },
        "outputId": "cc75ac17-e512-4821-86c2-7a73e664888a"
      },
      "outputs": [
        {
          "output_type": "stream",
          "name": "stdout",
          "text": [
            "Mejores hiperparámetros encontrados: {'alpha': 3, 'fit_prior': False}\n",
            "Métricas de evaluación en el conjunto de entrenamiento:\n",
            "Accuracy: 0.8619816100581723\n",
            "Recall: 0.8619719098174823\n",
            "F1-Score: 0.8619769894301075\n",
            "Precision: 0.8619931338413395\n",
            "\n",
            "Métricas de evaluación en el conjunto de prueba:\n",
            "Accuracy: 0.8349387040280211\n",
            "Recall: 0.8349446223050854\n",
            "F1-Score: 0.8349385774630933\n",
            "Precision: 0.8349482179399319\n"
          ]
        }
      ],
      "source": [
        "mostrar_resultados(best_naive_bayes, best_params, X_train, y_train, X_test, y_test)"
      ]
    },
    {
      "cell_type": "markdown",
      "source": [
        "Se puede observar que existe cierto sobre ajuste en nuestro modelo"
      ],
      "metadata": {
        "id": "dJIcXCZzMNEU"
      }
    },
    {
      "cell_type": "markdown",
      "metadata": {
        "id": "tyZJrZiBhWmK"
      },
      "source": [
        "Ahora observamos la matriz de confusión tanto para entrenamiento como para prueba"
      ]
    },
    {
      "cell_type": "code",
      "execution_count": 57,
      "metadata": {
        "id": "ZcDkjboomPTV",
        "colab": {
          "base_uri": "https://localhost:8080/",
          "height": 857
        },
        "outputId": "98691ea6-43e4-47e0-e08e-6e4a3bb927c2"
      },
      "outputs": [
        {
          "output_type": "display_data",
          "data": {
            "text/plain": [
              "<Figure size 600x400 with 2 Axes>"
            ],
            "image/png": "[encoded data removed]"
          },
          "metadata": {}
        },
        {
          "output_type": "stream",
          "name": "stdout",
          "text": [
            "\n",
            "\n",
            "\n"
          ]
        },
        {
          "output_type": "display_data",
          "data": {
            "text/plain": [
              "<Figure size 600x400 with 2 Axes>"
            ],
            "image/png": "[encoded data removed]"
          },
          "metadata": {}
        }
      ],
      "source": [
        "mostrar_matriz_confusion(best_naive_bayes, X_train, y_train, X_test, y_test)"
      ]
    },
    {
      "cell_type": "markdown",
      "metadata": {
        "id": "obozuV-FhfMq"
      },
      "source": [
        "Guardamos el modelo en un archivo .pkl y luego lo cargamos para hacer uso del mismo"
      ]
    },
    {
      "cell_type": "code",
      "execution_count": 58,
      "metadata": {
        "id": "UxRQgg0Y3yYh"
      },
      "outputs": [],
      "source": [
        "with open('modelo_naive_bayes.pkl', 'wb') as file:\n",
        "    pickle.dump(best_naive_bayes, file)\n",
        "\n",
        "with open('modelo_naive_bayes.pkl', 'rb') as file:\n",
        "    loaded_model = pickle.load(file)"
      ]
    },
    {
      "cell_type": "markdown",
      "metadata": {
        "id": "YP6F7YaDhmqx"
      },
      "source": [
        "Realizamos las predicciones en el conjunto test_data, realizando el mapeo correspondiente para que vuelva a ser sentimiento positivo y negativo"
      ]
    },
    {
      "cell_type": "code",
      "execution_count": 59,
      "metadata": {
        "id": "GIPOlHDOhm28"
      },
      "outputs": [],
      "source": [
        "y_test_data_pred = loaded_model.predict(X_test_data)\n",
        "y_test_data_pred = np.where(y_test_data_pred == 0, 'negativo', 'positivo')"
      ]
    },
    {
      "cell_type": "markdown",
      "metadata": {
        "id": "Nr6YH8uGh3U8"
      },
      "source": [
        "Obtenemos un dataframe con las predicciones con la estructura pedida en la consigna y lo descargamos para subirlo a la competencia de Kaggle"
      ]
    },
    {
      "cell_type": "code",
      "execution_count": 60,
      "metadata": {
        "id": "y0wTXymD3ycE"
      },
      "outputs": [],
      "source": [
        "predictions_df = pd.DataFrame({'ID': test_data['ID'], 'sentimiento': y_test_data_pred})\n",
        "predictions_df.to_csv('predicciones_bn_final.csv', index=False)"
      ]
    }
  ],
  "metadata": {
    "colab": {
      "provenance": [],
      "collapsed_sections": [
        "SHz8k8SmOlD0"
      ]
    },
    "kernelspec": {
      "display_name": "Python 3",
      "name": "python3"
    },
    "language_info": {
      "name": "python"
    }
  },
  "nbformat": 4,
  "nbformat_minor": 0
}