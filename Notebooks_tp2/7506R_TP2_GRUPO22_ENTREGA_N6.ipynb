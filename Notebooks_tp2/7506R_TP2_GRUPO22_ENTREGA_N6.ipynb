{
  "cells": [
    {
      "cell_type": "markdown",
      "metadata": {
        "id": "ltKeQx0ZyVnA"
      },
      "source": [
        "# Importes"
      ]
    },
    {
      "cell_type": "markdown",
      "metadata": {
        "id": "uP6dffpa0P46"
      },
      "source": [
        "Realizamos los importes necesarios para nuestro modelo"
      ]
    },
    {
      "cell_type": "code",
      "execution_count": 167,
      "metadata": {
        "id": "syJUsd2ZyZLy"
      },
      "outputs": [],
      "source": [
        "import pandas as pd\n",
        "import numpy as np\n",
        "import matplotlib.pyplot as plt\n",
        "import sklearn as skl\n",
        "import pickle\n",
        "import seaborn as sns\n",
        "\n",
        "from ast import literal_eval\n",
        "#La lista tokens en la columna tokens es en realidad una representación de una lista hecha con un string, literal_eval lo transforma en una lista real\n",
        "\n",
        "from sklearn.metrics import f1_score, recall_score, precision_score, accuracy_score, confusion_matrix, classification_report, make_scorer\n",
        "from sklearn.model_selection import RandomizedSearchCV, train_test_split, cross_val_predict, KFold\n",
        "from sklearn.linear_model import LogisticRegression\n",
        "from scipy.stats import randint\n",
        "from sklearn.feature_extraction.text import CountVectorizer, TfidfVectorizer, HashingVectorizer\n",
        "from sklearn.preprocessing import StandardScaler\n",
        "\n",
        "import tensorflow as tf\n",
        "from tensorflow import keras\n",
        "from keras.models import Sequential\n",
        "from keras.layers import Dense, Dropout, Embedding, LSTM\n",
        "from keras.preprocessing import sequence\n",
        "from keras.utils.vis_utils import plot_model\n",
        "from keras.wrappers.scikit_learn import KerasClassifier\n",
        "from keras.regularizers import l1\n",
        "import keras.backend as K\n",
        "\n",
        "import scipy.sparse as sp\n",
        "from scipy.sparse import csr_matrix\n",
        "\n",
        "import warnings\n",
        "warnings.filterwarnings(\"ignore\", category=DeprecationWarning)"
      ]
    },
    {
      "cell_type": "code",
      "execution_count": 168,
      "metadata": {
        "id": "0ToCjuoP0xlh"
      },
      "outputs": [],
      "source": [
        "partes_train = []\n",
        "cant_partes = 2\n",
        "for i in range(cant_partes):\n",
        "  parte = pd.read_csv(f'https://raw.githubusercontent.com/agomezalejo/7506R-1C2023-GRUPO22/main/train_tp2/train_data_procesado_FILTRADO_FINAL_parte_{i}.csv')\n",
        "  partes_train.append(parte)\n",
        "train_data = pd.concat(partes_train, ignore_index=True)\n",
        "\n",
        "test_url = \"https://raw.githubusercontent.com/agomezalejo/7506R-1C2023-GRUPO22/main/train_tp2/test_data_procesado_FILTRADO_FINAL.csv\"\n",
        "test_data = pd.read_csv(test_url)"
      ]
    },
    {
      "cell_type": "markdown",
      "metadata": {
        "id": "iKhPeTyM3um6"
      },
      "source": [
        "Nos aseguramos de que se hayan importado correctamente"
      ]
    },
    {
      "cell_type": "code",
      "execution_count": 169,
      "metadata": {
        "colab": {
          "base_uri": "https://localhost:8080/"
        },
        "id": "upM6Hokq3l62",
        "outputId": "26cab784-38ba-4391-fee4-cac276a1c72e"
      },
      "outputs": [
        {
          "output_type": "execute_result",
          "data": {
            "text/plain": [
              "(45678, 2)"
            ]
          },
          "metadata": {},
          "execution_count": 169
        }
      ],
      "source": [
        "train_data.shape"
      ]
    },
    {
      "cell_type": "code",
      "execution_count": 170,
      "metadata": {
        "colab": {
          "base_uri": "https://localhost:8080/"
        },
        "id": "U9lcimII6G1h",
        "outputId": "4c00e9c1-e3d7-453a-f31a-462f3c99aac6"
      },
      "outputs": [
        {
          "output_type": "execute_result",
          "data": {
            "text/plain": [
              "(8599, 2)"
            ]
          },
          "metadata": {},
          "execution_count": 170
        }
      ],
      "source": [
        "test_data.shape"
      ]
    },
    {
      "cell_type": "markdown",
      "metadata": {
        "id": "rd69n-ag0Uzw"
      },
      "source": [
        "Concatenamos los tokens en una unica lista de texto y lo utilizamos para crear y entrenar el vectorizer; tanto para train como para test"
      ]
    },
    {
      "cell_type": "code",
      "execution_count": 171,
      "metadata": {
        "id": "EtE6-9QqzcGT"
      },
      "outputs": [],
      "source": [
        "#Transformamos train_data['tokens'] y test_data['tokens] en listas reales (antes eran representaciónes de lista hechas en string)\n",
        "train_data['tokens'] = train_data['tokens'].apply(literal_eval)\n",
        "test_data['tokens'] = test_data['tokens'].apply(literal_eval)\n",
        "\n",
        "vectorizer = CountVectorizer()\n",
        "\n",
        "corpus = [' '.join(tokens) for tokens in train_data['tokens']]\n",
        "X = vectorizer.fit_transform(corpus)\n",
        "\n",
        "corpus_test = [' '.join(tokens) for tokens in test_data['tokens']]\n",
        "X_test_data = vectorizer.transform(corpus_test)"
      ]
    },
    {
      "cell_type": "markdown",
      "metadata": {
        "id": "MjW2Y3vO0lsH"
      },
      "source": [
        "Obtenemos las etiquetas y dividivos los datos en conjunto de train y test"
      ]
    },
    {
      "cell_type": "code",
      "execution_count": 172,
      "metadata": {
        "id": "f8vEM4a6y01U"
      },
      "outputs": [],
      "source": [
        "y = train_data['sentimiento'].values\n",
        "\n",
        "X_train, X_test, y_train, y_test = train_test_split(X, y, test_size=0.3, random_state=42)\n",
        "\n",
        "scaler = StandardScaler(with_mean=False)\n",
        "X_train_scaled = scaler.fit_transform(X_train)\n",
        "X_test_scaled = scaler.fit_transform(X_test)"
      ]
    },
    {
      "cell_type": "markdown",
      "metadata": {
        "id": "SHz8k8SmOlD0"
      },
      "source": [
        "# Funciones"
      ]
    },
    {
      "cell_type": "markdown",
      "metadata": {
        "id": "nhY4EHlAOr6m"
      },
      "source": [
        "A Continuación, crearemos distintas funciones que serán utilizadas a lo largo del trabajo."
      ]
    },
    {
      "cell_type": "markdown",
      "metadata": {
        "id": "1xGOnNWUO1c6"
      },
      "source": [
        "### mostrar_resultados"
      ]
    },
    {
      "cell_type": "markdown",
      "metadata": {
        "id": "aj6e1f-_O5UW"
      },
      "source": [
        "Esta función, recibe los mejores parametros encontrados, los conjuntos de datos tanto de entrenamiento como de prueba y nos muestra las distintas metricas obtenidas del modelo."
      ]
    },
    {
      "cell_type": "code",
      "execution_count": 173,
      "metadata": {
        "id": "ge_SjDO_3ySr"
      },
      "outputs": [],
      "source": [
        "def mostrar_resultados(model, best_params, X_train, y_train, X_test, y_test):\n",
        "  print(\"Mejores hiperparámetros encontrados:\", best_params)\n",
        "\n",
        "  # Metricas en el conjunto de entrenamiento\n",
        "  y_train_pred = model.predict(X_train)\n",
        "\n",
        "  print(\"Métricas de evaluación en el conjunto de entrenamiento:\")\n",
        "  print(\"Accuracy:\", accuracy_score(y_train, y_train_pred))\n",
        "  print(\"Recall:\", recall_score(y_train, y_train_pred, average='macro'))\n",
        "  print(\"F1-Score:\", f1_score(y_train, y_train_pred, average='macro'))\n",
        "  print(\"Precision:\", precision_score(y_train, y_train_pred, average='macro'))\n",
        "\n",
        "  # Metricas en el conjunto de prueba\n",
        "  y_test_pred = model.predict(X_test)\n",
        "\n",
        "  print(\"\\nMétricas de evaluación en el conjunto de prueba:\")\n",
        "  print(\"Accuracy:\", accuracy_score(y_test, y_test_pred))\n",
        "  print(\"Recall:\", recall_score(y_test, y_test_pred, average='macro'))\n",
        "  print(\"F1-Score:\", f1_score(y_test, y_test_pred, average='macro'))\n",
        "  print(\"Precision:\", precision_score(y_test, y_test_pred, average='macro'))"
      ]
    },
    {
      "cell_type": "markdown",
      "metadata": {
        "id": "VpqNLkVo2Rqb"
      },
      "source": [
        "### mostrar_matriz_confusion"
      ]
    },
    {
      "cell_type": "markdown",
      "metadata": {
        "id": "Ph7nUtSx2VQp"
      },
      "source": [
        "La siguiuente función recibe un modelo, y los conjuntos de datos tanto de entrenamiento como de prueba y nos muestra la matriz de confusión correspondiente para cada caso"
      ]
    },
    {
      "cell_type": "code",
      "execution_count": 174,
      "metadata": {
        "id": "fBtVcqL4bU3L"
      },
      "outputs": [],
      "source": [
        "def mostrar_matriz_confusion(model, X_train, y_train, X_test, y_test):\n",
        "  y_train_pred = model.predict(X_train)\n",
        "  cm_train = confusion_matrix(y_train, y_train_pred)\n",
        "\n",
        "  class_labels = ['Negativo', 'Positivo']\n",
        "  fig, ax = plt.subplots(figsize=(6, 4))\n",
        "  sns.heatmap(cm_train, annot=True, cmap='Blues', fmt='d', xticklabels=class_labels, yticklabels=class_labels, ax=ax)\n",
        "  ax.set_xlabel('Predicted')\n",
        "  ax.set_ylabel('Actual')\n",
        "  ax.set_title('Matriz de Confusión en el conjunto de entrenamiento')\n",
        "  plt.show()\n",
        "\n",
        "  print(\"\\n\\n\")\n",
        "\n",
        "  y_test_pred = model.predict(X_test)\n",
        "  cm_train = confusion_matrix(y_test, y_test_pred)\n",
        "  class_labels = ['Negativo', 'Positivo']\n",
        "  fig, ax = plt.subplots(figsize=(6, 4))\n",
        "  sns.heatmap(cm_train, annot=True, cmap='Blues', fmt='d', xticklabels=class_labels, yticklabels=class_labels, ax=ax)\n",
        "  ax.set_xlabel('Predicted')\n",
        "  ax.set_ylabel('Actual')\n",
        "  ax.set_title('Matriz de Confusión en el conjunto de prueba')\n",
        "\n",
        "  plt.show()"
      ]
    },
    {
      "cell_type": "markdown",
      "metadata": {
        "id": "Egmmtv8UTbDB"
      },
      "source": [
        "### get_f1"
      ]
    },
    {
      "cell_type": "markdown",
      "metadata": {
        "id": "2RmSOgKtTeo-"
      },
      "source": [
        "Creamos una función para que la red pueda usar el puntaje F1 como métrica"
      ]
    },
    {
      "cell_type": "code",
      "execution_count": 175,
      "metadata": {
        "id": "R6TJzF8FTaUP"
      },
      "outputs": [],
      "source": [
        "def get_f1(y_true, y_pred):\n",
        "    true_positives = K.sum(K.round(K.clip(y_true * y_pred, 0, 1)))\n",
        "    possible_positives = K.sum(K.round(K.clip(y_true, 0, 1)))\n",
        "    predicted_positives = K.sum(K.round(K.clip(y_pred, 0, 1)))\n",
        "    precision = true_positives / (predicted_positives + K.epsilon())\n",
        "    recall = true_positives / (possible_positives + K.epsilon())\n",
        "    f1_val = 2*(precision*recall)/(precision+recall+K.epsilon())\n",
        "    return f1_val"
      ]
    },
    {
      "cell_type": "markdown",
      "metadata": {
        "id": "envaUp8zHlO9"
      },
      "source": [
        "### create_model"
      ]
    },
    {
      "cell_type": "markdown",
      "metadata": {
        "id": "euQVur1dHpSP"
      },
      "source": [
        "\n",
        "\n",
        "Creamos una funcion para crear la red. Esta tiene una capa de input, dos capas ocultas y una de output. La cantidad de neuronas de las primeras 3 capas es optimizada utilizando CrossValidation, mientras que la última solo tiene dos neuronas.\n"
      ]
    },
    {
      "cell_type": "code",
      "execution_count": 176,
      "metadata": {
        "id": "TQXw1KojHvdp"
      },
      "outputs": [],
      "source": [
        "cant_clases=len(np.unique(y_train))"
      ]
    },
    {
      "cell_type": "code",
      "execution_count": 177,
      "metadata": {
        "id": "ObYBb33rHkii"
      },
      "outputs": [],
      "source": [
        "def create_model(optimizer='adam', activation='relu', neurons=64, neurons_2=32, neurons_3=32, neurons_4=32, neurons_5=32, regularizer=None):\n",
        "  modelo = keras.Sequential([\n",
        "      keras.layers.Dense(neurons, input_shape=(X_train.shape[1],), activation=activation, kernel_initializer='uniform', kernel_regularizer=regularizer),\n",
        "      keras.layers.Dense(neurons_2, activation=activation, kernel_regularizer=regularizer),\n",
        "      keras.layers.Dense(neurons_3, activation=activation, kernel_regularizer=regularizer),\n",
        "      keras.layers.Dense(neurons_4, activation=activation, kernel_regularizer=regularizer),\n",
        "      keras.layers.Dense(neurons_5, activation=activation, kernel_regularizer=regularizer),\n",
        "      keras.layers.Dense(1, activation='sigmoid')\n",
        "  ])\n",
        "\n",
        "  modelo.compile(\n",
        "      optimizer=optimizer,\n",
        "      loss='binary_crossentropy',\n",
        "      metrics=['accuracy', [get_f1]]\n",
        "  )\n",
        "\n",
        "  modelo.summary()\n",
        "\n",
        "  return modelo"
      ]
    },
    {
      "cell_type": "markdown",
      "metadata": {
        "id": "0SHdV68zC0vZ"
      },
      "source": [
        "# Red Neuronal"
      ]
    },
    {
      "cell_type": "markdown",
      "source": [
        "A continuación procedemos a entrenar una red neuronal usando K-Fold CrossValidation. Procuramos mantener un numero de folds e iteraciones bajo debido a las limitaciones técnicas de colab."
      ],
      "metadata": {
        "id": "7_7kL1aNxmpS"
      }
    },
    {
      "cell_type": "code",
      "execution_count": 178,
      "metadata": {
        "colab": {
          "base_uri": "https://localhost:8080/"
        },
        "id": "-AsYFGFWFhBW",
        "outputId": "7679e315-18e0-4943-cf38-0d4303adbfb9"
      },
      "outputs": [
        {
          "output_type": "stream",
          "name": "stdout",
          "text": [
            "Fitting 2 folds for each of 5 candidates, totalling 10 fits\n",
            "Model: \"sequential_16\"\n",
            "_________________________________________________________________\n",
            " Layer (type)                Output Shape              Param #   \n",
            "=================================================================\n",
            " dense_77 (Dense)            (None, 384)               5983872   \n",
            "                                                                 \n",
            " dense_78 (Dense)            (None, 236)               90860     \n",
            "                                                                 \n",
            " dense_79 (Dense)            (None, 457)               108309    \n",
            "                                                                 \n",
            " dense_80 (Dense)            (None, 157)               71906     \n",
            "                                                                 \n",
            " dense_81 (Dense)            (None, 289)               45662     \n",
            "                                                                 \n",
            " dense_82 (Dense)            (None, 1)                 290       \n",
            "                                                                 \n",
            "=================================================================\n",
            "Total params: 6,300,899\n",
            "Trainable params: 6,300,899\n",
            "Non-trainable params: 0\n",
            "_________________________________________________________________\n",
            "1000/1000 [==============================] - 58s 56ms/step - loss: 2.6537 - accuracy: 0.7584 - get_f1: 0.7504\n"
          ]
        }
      ],
      "source": [
        "param_dist = {\n",
        "    'optimizer': ['adam', 'nadam'],\n",
        "    'activation': ['relu', 'sigmoid'],\n",
        "    'neurons': np.linspace(16,384,32),\n",
        "    'neurons_2': np.linspace(16,748,64),\n",
        "    'neurons_3': np.linspace(16,748,64),\n",
        "    'neurons_4': np.linspace(16,748,32),\n",
        "    'neurons_5': np.linspace(16,384,32),\n",
        "    'regularizer': [keras.regularizers.l1(0.01), keras.regularizers.l2(0.01), keras.regularizers.l1_l2(l1=0.01, l2=0.01)]\n",
        "}\n",
        "\n",
        "modelo_cv = KerasClassifier(build_fn=create_model)\n",
        "k = 2\n",
        "kf = KFold(n_splits=k)\n",
        "\n",
        "random_search = RandomizedSearchCV(\n",
        "    estimator=modelo_cv,\n",
        "    param_distributions=param_dist,\n",
        "    n_iter=5,\n",
        "    cv=kf,\n",
        "    verbose=10,\n",
        "    random_state=42,\n",
        "    n_jobs=-1,\n",
        "    error_score='raise'\n",
        ")\n",
        "\n",
        "random_search.fit(X_train_scaled, y_train)\n",
        "\n",
        "best_params = random_search.best_params_\n",
        "best_model = random_search.best_estimator_"
      ]
    },
    {
      "cell_type": "markdown",
      "source": [
        "Luego, asignamos la cantidad de ciclos que nos interesa analizar. En nuestro caso consideramos que 10 ciclos es suficiente, ya que a continuación veremos como los gráficos muestran un crecimiento asintótico facilmente notable a la vista."
      ],
      "metadata": {
        "id": "46AxSgt6x7bC"
      }
    },
    {
      "cell_type": "code",
      "execution_count": 179,
      "metadata": {
        "id": "OiPYSdZpFjc2"
      },
      "outputs": [],
      "source": [
        "cant_epochs = 10"
      ]
    },
    {
      "cell_type": "code",
      "execution_count": 180,
      "metadata": {
        "id": "w_YpRjZmFlWb",
        "colab": {
          "base_uri": "https://localhost:8080/"
        },
        "outputId": "3ddc990b-9403-4de2-a055-3f5d5d8e20be"
      },
      "outputs": [
        {
          "output_type": "stream",
          "name": "stdout",
          "text": [
            "Model: \"sequential_17\"\n",
            "_________________________________________________________________\n",
            " Layer (type)                Output Shape              Param #   \n",
            "=================================================================\n",
            " dense_83 (Dense)            (None, 384)               5983872   \n",
            "                                                                 \n",
            " dense_84 (Dense)            (None, 236)               90860     \n",
            "                                                                 \n",
            " dense_85 (Dense)            (None, 457)               108309    \n",
            "                                                                 \n",
            " dense_86 (Dense)            (None, 157)               71906     \n",
            "                                                                 \n",
            " dense_87 (Dense)            (None, 289)               45662     \n",
            "                                                                 \n",
            " dense_88 (Dense)            (None, 1)                 290       \n",
            "                                                                 \n",
            "=================================================================\n",
            "Total params: 6,300,899\n",
            "Trainable params: 6,300,899\n",
            "Non-trainable params: 0\n",
            "_________________________________________________________________\n",
            "Epoch 1/10\n",
            "1999/1999 [==============================] - 115s 56ms/step - loss: 2.0102 - accuracy: 0.7640 - get_f1: 0.7511\n",
            "Epoch 2/10\n",
            "1999/1999 [==============================] - 116s 58ms/step - loss: 0.8150 - accuracy: 0.8260 - get_f1: 0.8193\n",
            "Epoch 3/10\n",
            "1999/1999 [==============================] - 116s 58ms/step - loss: 0.6741 - accuracy: 0.8432 - get_f1: 0.8357\n",
            "Epoch 4/10\n",
            "1999/1999 [==============================] - 114s 57ms/step - loss: 0.6443 - accuracy: 0.8464 - get_f1: 0.8423\n",
            "Epoch 5/10\n",
            "1999/1999 [==============================] - 118s 59ms/step - loss: 0.6328 - accuracy: 0.8463 - get_f1: 0.8411\n",
            "Epoch 6/10\n",
            "1999/1999 [==============================] - 120s 60ms/step - loss: 0.5922 - accuracy: 0.8520 - get_f1: 0.8470\n",
            "Epoch 7/10\n",
            "1999/1999 [==============================] - 112s 56ms/step - loss: 0.6126 - accuracy: 0.8510 - get_f1: 0.8454\n",
            "Epoch 8/10\n",
            "1999/1999 [==============================] - 112s 56ms/step - loss: 0.5780 - accuracy: 0.8519 - get_f1: 0.8463\n",
            "Epoch 9/10\n",
            "1999/1999 [==============================] - 118s 59ms/step - loss: 0.5621 - accuracy: 0.8559 - get_f1: 0.8508\n",
            "Epoch 10/10\n",
            "1999/1999 [==============================] - 113s 56ms/step - loss: 0.5568 - accuracy: 0.8544 - get_f1: 0.8482\n",
            "1000/1000 [==============================] - 3s 3ms/step\n",
            "429/429 [==============================] - 1s 3ms/step\n"
          ]
        }
      ],
      "source": [
        "historia_modelo = best_model.fit(X_train_scaled, y_train, epochs=cant_epochs, batch_size=16)\n",
        "\n",
        "y_pred_train = best_model.predict(X_train_scaled)\n",
        "f1_train = f1_score(y_train, y_pred_train)\n",
        "accuracy_train = accuracy_score(y_train, y_pred_train)\n",
        "precision_train = precision_score(y_train, y_pred_train)\n",
        "scores_train = {'f1': f1_train, 'accuracy': accuracy_train, 'precision':precision_train}\n",
        "\n",
        "y_pred_test = best_model.predict(X_test_scaled)\n",
        "f1_test = f1_score(y_test, y_pred_test)\n",
        "accuracy_test = accuracy_score(y_test, y_pred_test)\n",
        "precision_test = precision_score(y_test, y_pred_test)\n",
        "scores_test = {'f1': f1_test, 'accuracy': accuracy_test, 'precision':precision_test}"
      ]
    },
    {
      "cell_type": "code",
      "execution_count": 181,
      "metadata": {
        "id": "ihqkiyE0Fm4L",
        "colab": {
          "base_uri": "https://localhost:8080/"
        },
        "outputId": "14641a2e-03b3-4a94-f615-6fd57ce144b8"
      },
      "outputs": [
        {
          "output_type": "stream",
          "name": "stdout",
          "text": [
            "Mejores hiperparámetros encontrados: {'regularizer': <keras.regularizers.L2 object at 0x7f67b5e3d210>, 'optimizer': 'nadam', 'neurons_5': 289.03225806451616, 'neurons_4': 157.67741935483872, 'neurons_3': 457.5238095238095, 'neurons_2': 236.76190476190476, 'neurons': 384.0, 'activation': 'relu'}\n",
            "Metricas en el conjunto de train: {'f1': 0.9014274750575595, 'accuracy': 0.8995746544067055, 'precision': 0.8823317307692308}\n",
            "Metricas en el conjunto de test: {'f1': 0.7997998713458652, 'accuracy': 0.7956071220081729, 'precision': 0.7820799552697791}\n"
          ]
        }
      ],
      "source": [
        "print(\"Mejores hiperparámetros encontrados:\", best_params)\n",
        "print(\"Metricas en el conjunto de train:\", scores_train)\n",
        "print(\"Metricas en el conjunto de test:\", scores_test)"
      ]
    },
    {
      "cell_type": "markdown",
      "source": [
        "Viendo el puntaje F1 en train y test, podemos concluir que el modelo overfittea. Sin embargo, consideramos que está dentro de parametros aceptables, ya que en Kaggle este mismo modelo nos dio un puntaje de 0.7266, siendo así nuestra mejor red hasta el momento de entregar."
      ],
      "metadata": {
        "id": "zMK0cSm1yT23"
      }
    },
    {
      "cell_type": "markdown",
      "metadata": {
        "id": "7JWOKsCjGOLS"
      },
      "source": [
        "## Metricas"
      ]
    },
    {
      "cell_type": "code",
      "execution_count": 182,
      "metadata": {
        "id": "KYkHoR9IGQmt",
        "colab": {
          "base_uri": "https://localhost:8080/",
          "height": 1000
        },
        "outputId": "60550f54-49eb-4d77-9bc6-f5dd64dbce41"
      },
      "outputs": [
        {
          "output_type": "stream",
          "name": "stdout",
          "text": [
            "              precision    recall  f1-score   support\n",
            "\n",
            "           0       0.81      0.77      0.79      6867\n",
            "           1       0.78      0.82      0.80      6837\n",
            "\n",
            "    accuracy                           0.80     13704\n",
            "   macro avg       0.80      0.80      0.80     13704\n",
            "weighted avg       0.80      0.80      0.80     13704\n",
            "\n",
            "1000/1000 [==============================] - 4s 4ms/step\n"
          ]
        },
        {
          "output_type": "display_data",
          "data": {
            "text/plain": [
              "<Figure size 600x400 with 2 Axes>"
            ],
            "image/png": "[encoded data removed]"
          },
          "metadata": {}
        },
        {
          "output_type": "stream",
          "name": "stdout",
          "text": [
            "\n",
            "\n",
            "\n",
            "429/429 [==============================] - 1s 3ms/step\n"
          ]
        },
        {
          "output_type": "display_data",
          "data": {
            "text/plain": [
              "<Figure size 600x400 with 2 Axes>"
            ],
            "image/png": "[encoded data removed]"
          },
          "metadata": {}
        }
      ],
      "source": [
        "print(classification_report(y_test, y_pred_test))\n",
        "\n",
        "mostrar_matriz_confusion(best_model, X_train, y_train, X_test, y_test)"
      ]
    },
    {
      "cell_type": "markdown",
      "source": [
        "Es notable que en el conjunto de prueba la precisión para los casos negativos es menor que en el de entrenamiento, mientras que el recall y la precisión de los casos positivos se mantiene aceptable."
      ],
      "metadata": {
        "id": "G1sjJMB4yqNm"
      }
    },
    {
      "cell_type": "markdown",
      "metadata": {
        "id": "T4C4wxyiiQ83"
      },
      "source": [
        "### Gráficos"
      ]
    },
    {
      "cell_type": "code",
      "execution_count": 183,
      "metadata": {
        "id": "hN3B09qfG589",
        "colab": {
          "base_uri": "https://localhost:8080/",
          "height": 467
        },
        "outputId": "9d650800-dd13-454c-ac47-7b3dfa9e76bf"
      },
      "outputs": [
        {
          "output_type": "execute_result",
          "data": {
            "text/plain": [
              "<matplotlib.legend.Legend at 0x7f67dfcfc6a0>"
            ]
          },
          "metadata": {},
          "execution_count": 183
        },
        {
          "output_type": "display_data",
          "data": {
            "text/plain": [
              "<Figure size 640x480 with 1 Axes>"
            ],
            "image/png": "[encoded data removed]"
          },
          "metadata": {}
        }
      ],
      "source": [
        "epochs = range(cant_epochs)\n",
        "\n",
        "plt.plot(epochs, historia_modelo.history['get_f1'], color='orange', label='F1')\n",
        "plt.xlabel(\"epochs\")\n",
        "plt.ylabel(\"F1\")\n",
        "plt.legend()"
      ]
    },
    {
      "cell_type": "code",
      "execution_count": 184,
      "metadata": {
        "id": "MAYsWH3TiOLY",
        "colab": {
          "base_uri": "https://localhost:8080/",
          "height": 467
        },
        "outputId": "e4a30c44-f401-4951-992e-785e61a962de"
      },
      "outputs": [
        {
          "output_type": "execute_result",
          "data": {
            "text/plain": [
              "<matplotlib.legend.Legend at 0x7f67dfd2bf70>"
            ]
          },
          "metadata": {},
          "execution_count": 184
        },
        {
          "output_type": "display_data",
          "data": {
            "text/plain": [
              "<Figure size 640x480 with 1 Axes>"
            ],
            "image/png": "[encoded data removed]"
          },
          "metadata": {}
        }
      ],
      "source": [
        "epochs = range(cant_epochs)\n",
        "\n",
        "plt.plot(epochs, historia_modelo.history['get_f1'], color='blue', label='F1')\n",
        "plt.xlabel(\"epochs\")\n",
        "plt.ylabel(\"F1\")\n",
        "plt.legend()"
      ]
    },
    {
      "cell_type": "code",
      "execution_count": 185,
      "metadata": {
        "id": "IUm4PX9LiPLl",
        "colab": {
          "base_uri": "https://localhost:8080/",
          "height": 467
        },
        "outputId": "fb23fa8e-6ecc-48f5-c0f6-e20edc9ae375"
      },
      "outputs": [
        {
          "output_type": "execute_result",
          "data": {
            "text/plain": [
              "<matplotlib.legend.Legend at 0x7f67dfdaa710>"
            ]
          },
          "metadata": {},
          "execution_count": 185
        },
        {
          "output_type": "display_data",
          "data": {
            "text/plain": [
              "<Figure size 640x480 with 1 Axes>"
            ],
            "image/png": "[encoded data removed]"
          },
          "metadata": {}
        }
      ],
      "source": [
        "epochs = range(cant_epochs)\n",
        "\n",
        "plt.plot(epochs, historia_modelo.history['loss'], color='red', label='Loss')\n",
        "plt.xlabel(\"epochs\")\n",
        "plt.ylabel(\"Loss\")\n",
        "plt.legend()"
      ]
    },
    {
      "cell_type": "markdown",
      "source": [
        "En los tres gráficos que realizamos es destacable el gran codo que se forma en el primer ciclo. Luego, el crecimiento de el accuracy y el puntaje F1 (y el decrecimiento de la pérdida) se vuelve asintótico a medida que se acerca al décidmo ciclo. Podemos considerar que este tipo de crecimiento se debe a la función de regularización elegida mediante la optimización de hiperparámetros, ya que esta evita el sobreajuste y que el puntaje adquiera valores surrealistas."
      ],
      "metadata": {
        "id": "ifau9g2pzCbN"
      }
    },
    {
      "cell_type": "markdown",
      "source": [
        "## Exportamos el modelo"
      ],
      "metadata": {
        "id": "vN6mvM-oenLP"
      }
    },
    {
      "cell_type": "code",
      "source": [
        "with open('modelo_redn.pkl', 'wb') as file:\n",
        "    pickle.dump(best_model, file)\n",
        "\n",
        "with open('modelo_redn.pkl', 'rb') as file:\n",
        "    loaded_model = pickle.load(file)"
      ],
      "metadata": {
        "id": "BLyWpOmnej8y"
      },
      "execution_count": 189,
      "outputs": []
    },
    {
      "cell_type": "code",
      "source": [
        "y_test_data_pred = loaded_model.predict(X_test_data)\n",
        "y_test_data_pred = np.where(y_test_data_pred == 0, 'negativo', 'positivo')"
      ],
      "metadata": {
        "colab": {
          "base_uri": "https://localhost:8080/"
        },
        "id": "_GxorUuKetXa",
        "outputId": "6e4c1e2d-c2c9-49d1-a9e3-ae15087d086b"
      },
      "execution_count": 190,
      "outputs": [
        {
          "output_type": "stream",
          "name": "stdout",
          "text": [
            "269/269 [==============================] - 1s 4ms/step\n"
          ]
        }
      ]
    },
    {
      "cell_type": "code",
      "source": [
        "predictions_df = pd.DataFrame({'ID': test_data['ID'], 'sentimiento': y_test_data_pred.ravel()})\n",
        "predictions_df.to_csv('predicciones_redn.csv', index=False)"
      ],
      "metadata": {
        "id": "QaW3Xz_LeuUG"
      },
      "execution_count": 191,
      "outputs": []
    }
  ],
  "metadata": {
    "colab": {
      "collapsed_sections": [
        "1xGOnNWUO1c6",
        "VpqNLkVo2Rqb",
        "Egmmtv8UTbDB"
      ],
      "provenance": []
    },
    "kernelspec": {
      "display_name": "Python 3",
      "name": "python3"
    },
    "language_info": {
      "name": "python"
    }
  },
  "nbformat": 4,
  "nbformat_minor": 0
}