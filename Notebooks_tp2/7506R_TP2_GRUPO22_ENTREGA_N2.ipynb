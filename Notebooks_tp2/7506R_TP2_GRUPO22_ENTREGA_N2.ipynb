{
  "cells": [
    {
      "cell_type": "markdown",
      "metadata": {
        "id": "ltKeQx0ZyVnA"
      },
      "source": [
        "## Importes"
      ]
    },
    {
      "cell_type": "markdown",
      "metadata": {
        "id": "uP6dffpa0P46"
      },
      "source": [
        "Realizamos los importes necesarios para nuestro modelo"
      ]
    },
    {
      "cell_type": "code",
      "execution_count": 83,
      "metadata": {
        "id": "syJUsd2ZyZLy"
      },
      "outputs": [],
      "source": [
        "import pandas as pd\n",
        "import seaborn as sns\n",
        "import numpy as np\n",
        "import matplotlib.pyplot as plt\n",
        "import sklearn as skl\n",
        "import pickle\n",
        "\n",
        "from ast import literal_eval\n",
        "#La lista tokens en la columna tokens es en realidad una representación de una lista hecha con un string, literal_eval lo transforma en una lista real\n",
        "\n",
        "from sklearn.metrics import f1_score, recall_score, precision_score, accuracy_score, confusion_matrix\n",
        "from sklearn.model_selection import RandomizedSearchCV, train_test_split, cross_val_predict\n",
        "from sklearn.linear_model import LogisticRegression\n",
        "from scipy.stats import randint\n",
        "from sklearn.feature_extraction.text import CountVectorizer\n",
        "import xgboost as xgb"
      ]
    },
    {
      "cell_type": "code",
      "execution_count": 84,
      "metadata": {
        "id": "0ToCjuoP0xlh"
      },
      "outputs": [],
      "source": [
        "partes_train = []\n",
        "cant_partes = 2\n",
        "for i in range(cant_partes):\n",
        "  parte = pd.read_csv(f'https://raw.githubusercontent.com/agomezalejo/7506R-1C2023-GRUPO22/main/train_tp2/train_data_procesado_FILTRADO_FINAL_parte_{i}.csv')\n",
        "  partes_train.append(parte)\n",
        "train_data = pd.concat(partes_train, ignore_index=True)\n",
        "\n",
        "test_url = \"https://raw.githubusercontent.com/agomezalejo/7506R-1C2023-GRUPO22/main/train_tp2/test_data_procesado_FILTRADO_FINAL.csv\"\n",
        "test_data = pd.read_csv(test_url)"
      ]
    },
    {
      "cell_type": "markdown",
      "metadata": {
        "id": "rd69n-ag0Uzw"
      },
      "source": [
        "Concatenamos los tokens en una unica lista de texto y lo utilizamos para crear y entrenar el vectorizer; tanto para train como para test"
      ]
    },
    {
      "cell_type": "code",
      "execution_count": 85,
      "metadata": {
        "id": "EtE6-9QqzcGT"
      },
      "outputs": [],
      "source": [
        "#Transformamos train_data['tokens'] y test_data['tokens] en listas reales (antes eran representaciónes de lista hechas en string)\n",
        "train_data['tokens'] = train_data['tokens'].apply(literal_eval)\n",
        "test_data['tokens'] = test_data['tokens'].apply(literal_eval)\n",
        "\n",
        "vectorizer = CountVectorizer()\n",
        "\n",
        "corpus = [' '.join(tokens) for tokens in train_data['tokens']]\n",
        "X = vectorizer.fit_transform(corpus)\n",
        "\n",
        "corpus_test = [' '.join(tokens) for tokens in test_data['tokens']]\n",
        "X_test_data = vectorizer.transform(corpus_test)"
      ]
    },
    {
      "cell_type": "markdown",
      "metadata": {
        "id": "MjW2Y3vO0lsH"
      },
      "source": [
        "Obtenemos las etiquetas y dividivos los datos en conjunto de train y test"
      ]
    },
    {
      "cell_type": "code",
      "execution_count": 86,
      "metadata": {
        "id": "f8vEM4a6y01U"
      },
      "outputs": [],
      "source": [
        "y = train_data['sentimiento']\n",
        "\n",
        "X_train, X_test, y_train, y_test = train_test_split(X, y, test_size=0.3, random_state=42)"
      ]
    },
    {
      "cell_type": "code",
      "execution_count": 87,
      "metadata": {
        "id": "8A6rFJoL7Hea"
      },
      "outputs": [],
      "source": [
        "X_train_sub, _, y_train_sub, _ = train_test_split(X_train, y_train, train_size=7500, stratify=y_train, random_state=42)"
      ]
    },
    {
      "cell_type": "markdown",
      "metadata": {
        "id": "SHz8k8SmOlD0"
      },
      "source": [
        "## Funciones"
      ]
    },
    {
      "cell_type": "markdown",
      "metadata": {
        "id": "nhY4EHlAOr6m"
      },
      "source": [
        "A Continuación, crearemos distintas funciones que serán utilizadas a lo largo del trabajo."
      ]
    },
    {
      "cell_type": "markdown",
      "metadata": {
        "id": "1xGOnNWUO1c6"
      },
      "source": [
        "### mostrar_resultados"
      ]
    },
    {
      "cell_type": "markdown",
      "metadata": {
        "id": "aj6e1f-_O5UW"
      },
      "source": [
        "Esta función, recibe los mejores parametros encontrados, los conjuntos de datos tanto de entrenamiento como de prueba y nos muestra las distintas metricas obtenidas del modelo."
      ]
    },
    {
      "cell_type": "code",
      "execution_count": 88,
      "metadata": {
        "id": "ge_SjDO_3ySr"
      },
      "outputs": [],
      "source": [
        "def mostrar_resultados(model, best_params, X_train, y_train, X_test, y_test):\n",
        "  print(\"Mejores hiperparámetros encontrados:\", best_params)\n",
        "\n",
        "  # Metricas en el conjunto de entrenamiento\n",
        "  y_train_pred = model.predict(X_train)\n",
        "\n",
        "  print(\"Métricas de evaluación en el conjunto de entrenamiento:\")\n",
        "  print(\"Accuracy:\", accuracy_score(y_train, y_train_pred))\n",
        "  print(\"Recall:\", recall_score(y_train, y_train_pred, average='macro'))\n",
        "  print(\"F1-Score:\", f1_score(y_train, y_train_pred, average='macro'))\n",
        "  print(\"Precision:\", precision_score(y_train, y_train_pred, average='macro'))\n",
        "\n",
        "  # Metricas en el conjunto de prueba\n",
        "  y_test_pred = model.predict(X_test)\n",
        "\n",
        "  print(\"\\nMétricas de evaluación en el conjunto de prueba:\")\n",
        "  print(\"Accuracy:\", accuracy_score(y_test, y_test_pred))\n",
        "  print(\"Recall:\", recall_score(y_test, y_test_pred, average='macro'))\n",
        "  print(\"F1-Score:\", f1_score(y_test, y_test_pred, average='macro'))\n",
        "  print(\"Precision:\", precision_score(y_test, y_test_pred, average='macro'))"
      ]
    },
    {
      "cell_type": "markdown",
      "metadata": {
        "id": "VpqNLkVo2Rqb"
      },
      "source": [
        "### mostrar_matriz_confusion"
      ]
    },
    {
      "cell_type": "markdown",
      "metadata": {
        "id": "Ph7nUtSx2VQp"
      },
      "source": [
        "La siguiuente función recibe un modelo, y los conjuntos de datos tanto de entrenamiento como de prueba y nos muestra la matriz de confusión correspondiente para cada caso"
      ]
    },
    {
      "cell_type": "code",
      "execution_count": 89,
      "metadata": {
        "id": "fBtVcqL4bU3L"
      },
      "outputs": [],
      "source": [
        "def mostrar_matriz_confusion(model, X_train, y_train, X_test, y_test):\n",
        "  y_train_pred = model.predict(X_train)\n",
        "  cm_train = confusion_matrix(y_train, y_train_pred)\n",
        "\n",
        "  class_labels = ['Negativo', 'Positivo']\n",
        "  fig, ax = plt.subplots(figsize=(6, 4))\n",
        "  sns.heatmap(cm_train, annot=True, cmap='Blues', fmt='d', xticklabels=class_labels, yticklabels=class_labels, ax=ax)\n",
        "  ax.set_xlabel('Predicted')\n",
        "  ax.set_ylabel('Actual')\n",
        "  ax.set_title('Matriz de Confusión en el conjunto de entrenamiento')\n",
        "  plt.show()\n",
        "\n",
        "  print(\"\\n\\n\")\n",
        "\n",
        "  y_test_pred = model.predict(X_test)\n",
        "  cm_train = confusion_matrix(y_test, y_test_pred)\n",
        "  class_labels = ['Negativo', 'Positivo']\n",
        "  fig, ax = plt.subplots(figsize=(6, 4))\n",
        "  sns.heatmap(cm_train, annot=True, cmap='Blues', fmt='d', xticklabels=class_labels, yticklabels=class_labels, ax=ax)\n",
        "  ax.set_xlabel('Predicted')\n",
        "  ax.set_ylabel('Actual')\n",
        "  ax.set_title('Matriz de Confusión en el conjunto de prueba')\n",
        "\n",
        "  plt.show()"
      ]
    },
    {
      "cell_type": "markdown",
      "metadata": {
        "id": "6nF2B73Ay25d"
      },
      "source": [
        "## XGBoost"
      ]
    },
    {
      "cell_type": "markdown",
      "metadata": {
        "id": "74-PqWpw_iPm"
      },
      "source": [
        "Creamos el modelo de XGBoost y definimos los hiperparámetros a usar"
      ]
    },
    {
      "cell_type": "code",
      "execution_count": 92,
      "metadata": {
        "id": "susG5kX9y8Et"
      },
      "outputs": [],
      "source": [
        "model = xgb.XGBClassifier(random_state=42)\n",
        "\n",
        "hyperparameters = {\n",
        "    'subsample': [0.7, 0.8, 0.9],\n",
        "    'reg_lambda': [0, 0.1, 0.5],\n",
        "    'reg_alpha': [0, 0.1, 0.5],\n",
        "    'n_estimators': [200, 300],\n",
        "    'max_depth': [20, 30, 40],\n",
        "    'learning_rate': [0.01, 0.02, 0.03],\n",
        "    'gamma': [0.1, 0.3, 0.5],\n",
        "    'colsample_bytree': [0.8, 0.9, 1]\n",
        "}\n"
      ]
    },
    {
      "cell_type": "markdown",
      "metadata": {
        "id": "IKq23d8Y_oS8"
      },
      "source": [
        "Realizamos la optimización de los hiperparametros utliizando Random Search con Cross Validation de 5"
      ]
    },
    {
      "cell_type": "code",
      "execution_count": 93,
      "metadata": {
        "colab": {
          "base_uri": "https://localhost:8080/",
          "height": 134
        },
        "id": "lkqaALDYzdet",
        "outputId": "ded0df83-c63f-4368-d136-596b86c69c0e"
      },
      "outputs": [
        {
          "output_type": "stream",
          "name": "stdout",
          "text": [
            "Fitting 5 folds for each of 30 candidates, totalling 150 fits\n"
          ]
        },
        {
          "output_type": "execute_result",
          "data": {
            "text/plain": [
              "RandomizedSearchCV(cv=5, error_score='raise',\n",
              "                   estimator=XGBClassifier(base_score=None, booster=None,\n",
              "                                           callbacks=None,\n",
              "                                           colsample_bylevel=None,\n",
              "                                           colsample_bynode=None,\n",
              "                                           colsample_bytree=None,\n",
              "                                           early_stopping_rounds=None,\n",
              "                                           enable_categorical=False,\n",
              "                                           eval_metric=None, feature_types=None,\n",
              "                                           gamma=None, gpu_id=None,\n",
              "                                           grow_policy=None,\n",
              "                                           importance_type=None,\n",
              "                                           interaction_constraint...\n",
              "                                           num_parallel_tree=None,\n",
              "                                           predictor=None, random_state=42, ...),\n",
              "                   n_iter=30, n_jobs=-1,\n",
              "                   param_distributions={'colsample_bytree': [0.8, 0.9, 1],\n",
              "                                        'gamma': [0.1, 0.3, 0.5],\n",
              "                                        'learning_rate': [0.01, 0.02, 0.03],\n",
              "                                        'max_depth': [20, 30, 40],\n",
              "                                        'n_estimators': [200, 300],\n",
              "                                        'reg_alpha': [0, 0.1, 0.5],\n",
              "                                        'reg_lambda': [0, 0.1, 0.5],\n",
              "                                        'subsample': [0.7, 0.8, 0.9]},\n",
              "                   random_state=42, scoring='f1', verbose=10)"
            ],
            "text/html": [
              "<style>#sk-container-id-11 {color: black;background-color: white;}#sk-container-id-11 pre{padding: 0;}#sk-container-id-11 div.sk-toggleable {background-color: white;}#sk-container-id-11 label.sk-toggleable__label {cursor: pointer;display: block;width: 100%;margin-bottom: 0;padding: 0.3em;box-sizing: border-box;text-align: center;}#sk-container-id-11 label.sk-toggleable__label-arrow:before {content: \"▸\";float: left;margin-right: 0.25em;color: #696969;}#sk-container-id-11 label.sk-toggleable__label-arrow:hover:before {color: black;}#sk-container-id-11 div.sk-estimator:hover label.sk-toggleable__label-arrow:before {color: black;}#sk-container-id-11 div.sk-toggleable__content {max-height: 0;max-width: 0;overflow: hidden;text-align: left;background-color: #f0f8ff;}#sk-container-id-11 div.sk-toggleable__content pre {margin: 0.2em;color: black;border-radius: 0.25em;background-color: #f0f8ff;}#sk-container-id-11 input.sk-toggleable__control:checked~div.sk-toggleable__content {max-height: 200px;max-width: 100%;overflow: auto;}#sk-container-id-11 input.sk-toggleable__control:checked~label.sk-toggleable__label-arrow:before {content: \"▾\";}#sk-container-id-11 div.sk-estimator input.sk-toggleable__control:checked~label.sk-toggleable__label {background-color: #d4ebff;}#sk-container-id-11 div.sk-label input.sk-toggleable__control:checked~label.sk-toggleable__label {background-color: #d4ebff;}#sk-container-id-11 input.sk-hidden--visually {border: 0;clip: rect(1px 1px 1px 1px);clip: rect(1px, 1px, 1px, 1px);height: 1px;margin: -1px;overflow: hidden;padding: 0;position: absolute;width: 1px;}#sk-container-id-11 div.sk-estimator {font-family: monospace;background-color: #f0f8ff;border: 1px dotted black;border-radius: 0.25em;box-sizing: border-box;margin-bottom: 0.5em;}#sk-container-id-11 div.sk-estimator:hover {background-color: #d4ebff;}#sk-container-id-11 div.sk-parallel-item::after {content: \"\";width: 100%;border-bottom: 1px solid gray;flex-grow: 1;}#sk-container-id-11 div.sk-label:hover label.sk-toggleable__label {background-color: #d4ebff;}#sk-container-id-11 div.sk-serial::before {content: \"\";position: absolute;border-left: 1px solid gray;box-sizing: border-box;top: 0;bottom: 0;left: 50%;z-index: 0;}#sk-container-id-11 div.sk-serial {display: flex;flex-direction: column;align-items: center;background-color: white;padding-right: 0.2em;padding-left: 0.2em;position: relative;}#sk-container-id-11 div.sk-item {position: relative;z-index: 1;}#sk-container-id-11 div.sk-parallel {display: flex;align-items: stretch;justify-content: center;background-color: white;position: relative;}#sk-container-id-11 div.sk-item::before, #sk-container-id-11 div.sk-parallel-item::before {content: \"\";position: absolute;border-left: 1px solid gray;box-sizing: border-box;top: 0;bottom: 0;left: 50%;z-index: -1;}#sk-container-id-11 div.sk-parallel-item {display: flex;flex-direction: column;z-index: 1;position: relative;background-color: white;}#sk-container-id-11 div.sk-parallel-item:first-child::after {align-self: flex-end;width: 50%;}#sk-container-id-11 div.sk-parallel-item:last-child::after {align-self: flex-start;width: 50%;}#sk-container-id-11 div.sk-parallel-item:only-child::after {width: 0;}#sk-container-id-11 div.sk-dashed-wrapped {border: 1px dashed gray;margin: 0 0.4em 0.5em 0.4em;box-sizing: border-box;padding-bottom: 0.4em;background-color: white;}#sk-container-id-11 div.sk-label label {font-family: monospace;font-weight: bold;display: inline-block;line-height: 1.2em;}#sk-container-id-11 div.sk-label-container {text-align: center;}#sk-container-id-11 div.sk-container {/* jupyter's `normalize.less` sets `[hidden] { display: none; }` but bootstrap.min.css set `[hidden] { display: none !important; }` so we also need the `!important` here to be able to override the default hidden behavior on the sphinx rendered scikit-learn.org. See: https://github.com/scikit-learn/scikit-learn/issues/21755 */display: inline-block !important;position: relative;}#sk-container-id-11 div.sk-text-repr-fallback {display: none;}</style><div id=\"sk-container-id-11\" class=\"sk-top-container\"><div class=\"sk-text-repr-fallback\"><pre>RandomizedSearchCV(cv=5, error_score=&#x27;raise&#x27;,\n",
              "                   estimator=XGBClassifier(base_score=None, booster=None,\n",
              "                                           callbacks=None,\n",
              "                                           colsample_bylevel=None,\n",
              "                                           colsample_bynode=None,\n",
              "                                           colsample_bytree=None,\n",
              "                                           early_stopping_rounds=None,\n",
              "                                           enable_categorical=False,\n",
              "                                           eval_metric=None, feature_types=None,\n",
              "                                           gamma=None, gpu_id=None,\n",
              "                                           grow_policy=None,\n",
              "                                           importance_type=None,\n",
              "                                           interaction_constraint...\n",
              "                                           num_parallel_tree=None,\n",
              "                                           predictor=None, random_state=42, ...),\n",
              "                   n_iter=30, n_jobs=-1,\n",
              "                   param_distributions={&#x27;colsample_bytree&#x27;: [0.8, 0.9, 1],\n",
              "                                        &#x27;gamma&#x27;: [0.1, 0.3, 0.5],\n",
              "                                        &#x27;learning_rate&#x27;: [0.01, 0.02, 0.03],\n",
              "                                        &#x27;max_depth&#x27;: [20, 30, 40],\n",
              "                                        &#x27;n_estimators&#x27;: [200, 300],\n",
              "                                        &#x27;reg_alpha&#x27;: [0, 0.1, 0.5],\n",
              "                                        &#x27;reg_lambda&#x27;: [0, 0.1, 0.5],\n",
              "                                        &#x27;subsample&#x27;: [0.7, 0.8, 0.9]},\n",
              "                   random_state=42, scoring=&#x27;f1&#x27;, verbose=10)</pre><b>In a Jupyter environment, please rerun this cell to show the HTML representation or trust the notebook. <br />On GitHub, the HTML representation is unable to render, please try loading this page with nbviewer.org.</b></div><div class=\"sk-container\" hidden><div class=\"sk-item sk-dashed-wrapped\"><div class=\"sk-label-container\"><div class=\"sk-label sk-toggleable\"><input class=\"sk-toggleable__control sk-hidden--visually\" id=\"sk-estimator-id-21\" type=\"checkbox\" ><label for=\"sk-estimator-id-21\" class=\"sk-toggleable__label sk-toggleable__label-arrow\">RandomizedSearchCV</label><div class=\"sk-toggleable__content\"><pre>RandomizedSearchCV(cv=5, error_score=&#x27;raise&#x27;,\n",
              "                   estimator=XGBClassifier(base_score=None, booster=None,\n",
              "                                           callbacks=None,\n",
              "                                           colsample_bylevel=None,\n",
              "                                           colsample_bynode=None,\n",
              "                                           colsample_bytree=None,\n",
              "                                           early_stopping_rounds=None,\n",
              "                                           enable_categorical=False,\n",
              "                                           eval_metric=None, feature_types=None,\n",
              "                                           gamma=None, gpu_id=None,\n",
              "                                           grow_policy=None,\n",
              "                                           importance_type=None,\n",
              "                                           interaction_constraint...\n",
              "                                           num_parallel_tree=None,\n",
              "                                           predictor=None, random_state=42, ...),\n",
              "                   n_iter=30, n_jobs=-1,\n",
              "                   param_distributions={&#x27;colsample_bytree&#x27;: [0.8, 0.9, 1],\n",
              "                                        &#x27;gamma&#x27;: [0.1, 0.3, 0.5],\n",
              "                                        &#x27;learning_rate&#x27;: [0.01, 0.02, 0.03],\n",
              "                                        &#x27;max_depth&#x27;: [20, 30, 40],\n",
              "                                        &#x27;n_estimators&#x27;: [200, 300],\n",
              "                                        &#x27;reg_alpha&#x27;: [0, 0.1, 0.5],\n",
              "                                        &#x27;reg_lambda&#x27;: [0, 0.1, 0.5],\n",
              "                                        &#x27;subsample&#x27;: [0.7, 0.8, 0.9]},\n",
              "                   random_state=42, scoring=&#x27;f1&#x27;, verbose=10)</pre></div></div></div><div class=\"sk-parallel\"><div class=\"sk-parallel-item\"><div class=\"sk-item\"><div class=\"sk-label-container\"><div class=\"sk-label sk-toggleable\"><input class=\"sk-toggleable__control sk-hidden--visually\" id=\"sk-estimator-id-22\" type=\"checkbox\" ><label for=\"sk-estimator-id-22\" class=\"sk-toggleable__label sk-toggleable__label-arrow\">estimator: XGBClassifier</label><div class=\"sk-toggleable__content\"><pre>XGBClassifier(base_score=None, booster=None, callbacks=None,\n",
              "              colsample_bylevel=None, colsample_bynode=None,\n",
              "              colsample_bytree=None, early_stopping_rounds=None,\n",
              "              enable_categorical=False, eval_metric=None, feature_types=None,\n",
              "              gamma=None, gpu_id=None, grow_policy=None, importance_type=None,\n",
              "              interaction_constraints=None, learning_rate=None, max_bin=None,\n",
              "              max_cat_threshold=None, max_cat_to_onehot=None,\n",
              "              max_delta_step=None, max_depth=None, max_leaves=None,\n",
              "              min_child_weight=None, missing=nan, monotone_constraints=None,\n",
              "              n_estimators=100, n_jobs=None, num_parallel_tree=None,\n",
              "              predictor=None, random_state=42, ...)</pre></div></div></div><div class=\"sk-serial\"><div class=\"sk-item\"><div class=\"sk-estimator sk-toggleable\"><input class=\"sk-toggleable__control sk-hidden--visually\" id=\"sk-estimator-id-23\" type=\"checkbox\" ><label for=\"sk-estimator-id-23\" class=\"sk-toggleable__label sk-toggleable__label-arrow\">XGBClassifier</label><div class=\"sk-toggleable__content\"><pre>XGBClassifier(base_score=None, booster=None, callbacks=None,\n",
              "              colsample_bylevel=None, colsample_bynode=None,\n",
              "              colsample_bytree=None, early_stopping_rounds=None,\n",
              "              enable_categorical=False, eval_metric=None, feature_types=None,\n",
              "              gamma=None, gpu_id=None, grow_policy=None, importance_type=None,\n",
              "              interaction_constraints=None, learning_rate=None, max_bin=None,\n",
              "              max_cat_threshold=None, max_cat_to_onehot=None,\n",
              "              max_delta_step=None, max_depth=None, max_leaves=None,\n",
              "              min_child_weight=None, missing=nan, monotone_constraints=None,\n",
              "              n_estimators=100, n_jobs=None, num_parallel_tree=None,\n",
              "              predictor=None, random_state=42, ...)</pre></div></div></div></div></div></div></div></div></div></div>"
            ]
          },
          "metadata": {},
          "execution_count": 93
        }
      ],
      "source": [
        "random_search_xgb = RandomizedSearchCV(estimator=model, param_distributions=hyperparameters, scoring='f1',error_score='raise', cv=5, n_iter=30, random_state=42, n_jobs=-1, verbose = 10)\n",
        "random_search_xgb.fit(X_train_sub, y_train_sub)"
      ]
    },
    {
      "cell_type": "markdown",
      "metadata": {
        "id": "qEzXPU4v_q9O"
      },
      "source": [
        "Obtenemos los mejores parametros y entrenamos el modelo a partir de ellos"
      ]
    },
    {
      "cell_type": "code",
      "execution_count": 94,
      "metadata": {
        "colab": {
          "base_uri": "https://localhost:8080/",
          "height": 248
        },
        "id": "NP2GIjHK0je9",
        "outputId": "40817c82-ed4c-4bc0-a7e2-460c4cf70dc5"
      },
      "outputs": [
        {
          "output_type": "execute_result",
          "data": {
            "text/plain": [
              "XGBClassifier(base_score=None, booster=None, callbacks=None,\n",
              "              colsample_bylevel=None, colsample_bynode=None,\n",
              "              colsample_bytree=0.9, early_stopping_rounds=None,\n",
              "              enable_categorical=False, eval_metric=None, feature_types=None,\n",
              "              gamma=0.5, gpu_id=None, grow_policy=None, importance_type=None,\n",
              "              interaction_constraints=None, learning_rate=0.03, max_bin=None,\n",
              "              max_cat_threshold=None, max_cat_to_onehot=None,\n",
              "              max_delta_step=None, max_depth=40, max_leaves=None,\n",
              "              min_child_weight=None, missing=nan, monotone_constraints=None,\n",
              "              n_estimators=300, n_jobs=None, num_parallel_tree=None,\n",
              "              predictor=None, random_state=None, ...)"
            ],
            "text/html": [
              "<style>#sk-container-id-12 {color: black;background-color: white;}#sk-container-id-12 pre{padding: 0;}#sk-container-id-12 div.sk-toggleable {background-color: white;}#sk-container-id-12 label.sk-toggleable__label {cursor: pointer;display: block;width: 100%;margin-bottom: 0;padding: 0.3em;box-sizing: border-box;text-align: center;}#sk-container-id-12 label.sk-toggleable__label-arrow:before {content: \"▸\";float: left;margin-right: 0.25em;color: #696969;}#sk-container-id-12 label.sk-toggleable__label-arrow:hover:before {color: black;}#sk-container-id-12 div.sk-estimator:hover label.sk-toggleable__label-arrow:before {color: black;}#sk-container-id-12 div.sk-toggleable__content {max-height: 0;max-width: 0;overflow: hidden;text-align: left;background-color: #f0f8ff;}#sk-container-id-12 div.sk-toggleable__content pre {margin: 0.2em;color: black;border-radius: 0.25em;background-color: #f0f8ff;}#sk-container-id-12 input.sk-toggleable__control:checked~div.sk-toggleable__content {max-height: 200px;max-width: 100%;overflow: auto;}#sk-container-id-12 input.sk-toggleable__control:checked~label.sk-toggleable__label-arrow:before {content: \"▾\";}#sk-container-id-12 div.sk-estimator input.sk-toggleable__control:checked~label.sk-toggleable__label {background-color: #d4ebff;}#sk-container-id-12 div.sk-label input.sk-toggleable__control:checked~label.sk-toggleable__label {background-color: #d4ebff;}#sk-container-id-12 input.sk-hidden--visually {border: 0;clip: rect(1px 1px 1px 1px);clip: rect(1px, 1px, 1px, 1px);height: 1px;margin: -1px;overflow: hidden;padding: 0;position: absolute;width: 1px;}#sk-container-id-12 div.sk-estimator {font-family: monospace;background-color: #f0f8ff;border: 1px dotted black;border-radius: 0.25em;box-sizing: border-box;margin-bottom: 0.5em;}#sk-container-id-12 div.sk-estimator:hover {background-color: #d4ebff;}#sk-container-id-12 div.sk-parallel-item::after {content: \"\";width: 100%;border-bottom: 1px solid gray;flex-grow: 1;}#sk-container-id-12 div.sk-label:hover label.sk-toggleable__label {background-color: #d4ebff;}#sk-container-id-12 div.sk-serial::before {content: \"\";position: absolute;border-left: 1px solid gray;box-sizing: border-box;top: 0;bottom: 0;left: 50%;z-index: 0;}#sk-container-id-12 div.sk-serial {display: flex;flex-direction: column;align-items: center;background-color: white;padding-right: 0.2em;padding-left: 0.2em;position: relative;}#sk-container-id-12 div.sk-item {position: relative;z-index: 1;}#sk-container-id-12 div.sk-parallel {display: flex;align-items: stretch;justify-content: center;background-color: white;position: relative;}#sk-container-id-12 div.sk-item::before, #sk-container-id-12 div.sk-parallel-item::before {content: \"\";position: absolute;border-left: 1px solid gray;box-sizing: border-box;top: 0;bottom: 0;left: 50%;z-index: -1;}#sk-container-id-12 div.sk-parallel-item {display: flex;flex-direction: column;z-index: 1;position: relative;background-color: white;}#sk-container-id-12 div.sk-parallel-item:first-child::after {align-self: flex-end;width: 50%;}#sk-container-id-12 div.sk-parallel-item:last-child::after {align-self: flex-start;width: 50%;}#sk-container-id-12 div.sk-parallel-item:only-child::after {width: 0;}#sk-container-id-12 div.sk-dashed-wrapped {border: 1px dashed gray;margin: 0 0.4em 0.5em 0.4em;box-sizing: border-box;padding-bottom: 0.4em;background-color: white;}#sk-container-id-12 div.sk-label label {font-family: monospace;font-weight: bold;display: inline-block;line-height: 1.2em;}#sk-container-id-12 div.sk-label-container {text-align: center;}#sk-container-id-12 div.sk-container {/* jupyter's `normalize.less` sets `[hidden] { display: none; }` but bootstrap.min.css set `[hidden] { display: none !important; }` so we also need the `!important` here to be able to override the default hidden behavior on the sphinx rendered scikit-learn.org. See: https://github.com/scikit-learn/scikit-learn/issues/21755 */display: inline-block !important;position: relative;}#sk-container-id-12 div.sk-text-repr-fallback {display: none;}</style><div id=\"sk-container-id-12\" class=\"sk-top-container\"><div class=\"sk-text-repr-fallback\"><pre>XGBClassifier(base_score=None, booster=None, callbacks=None,\n",
              "              colsample_bylevel=None, colsample_bynode=None,\n",
              "              colsample_bytree=0.9, early_stopping_rounds=None,\n",
              "              enable_categorical=False, eval_metric=None, feature_types=None,\n",
              "              gamma=0.5, gpu_id=None, grow_policy=None, importance_type=None,\n",
              "              interaction_constraints=None, learning_rate=0.03, max_bin=None,\n",
              "              max_cat_threshold=None, max_cat_to_onehot=None,\n",
              "              max_delta_step=None, max_depth=40, max_leaves=None,\n",
              "              min_child_weight=None, missing=nan, monotone_constraints=None,\n",
              "              n_estimators=300, n_jobs=None, num_parallel_tree=None,\n",
              "              predictor=None, random_state=None, ...)</pre><b>In a Jupyter environment, please rerun this cell to show the HTML representation or trust the notebook. <br />On GitHub, the HTML representation is unable to render, please try loading this page with nbviewer.org.</b></div><div class=\"sk-container\" hidden><div class=\"sk-item\"><div class=\"sk-estimator sk-toggleable\"><input class=\"sk-toggleable__control sk-hidden--visually\" id=\"sk-estimator-id-24\" type=\"checkbox\" checked><label for=\"sk-estimator-id-24\" class=\"sk-toggleable__label sk-toggleable__label-arrow\">XGBClassifier</label><div class=\"sk-toggleable__content\"><pre>XGBClassifier(base_score=None, booster=None, callbacks=None,\n",
              "              colsample_bylevel=None, colsample_bynode=None,\n",
              "              colsample_bytree=0.9, early_stopping_rounds=None,\n",
              "              enable_categorical=False, eval_metric=None, feature_types=None,\n",
              "              gamma=0.5, gpu_id=None, grow_policy=None, importance_type=None,\n",
              "              interaction_constraints=None, learning_rate=0.03, max_bin=None,\n",
              "              max_cat_threshold=None, max_cat_to_onehot=None,\n",
              "              max_delta_step=None, max_depth=40, max_leaves=None,\n",
              "              min_child_weight=None, missing=nan, monotone_constraints=None,\n",
              "              n_estimators=300, n_jobs=None, num_parallel_tree=None,\n",
              "              predictor=None, random_state=None, ...)</pre></div></div></div></div></div>"
            ]
          },
          "metadata": {},
          "execution_count": 94
        }
      ],
      "source": [
        "best_params_xgb = random_search_xgb.best_params_\n",
        "best_xgboost = xgb.XGBClassifier(**best_params_xgb)\n",
        "\n",
        "best_xgboost.fit(X_train, y_train)"
      ]
    },
    {
      "cell_type": "markdown",
      "metadata": {
        "id": "yNkU1n5Q_z7Z"
      },
      "source": [
        "Mostramos los resultados conseguidos"
      ]
    },
    {
      "cell_type": "code",
      "execution_count": 95,
      "metadata": {
        "colab": {
          "base_uri": "https://localhost:8080/"
        },
        "id": "FGUcYdYf1G6W",
        "outputId": "3aeabbdc-fa43-4ab6-ee21-3735c9e77ad2"
      },
      "outputs": [
        {
          "output_type": "stream",
          "name": "stdout",
          "text": [
            "Mejores hiperparámetros encontrados: {'subsample': 0.7, 'reg_lambda': 0.5, 'reg_alpha': 0.1, 'n_estimators': 300, 'max_depth': 40, 'learning_rate': 0.03, 'gamma': 0.5, 'colsample_bytree': 0.9}\n",
            "Métricas de evaluación en el conjunto de entrenamiento:\n",
            "Accuracy: 0.978044661287296\n",
            "Recall: 0.9780690473779075\n",
            "F1-Score: 0.978044252297509\n",
            "Precision: 0.9781315232712637\n",
            "\n",
            "Métricas de evaluación en el conjunto de prueba:\n",
            "Accuracy: 0.8150175131348512\n",
            "Recall: 0.815034038890873\n",
            "F1-Score: 0.8150113655500361\n",
            "Precision: 0.8150918296106939\n"
          ]
        }
      ],
      "source": [
        "mostrar_resultados(best_xgboost, best_params_xgb, X_train, y_train, X_test, y_test)"
      ]
    },
    {
      "cell_type": "markdown",
      "metadata": {
        "id": "AOf15NtR_4t3"
      },
      "source": [
        "Vemos ambas matriecs de confusión"
      ]
    },
    {
      "cell_type": "code",
      "execution_count": 96,
      "metadata": {
        "colab": {
          "base_uri": "https://localhost:8080/",
          "height": 857
        },
        "id": "9nQzm3cZ1KIX",
        "outputId": "f3f519dd-4463-472c-b2d3-2bdabe81d89f"
      },
      "outputs": [
        {
          "output_type": "display_data",
          "data": {
            "text/plain": [
              "<Figure size 600x400 with 2 Axes>"
            ],
            "image/png": "[encoded data removed]"
          },
          "metadata": {}
        },
        {
          "output_type": "stream",
          "name": "stdout",
          "text": [
            "\n",
            "\n",
            "\n"
          ]
        },
        {
          "output_type": "display_data",
          "data": {
            "text/plain": [
              "<Figure size 600x400 with 2 Axes>"
            ],
            "image/png": "[encoded data removed]"
          },
          "metadata": {}
        }
      ],
      "source": [
        "mostrar_matriz_confusion(best_xgboost, X_train, y_train, X_test, y_test)"
      ]
    },
    {
      "cell_type": "markdown",
      "metadata": {
        "id": "TYfddLdt_8F0"
      },
      "source": [
        "Guardamos y cargamos el modelo"
      ]
    },
    {
      "cell_type": "code",
      "execution_count": 97,
      "metadata": {
        "id": "MpElW1eu1yo-"
      },
      "outputs": [],
      "source": [
        "with open('modelo_xgboost.pkl', 'wb') as file:\n",
        "    pickle.dump(best_xgboost, file)\n",
        "\n",
        "with open('modelo_xgboost.pkl', 'rb') as file:\n",
        "    loaded_model = pickle.load(file)"
      ]
    },
    {
      "cell_type": "markdown",
      "metadata": {
        "id": "FfPNW2Y_AA8Z"
      },
      "source": [
        "Realizamos la predicción correspondiente, cambiando 0 y 1 por negativo y positivo"
      ]
    },
    {
      "cell_type": "code",
      "execution_count": 98,
      "metadata": {
        "id": "9gA_br9n1zLf"
      },
      "outputs": [],
      "source": [
        "y_test_data_pred = loaded_model.predict(X_test_data)\n",
        "y_test_data_pred = np.where(y_test_data_pred == 0, 'negativo', 'positivo')"
      ]
    },
    {
      "cell_type": "markdown",
      "metadata": {
        "id": "F_O5uPKZAB3q"
      },
      "source": [
        "Y conseguimos el dataframe, guardando el csv para realizar la predicción en Kaggle"
      ]
    },
    {
      "cell_type": "code",
      "execution_count": 99,
      "metadata": {
        "id": "qSS2mIHx11wc"
      },
      "outputs": [],
      "source": [
        "predictions_df = pd.DataFrame({'ID': test_data['ID'], 'sentimiento': y_test_data_pred})\n",
        "predictions_df.to_csv('predicciones_xgb_a.csv', index=False)"
      ]
    }
  ],
  "metadata": {
    "colab": {
      "provenance": []
    },
    "kernelspec": {
      "display_name": "Python 3",
      "name": "python3"
    },
    "language_info": {
      "name": "python"
    }
  },
  "nbformat": 4,
  "nbformat_minor": 0
}