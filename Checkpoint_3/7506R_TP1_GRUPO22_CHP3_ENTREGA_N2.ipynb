{
  "nbformat": 4,
  "nbformat_minor": 0,
  "metadata": {
    "colab": {
      "provenance": []
    },
    "kernelspec": {
      "name": "python3",
      "display_name": "Python 3"
    },
    "language_info": {
      "name": "python"
    }
  },
  "cells": [
    {
      "cell_type": "markdown",
      "source": [
        "#SVM"
      ],
      "metadata": {
        "id": "UW6Q99LP05VL"
      }
    },
    {
      "cell_type": "code",
      "execution_count": 1,
      "metadata": {
        "id": "NbGl9hoAqAjY"
      },
      "outputs": [],
      "source": [
        "import pandas as pd\n",
        "import sklearn as sk\n",
        "import seaborn as sns\n",
        "import matplotlib.pyplot as plt\n",
        "import numpy as np\n",
        "\n",
        "from sklearn.datasets import load_iris\n",
        "from sklearn import preprocessing\n",
        "from sklearn.model_selection import train_test_split, RandomizedSearchCV\n",
        "from sklearn.svm import SVC\n",
        "from sklearn.datasets import make_classification\n",
        "from sklearn.metrics import confusion_matrix, classification_report\n",
        "from sklearn.metrics import f1_score, accuracy_score, precision_score\n",
        "\n",
        "from google.colab import files\n",
        "import warnings\n",
        "warnings.simplefilter(action='ignore', category=FutureWarning)\n",
        "warnings.simplefilter(action='ignore', category=UserWarning)\n",
        "pd.options.mode.chained_assignment = None\n",
        "pd.set_option('display.max_columns', None)\n",
        "colors = sns.color_palette(n_colors=15)"
      ]
    },
    {
      "cell_type": "code",
      "source": [
        "hotels_train_url = \"https://raw.githubusercontent.com/agomezalejo/7506R-1C2023-GRUPO22/main/df_hotel_v3.csv\"\n",
        "hotels_test_url = \"https://raw.githubusercontent.com/agomezalejo/7506R-1C2023-GRUPO22/main/hotels_test.csv\"\n",
        "df_original = pd.read_csv(hotels_train_url)\n",
        "df_hotel_test = pd.read_csv(hotels_test_url)\n",
        "df_hotel_test_con_is_canceled = df_hotel_test.copy()\n",
        "df_hotel = df_original.copy()"
      ],
      "metadata": {
        "id": "YzaUWN3MqCqH"
      },
      "execution_count": 2,
      "outputs": []
    },
    {
      "cell_type": "code",
      "source": [
        "df_hotel_test = df_hotel_test.drop('id', axis=1)\n",
        "df_hotel_test = df_hotel_test.drop('arrival_date_week_number', axis=1)\n",
        "df_hotel_test = df_hotel_test.drop('reservation_status_date', axis=1)\n",
        "df_hotel_test['children'] = df_hotel_test['children'].astype(int)\n",
        "df_hotel['is_repeated_guest'] = df_hotel['is_repeated_guest'].astype(int)\n",
        "df_hotel['is_canceled'] = df_hotel['is_canceled'].astype(int)\n",
        "df_hotel_test['company'] = df_hotel_test['company'].fillna('not company')\n",
        "df_hotel_test['company'] = df_hotel_test['company'].astype(str)\n",
        "df_hotel_test['agent'] = df_hotel_test['agent'].fillna('not agent')\n",
        "df_hotel_test['agent'] = df_hotel_test['agent'].astype(str)"
      ],
      "metadata": {
        "id": "B5a9hP_dqDxA"
      },
      "execution_count": 3,
      "outputs": []
    },
    {
      "cell_type": "code",
      "source": [
        "# Contamos los valores faltantes\n",
        "num_missing = df_hotel.isna().sum()\n",
        "print(\"El número total de valores faltantes en el DataFrame es:\", num_missing.sum())"
      ],
      "metadata": {
        "colab": {
          "base_uri": "https://localhost:8080/"
        },
        "id": "_snrX2N4qFaO",
        "outputId": "44be7cc1-59c4-4164-fbb8-ee6113a93b27"
      },
      "execution_count": 4,
      "outputs": [
        {
          "output_type": "stream",
          "name": "stdout",
          "text": [
            "El número total de valores faltantes en el DataFrame es: 0\n"
          ]
        }
      ]
    },
    {
      "cell_type": "code",
      "source": [
        "def cambiar_columna_por_probabilidad_is_canceled(columna):\n",
        "  global df_hotel_test, df_hotel\n",
        "  probabilidades = df_hotel.groupby(columna)['is_canceled'].mean()\n",
        "  nueva_columna = columna+'_prob_is_canceled'\n",
        "\n",
        "  df_hotel[nueva_columna] = 0\n",
        "  df_hotel[nueva_columna] = df_hotel[columna].map(probabilidades)\n",
        "\n",
        "  df_hotel_test[nueva_columna] = 0\n",
        "  df_hotel_test[nueva_columna] = df_hotel_test[columna].map(probabilidades)\n",
        "\n",
        "  mediana = df_hotel_test[nueva_columna].median()\n",
        "  df_hotel_test[nueva_columna].fillna(mediana, inplace=True)\n",
        "\n",
        "  df_hotel_test = df_hotel_test.drop(columna, axis=1)\n",
        "  df_hotel = df_hotel.drop(columna, axis=1)"
      ],
      "metadata": {
        "id": "MyWlW65b3rm6"
      },
      "execution_count": 5,
      "outputs": []
    },
    {
      "cell_type": "code",
      "source": [
        "cambiar_columna_por_probabilidad_is_canceled('country')\n",
        "cambiar_columna_por_probabilidad_is_canceled('agent')\n",
        "cambiar_columna_por_probabilidad_is_canceled('company')"
      ],
      "metadata": {
        "id": "-RdHOX0A3tWW"
      },
      "execution_count": 6,
      "outputs": []
    },
    {
      "cell_type": "code",
      "source": [
        "X = df_hotel.drop('is_canceled', axis=1)\n",
        "y = df_hotel['is_canceled']\n",
        "\n",
        "columns = ['hotel','arrival_date_year', 'arrival_date_month', 'meal', 'market_segment', 'distribution_channel','deposit_type', 'customer_type', 'assigned_room_type', 'reserved_room_type']\n",
        "\n",
        "X = pd.get_dummies(X, columns=columns, drop_first=True)\n",
        "\n",
        "df_hotel_test = pd.get_dummies(df_hotel_test, columns=columns, drop_first=True)"
      ],
      "metadata": {
        "id": "a-bOr-b63wqK"
      },
      "execution_count": 7,
      "outputs": []
    },
    {
      "cell_type": "code",
      "source": [
        "columns_X = set(X.columns)\n",
        "columns_test = set(df_hotel_test.columns)\n",
        "\n",
        "missing_columns = list(columns_X - columns_test)\n",
        "for column in missing_columns:\n",
        "    df_hotel_test[column] = 0\n",
        "\n",
        "df_hotel_test = df_hotel_test[X.columns]"
      ],
      "metadata": {
        "id": "pC6dj0RC3yPm"
      },
      "execution_count": 8,
      "outputs": []
    },
    {
      "cell_type": "code",
      "source": [
        "def metricas(y_pred,y_test):\n",
        "\n",
        "  print(classification_report(y_test,y_pred))\n",
        "  \n",
        "  cm = confusion_matrix(y_test,y_pred)\n",
        "  sns.heatmap(cm, cmap='Blues',annot=True,fmt='g')\n",
        "  plt.xlabel('Predicted')\n",
        "  plt.ylabel('True')"
      ],
      "metadata": {
        "id": "_nptvlnB03RW"
      },
      "execution_count": 9,
      "outputs": []
    },
    {
      "cell_type": "code",
      "source": [
        "#Creo conjuntos de train y test 80-20\n",
        "x_train, x_test, y_train, y_test = train_test_split(X.values, y.values, test_size=0.2, random_state=42)\n",
        "\n",
        "#Armamos una version escalada con minmax\n",
        "min_max_scaler = preprocessing.MinMaxScaler()\n",
        "x_train_minmax = min_max_scaler.fit_transform(x_train) \n",
        "x_test_minmax  = min_max_scaler.transform(x_test) \n",
        "\n",
        "#Creo un clasificador con kernel lineal\n",
        "clf = SVC(kernel='linear', C=5)\n",
        "clf.fit(x_train_minmax, y_train)\n",
        "\n",
        "y_pred=clf.predict(x_test_minmax)\n",
        "\n",
        "f1 = f1_score(y_test, y_pred)\n",
        "accuracy = accuracy_score(y_test, y_pred)\n",
        "precision = precision_score(y_test, y_pred)\n",
        "\n",
        "print(\"F1_score en el conjunto de prueba:\", f1)\n",
        "print(\"Accuracy en el conjunto de prueba:\", accuracy)\n",
        "print(\"Precision en el conjunto de prueba:\", precision)"
      ],
      "metadata": {
        "id": "CFGQ7WrYwpIG",
        "colab": {
          "base_uri": "https://localhost:8080/"
        },
        "outputId": "be592697-c7dc-4d36-8cbc-7b84155d4991"
      },
      "execution_count": 10,
      "outputs": [
        {
          "output_type": "stream",
          "name": "stdout",
          "text": [
            "F1_score en el conjunto de prueba: 0.8181081956592161\n",
            "Accuracy en el conjunto de prueba: 0.8173686778337941\n",
            "Precision en el conjunto de prueba: 0.8107544141252007\n"
          ]
        }
      ]
    },
    {
      "cell_type": "code",
      "source": [
        "x_train, x_test, y_train, y_test = train_test_split(X.values, y.values, test_size=0.2, random_state=42)\n",
        "\n",
        "min_max_scaler = preprocessing.MinMaxScaler()\n",
        "x_train_minmax = min_max_scaler.fit_transform(x_train) \n",
        "x_test_minmax  = min_max_scaler.transform(x_test) \n",
        "\n",
        "#Creo un clasificador con kernel polinomial\n",
        "clf = SVC(kernel='poly', C=5)\n",
        "clf.fit(x_train_minmax, y_train)\n",
        "\n",
        "y_pred=clf.predict(x_test_minmax)\n",
        "\n",
        "f1 = f1_score(y_test, y_pred)\n",
        "accuracy = accuracy_score(y_test, y_pred)\n",
        "precision = precision_score(y_test, y_pred)\n",
        "\n",
        "print(\"F1_score en el conjunto de prueba:\", f1)\n",
        "print(\"Accuracy en el conjunto de prueba:\", accuracy)\n",
        "print(\"Precision en el conjunto de prueba:\", precision)"
      ],
      "metadata": {
        "colab": {
          "base_uri": "https://localhost:8080/"
        },
        "id": "ulfDB-HxEihz",
        "outputId": "dd14c97b-595d-42a0-be29-70eed80d76c4"
      },
      "execution_count": 11,
      "outputs": [
        {
          "output_type": "stream",
          "name": "stdout",
          "text": [
            "F1_score en el conjunto de prueba: 0.8528870024825819\n",
            "Accuracy en el conjunto de prueba: 0.8506261180679785\n",
            "Precision en el conjunto de prueba: 0.8360810174281676\n"
          ]
        }
      ]
    },
    {
      "cell_type": "code",
      "source": [
        "x_train, x_test, y_train, y_test = train_test_split(X.values, y.values, test_size=0.2, random_state=42)\n",
        "\n",
        "min_max_scaler = preprocessing.MinMaxScaler()\n",
        "x_train_minmax = min_max_scaler.fit_transform(x_train) \n",
        "x_test_minmax  = min_max_scaler.transform(x_test) \n",
        "\n",
        "#Creo un clasificador con kernel radial\n",
        "clf = SVC(kernel='rbf', C=5)\n",
        "clf.fit(x_train_minmax, y_train)\n",
        "\n",
        "y_pred=clf.predict(x_test_minmax)\n",
        "\n",
        "f1 = f1_score(y_test, y_pred)\n",
        "accuracy = accuracy_score(y_test, y_pred)\n",
        "precision = precision_score(y_test, y_pred)\n",
        "\n",
        "print(\"F1_score en el conjunto de prueba:\", f1)\n",
        "print(\"Accuracy en el conjunto de prueba:\", accuracy)\n",
        "print(\"Precision en el conjunto de prueba:\", precision)"
      ],
      "metadata": {
        "colab": {
          "base_uri": "https://localhost:8080/"
        },
        "id": "Ao5Ote8EF5Cj",
        "outputId": "0373b61c-8ade-4f1b-abfe-a958ecdf9ef4"
      },
      "execution_count": 12,
      "outputs": [
        {
          "output_type": "stream",
          "name": "stdout",
          "text": [
            "F1_score en el conjunto de prueba: 0.8535531370038412\n",
            "Accuracy en el conjunto de prueba: 0.8511953163115954\n",
            "Precision en el conjunto de prueba: 0.8361555346503606\n"
          ]
        }
      ]
    },
    {
      "cell_type": "markdown",
      "source": [
        "Se puede observar un mejor puntaje F1 cuando se usa un kernel radial."
      ],
      "metadata": {
        "id": "NdAzJgtUHfbV"
      }
    },
    {
      "cell_type": "markdown",
      "source": [
        "## Cross Validation"
      ],
      "metadata": {
        "id": "GiIkl2RtJqzE"
      }
    },
    {
      "cell_type": "markdown",
      "source": [
        "Por temas de tiempo, RandomizedSearchCV tiene solo 5 iteraciones. Los rangos de valores que toman los hiperparámetros descritos fueron obtenidos optimizando el modelo con 10 iteraciones, lo cual tomó cerca de 4 horas. Consideramos que este tiempo podría haberse reducido aplicando tecnicas de reducción de la dimensionalidad.\n",
        " Además, sucede que la cantidad de tiempo que toma correr el código aumenta enormemente mientras mayor sea el número de iteraciones."
      ],
      "metadata": {
        "id": "vjK7sOqyXIU0"
      }
    },
    {
      "cell_type": "code",
      "source": [
        "svm_param_grid = {\n",
        "    'C': list(range(1,20)),\n",
        "    'kernel': ['linear', 'poly', 'rbf'],\n",
        "    'degree': list(range(0,10)),\n",
        "    'gamma': list(np.linspace(0.01,0.05,1)) + ['scale', 'auto'],\n",
        "    'coef0': np.linspace(0.0001,0.0005,1),\n",
        "    'tol': np.linspace(0.00001,0.00005,1),\n",
        "    'max_iter': list(range(-1,40)),\n",
        "    'class_weight': [None, 'balanced']\n",
        "}\n",
        "\n",
        "x_train, x_test, y_train, y_test = train_test_split(X.values, y.values, test_size=0.2, random_state=42)\n",
        "\n",
        "#Hacemos una version escalada con minmax\n",
        "min_max_scaler = preprocessing.MinMaxScaler()\n",
        "x_train_minmax = min_max_scaler.fit_transform(x_train) \n",
        "x_test_minmax  = min_max_scaler.transform(x_test) \n",
        "\n",
        "model = SVC()\n",
        "\n",
        "random_search = RandomizedSearchCV(model, param_distributions=svm_param_grid, scoring='f1', cv=10, n_iter=5, random_state=42)\n",
        "random_search.fit(x_train_minmax, y_train) \n",
        "\n",
        "best_params = random_search.best_params_\n",
        "best_model = SVC(**best_params)\n",
        "\n",
        "best_model.fit(x_train_minmax, y_train)\n",
        "\n",
        "y_pred=best_model.predict(x_test_minmax)\n",
        "\n",
        "f1 = f1_score(y_test, y_pred)\n",
        "accuracy = accuracy_score(y_test, y_pred)\n",
        "precision = precision_score(y_test, y_pred)\n",
        "\n",
        "print(\"Mejores hiperparámetros encontrados:\", best_params)\n",
        "print(\"F1_score en el conjunto de prueba:\", f1)\n",
        "print(\"Accuracy en el conjunto de prueba:\", accuracy)\n",
        "print(\"Precision en el conjunto de prueba:\", precision)"
      ],
      "metadata": {
        "id": "-1dl8-QhJtCg",
        "colab": {
          "base_uri": "https://localhost:8080/"
        },
        "outputId": "ec10c40f-2057-426a-b67a-b997b020aa4c"
      },
      "execution_count": 18,
      "outputs": [
        {
          "output_type": "stream",
          "name": "stdout",
          "text": [
            "Mejores hiperparámetros encontrados: {'tol': 1e-05, 'max_iter': 35, 'kernel': 'poly', 'gamma': 'auto', 'degree': 4, 'coef0': 0.0001, 'class_weight': None, 'C': 17}\n",
            "F1_score en el conjunto de prueba: 0.6609427977687848\n",
            "Accuracy en el conjunto de prueba: 0.49585298422507723\n",
            "Precision en el conjunto de prueba: 0.49663050624589083\n"
          ]
        }
      ]
    },
    {
      "cell_type": "code",
      "source": [
        "cm = confusion_matrix(y_test,y_pred)\n",
        "sns.heatmap(cm, cmap='Blues',annot=True,fmt='g')\n",
        "plt.xlabel('Predicted')\n",
        "plt.ylabel('True')\n",
        "\n",
        "print(classification_report(y_test,y_pred))"
      ],
      "metadata": {
        "colab": {
          "base_uri": "https://localhost:8080/",
          "height": 610
        },
        "id": "pcD8PFmoeT8_",
        "outputId": "85fb7fcc-6abd-4d8c-e123-f625885f4f38"
      },
      "execution_count": 19,
      "outputs": [
        {
          "output_type": "stream",
          "name": "stdout",
          "text": [
            "              precision    recall  f1-score   support\n",
            "\n",
            "           0       0.42      0.01      0.02      6180\n",
            "           1       0.50      0.99      0.66      6118\n",
            "\n",
            "    accuracy                           0.50     12298\n",
            "   macro avg       0.46      0.50      0.34     12298\n",
            "weighted avg       0.46      0.50      0.34     12298\n",
            "\n"
          ]
        },
        {
          "output_type": "display_data",
          "data": {
            "text/plain": [
              "<Figure size 640x480 with 2 Axes>"
            ],
            "image/png": "[encoded data removed]"
          },
          "metadata": {}
        }
      ]
    },
    {
      "cell_type": "markdown",
      "source": [
        "<p>Al ver la matriz de confusión notamos que el modelo está prediciendo como verdaderas a la gran mayoría de las entradas, y a esto se debe el puntaje F1 bajo. Esto se puede deber a la mala selección de hiperparámetros como consecuencia de la baja cantidad de iteraciones utilizadas.<p>\n",
        "<p>Por ejemplo, un parámetro C alto puede estar sobreentrenando nuestro modelo, o un kernel incorrecto que haga que se separen incorrectamente las clases. Esto último es interesante destacarlo, ya que al optimizar hiperparámetros se obtiene que el kernel polinomial es el más adecuado, mientras que en el análisis previo se observa mejores resultados usando el kernel radial.<p>"
      ],
      "metadata": {
        "id": "VhnlvaI2eWPl"
      }
    },
    {
      "cell_type": "code",
      "source": [
        "import joblib\n",
        "joblib.dump(best_model, 'modelo_xgb_final.pkl')\n",
        "loaded_model = joblib.load('modelo_xgb_final.pkl')\n",
        "predicciones = loaded_model.predict(df_hotel_test)"
      ],
      "metadata": {
        "id": "OQBWXEGlu15v"
      },
      "execution_count": null,
      "outputs": []
    },
    {
      "cell_type": "code",
      "source": [
        "df_sub = pd.DataFrame({'id': df_hotel_test_con_is_canceled['id'], 'is_canceled': predicciones})\n",
        "df_sub.to_csv('prediccion_XGB_1.csv', index=False)"
      ],
      "metadata": {
        "id": "yaK1zYNiu3TB"
      },
      "execution_count": null,
      "outputs": []
    }
  ]
}