{
  "nbformat": 4,
  "nbformat_minor": 0,
  "metadata": {
    "colab": {
      "provenance": []
    },
    "kernelspec": {
      "name": "python3",
      "display_name": "Python 3"
    },
    "language_info": {
      "name": "python"
    }
  },
  "cells": [
    {
      "cell_type": "markdown",
      "source": [
        "\n",
        "# **Trabajo Práctico 1 : Reservas de Hotel**\n",
        "### *Checkpoint 3*\n",
        "###Grupo 22: JARVIS\n",
        "+ 107666\tCELANO MINIG, NICOLÁS FRANCO\n",
        "+ 108642\tRANDO, JULIAN AGUSTIN\n",
        "+ 106421\tGOMEZ, ALEJO\n",
        "\n"
      ],
      "metadata": {
        "id": "D3p7F2-_ni5w"
      }
    },
    {
      "cell_type": "markdown",
      "source": [
        "Realizamos los importes necesarios"
      ],
      "metadata": {
        "id": "8yravs1D21M1"
      }
    },
    {
      "cell_type": "code",
      "source": [
        "from sklearn.model_selection import RandomizedSearchCV\n",
        "from sklearn.neighbors import KNeighborsClassifier\n",
        "from sklearn.metrics import f1_score, accuracy_score, precision_score\n",
        "from sklearn.model_selection import train_test_split\n",
        "import numpy as np\n",
        "import pandas as pd\n",
        "\n",
        "import matplotlib.pyplot as plt\n",
        "import seaborn as sns\n",
        "\n",
        "from sklearn import tree\n",
        "from sklearn.model_selection import GridSearchCV\n",
        "from sklearn.ensemble import RandomForestClassifier\n",
        "from sklearn.metrics import confusion_matrix, classification_report\n",
        "from sklearn.metrics import precision_recall_curve, roc_curve, recall_score, accuracy_score,f1_score\n",
        "\n",
        "from sklearn.preprocessing import MinMaxScaler\n",
        "\n",
        "import warnings\n",
        "warnings.simplefilter(action='ignore', category=FutureWarning)\n",
        "warnings.simplefilter(action='ignore', category=UserWarning)\n",
        "\n",
        "from sklearn.ensemble import RandomForestClassifier\n",
        "from sklearn.model_selection import RandomizedSearchCV\n",
        "from scipy.stats import randint\n"
      ],
      "metadata": {
        "id": "qH9USOpIvAmP"
      },
      "execution_count": null,
      "outputs": []
    },
    {
      "cell_type": "markdown",
      "source": [
        "Bajamos los dataframes que usaremos."
      ],
      "metadata": {
        "id": "iXqaZCCv1Mvb"
      }
    },
    {
      "cell_type": "code",
      "source": [
        "hotels_train_url = \"https://raw.githubusercontent.com/agomezalejo/7506R-1C2023-GRUPO22/main/df_hotel_v3.csv\"\n",
        "hotels_test_url = \"https://raw.githubusercontent.com/agomezalejo/7506R-1C2023-GRUPO22/main/hotels_test.csv\"\n",
        "df_original = pd.read_csv(hotels_train_url)\n",
        "df_hotel_test = pd.read_csv(hotels_test_url)\n",
        "df_hotel_test_con_is_canceled = df_hotel_test.copy()\n",
        "df_hotel = df_original.copy()"
      ],
      "metadata": {
        "id": "1mfheNXDx4OF"
      },
      "execution_count": null,
      "outputs": []
    },
    {
      "cell_type": "markdown",
      "source": [
        "Realizamos el tratamiento de datos que consideramos necesarios.\n"
      ],
      "metadata": {
        "id": "Mt-5HYwq1Qve"
      }
    },
    {
      "cell_type": "code",
      "source": [
        "df_hotel_test = df_hotel_test.drop('id', axis=1)\n",
        "df_hotel_test = df_hotel_test.drop('arrival_date_week_number', axis=1)\n",
        "df_hotel_test = df_hotel_test.drop('reservation_status_date', axis=1)\n",
        "df_hotel_test['children'] = df_hotel_test['children'].astype(int)\n",
        "df_hotel['is_repeated_guest'] = df_hotel['is_repeated_guest'].astype(int)\n",
        "df_hotel['is_canceled'] = df_hotel['is_canceled'].astype(int)\n",
        "df_hotel_test['company'] = df_hotel_test['company'].fillna('not company')\n",
        "df_hotel_test['company'] = df_hotel_test['company'].astype(str)\n",
        "df_hotel_test['agent'] = df_hotel_test['agent'].fillna('not agent')\n",
        "df_hotel_test['agent'] = df_hotel_test['agent'].astype(str)"
      ],
      "metadata": {
        "id": "zhHiENtL7GyS"
      },
      "execution_count": null,
      "outputs": []
    },
    {
      "cell_type": "markdown",
      "source": [
        "Con la siguiente funcion cambiaremos de algunas columnas por el valor de su media."
      ],
      "metadata": {
        "id": "xh1xYxdX1VRm"
      }
    },
    {
      "cell_type": "code",
      "source": [
        "def cambiar_columna_por_probabilidad_is_canceled(columna):\n",
        "  global df_hotel_test, df_hotel\n",
        "  probabilidades = df_hotel.groupby(columna)['is_canceled'].mean()\n",
        "  nueva_columna = columna+'_prob_is_canceled'\n",
        "\n",
        "  df_hotel[nueva_columna] = 0\n",
        "  df_hotel[nueva_columna] = df_hotel[columna].map(probabilidades)\n",
        "\n",
        "  df_hotel_test[nueva_columna] = 0\n",
        "  df_hotel_test[nueva_columna] = df_hotel_test[columna].map(probabilidades)\n",
        "\n",
        "  mediana = df_hotel_test[nueva_columna].median()\n",
        "  df_hotel_test[nueva_columna].fillna(mediana, inplace=True)\n",
        "\n",
        "  df_hotel_test = df_hotel_test.drop(columna, axis=1)\n",
        "  df_hotel = df_hotel.drop(columna, axis=1)"
      ],
      "metadata": {
        "id": "8yvcBKejsG4T"
      },
      "execution_count": null,
      "outputs": []
    },
    {
      "cell_type": "markdown",
      "source": [
        "Lo hacemos en coutry, agent y company ya que tienen muchas columnas y realizar otro tipo de tratado de datos, como por ejemplo dummies aumenta mucho la dimensionalidad."
      ],
      "metadata": {
        "id": "ZLvCTCPZ2Ubv"
      }
    },
    {
      "cell_type": "code",
      "source": [
        "cambiar_columna_por_probabilidad_is_canceled('country')\n",
        "cambiar_columna_por_probabilidad_is_canceled('agent')\n",
        "cambiar_columna_por_probabilidad_is_canceled('company')"
      ],
      "metadata": {
        "id": "T9HjLPt5sg3g"
      },
      "execution_count": null,
      "outputs": []
    },
    {
      "cell_type": "markdown",
      "source": [
        "Separamos los datos y realizamos dummies de los datos restantes."
      ],
      "metadata": {
        "id": "sW7p2W6l2ZSv"
      }
    },
    {
      "cell_type": "code",
      "source": [
        "X = df_hotel.drop('is_canceled', axis=1)\n",
        "y = df_hotel['is_canceled']\n",
        "\n",
        "columns = ['hotel','arrival_date_year', 'arrival_date_month', 'meal', 'market_segment', 'distribution_channel','deposit_type', 'customer_type', 'assigned_room_type', 'reserved_room_type']\n",
        "\n",
        "X = pd.get_dummies(X, columns=columns, drop_first=True)\n",
        "\n",
        "df_hotel_test = pd.get_dummies(df_hotel_test, columns=columns, drop_first=True)"
      ],
      "metadata": {
        "id": "3-0yjELXsi6R"
      },
      "execution_count": null,
      "outputs": []
    },
    {
      "cell_type": "markdown",
      "source": [
        "Completamos con las columnas necesarias."
      ],
      "metadata": {
        "id": "WAnl68152cQA"
      }
    },
    {
      "cell_type": "code",
      "source": [
        "columns_X = set(X.columns)\n",
        "columns_test = set(df_hotel_test.columns)\n",
        "\n",
        "missing_columns = list(columns_X - columns_test)\n",
        "for column in missing_columns:\n",
        "    df_hotel_test[column] = 0\n",
        "\n",
        "df_hotel_test = df_hotel_test[X.columns]"
      ],
      "metadata": {
        "id": "pTu554-Ms1MZ"
      },
      "execution_count": null,
      "outputs": []
    },
    {
      "cell_type": "code",
      "source": [
        "param_dist = {\n",
        "    'n_estimators': randint(100, 1000),\n",
        "    'criterion': ['gini', 'entropy'],\n",
        "    'max_depth': randint(10, 100),\n",
        "    'min_samples_split': randint(2, 20),\n",
        "    'min_samples_leaf': randint(1, 10),\n",
        "    'max_features': ['sqrt', 'log2', None],\n",
        "    'bootstrap': [True, False],\n",
        "    'random_state': [42]\n",
        "}\n",
        "\n",
        "\n",
        "rfc = RandomForestClassifier()\n",
        "\n",
        "X_train, X_test, y_train, y_test = train_test_split(X, y, test_size=0.2, random_state=42)\n",
        "\n",
        "model = rfc.fit(X = X_train, y = y_train) \n",
        "\n",
        "random_search = RandomizedSearchCV(estimator=rfc, param_distributions=param_dist, n_iter=1, cv=5, scoring='f1')\n",
        "\n",
        "random_search.fit(X, y)\n",
        "\n",
        "best_params = random_search.best_params_\n",
        "best_model = RandomForestClassifier(**best_params)\n",
        "\n",
        "best_model.fit(X_train, y_train)\n",
        "y_pred = best_model.predict(X_test)\n",
        "\n",
        "f1 = f1_score(y_test, y_pred)\n",
        "accuracy = accuracy_score(y_test, y_pred)\n",
        "precision = precision_score(y_test, y_pred)\n",
        "\n",
        "print(\"Mejores hiperparámetros encontrados:\", best_params)\n",
        "print(\"F1_score en el conjunto de prueba:\", f1)\n",
        "print(\"Accuracy en el conjunto de prueba:\", accuracy)\n",
        "print(\"Precision en el conjunto de prueba:\", precision)\n"
      ],
      "metadata": {
        "id": "d35b6LtiNb3Z",
        "colab": {
          "base_uri": "https://localhost:8080/"
        },
        "outputId": "d26f8fd6-04e7-4aa5-a512-62f05594cea5"
      },
      "execution_count": null,
      "outputs": [
        {
          "output_type": "stream",
          "name": "stdout",
          "text": [
            "Mejores hiperparámetros encontrados: {'bootstrap': True, 'criterion': 'gini', 'max_depth': 12, 'max_features': 'sqrt', 'min_samples_leaf': 9, 'min_samples_split': 2, 'n_estimators': 951, 'random_state': 42}\n",
            "F1_score en el conjunto de prueba: 0.8552898256992298\n",
            "Accuracy en el conjunto de prueba: 0.8548544478777037\n",
            "Precision en el conjunto de prueba: 0.8484799742641145\n"
          ]
        }
      ]
    },
    {
      "cell_type": "code",
      "source": [
        "cm = confusion_matrix(y_test,y_pred)\n",
        "sns.heatmap(cm, cmap='Blues',annot=True,fmt='g')\n",
        "plt.xlabel('Predicted')\n",
        "plt.ylabel('True')"
      ],
      "metadata": {
        "colab": {
          "base_uri": "https://localhost:8080/",
          "height": 467
        },
        "id": "Eh5yH9VnytoJ",
        "outputId": "4fb21b25-7f33-4a0c-8580-3c652ed233d6"
      },
      "execution_count": null,
      "outputs": [
        {
          "output_type": "execute_result",
          "data": {
            "text/plain": [
              "Text(50.722222222222214, 0.5, 'True')"
            ]
          },
          "metadata": {},
          "execution_count": 15
        },
        {
          "output_type": "display_data",
          "data": {
            "text/plain": [
              "<Figure size 640x480 with 2 Axes>"
            ],
            "image/png": "[encoded data removed]"
          },
          "metadata": {}
        }
      ]
    },
    {
      "cell_type": "code",
      "source": [
        "param_dist = {\n",
        "    'n_estimators': randint(650, 850),\n",
        "    'criterion': ['gini', 'entropy'],\n",
        "    'max_depth': randint(7, 47),\n",
        "    'min_samples_split': randint(2, 15),\n",
        "    'min_samples_leaf': randint(1, 15),\n",
        "    'max_features': ['sqrt', 'log2', None],\n",
        "    'bootstrap': [True, False],\n",
        "    'random_state': [42]\n",
        "}\n",
        "\n",
        "\n",
        "rfc = RandomForestClassifier()\n",
        "\n",
        "X_train, X_test, y_train, y_test = train_test_split(X, y, test_size=0.25, random_state=42)\n",
        "\n",
        "random_search = RandomizedSearchCV(estimator=rfc, param_distributions=param_dist, n_iter=3, cv=10, scoring='f1')\n",
        "\n",
        "random_search.fit(X, y)\n",
        "\n",
        "best_params = random_search.best_params_\n",
        "best_model = RandomForestClassifier(**best_params)\n",
        "\n",
        "best_model.fit(X_train, y_train)\n",
        "y_pred = best_model.predict(X_test)\n",
        "\n",
        "f1 = f1_score(y_test, y_pred)\n",
        "accuracy = accuracy_score(y_test, y_pred)\n",
        "precision = precision_score(y_test, y_pred)\n",
        "\n",
        "print(\"Mejores hiperparámetros encontrados:\", best_params)\n",
        "print(\"F1_score en el conjunto de prueba:\", f1)\n",
        "print(\"Accuracy en el conjunto de prueba:\", accuracy)\n",
        "print(\"Precision en el conjunto de prueba:\", precision)"
      ],
      "metadata": {
        "id": "QU4iRU7-fxAy",
        "colab": {
          "base_uri": "https://localhost:8080/"
        },
        "outputId": "8de67ca8-4331-477c-d6a1-e4ff100b9885"
      },
      "execution_count": null,
      "outputs": [
        {
          "output_type": "stream",
          "name": "stdout",
          "text": [
            "Mejores hiperparámetros encontrados: {'bootstrap': True, 'criterion': 'entropy', 'max_depth': 41, 'max_features': 'sqrt', 'min_samples_leaf': 3, 'min_samples_split': 11, 'n_estimators': 740, 'random_state': 42}\n",
            "F1_score en el conjunto de prueba: 0.875839144886919\n",
            "Accuracy en el conjunto de prueba: 0.8760814414883237\n",
            "Precision en el conjunto de prueba: 0.874983721838781\n"
          ]
        }
      ]
    },
    {
      "cell_type": "code",
      "source": [
        "param_dist = {'bootstrap': True, \n",
        "              'criterion': 'entropy', \n",
        "              'max_depth': 41, \n",
        "              'max_features': 'sqrt', \n",
        "              'min_samples_leaf': 3, \n",
        "              'min_samples_split': 11, \n",
        "              'n_estimators': 740, \n",
        "              'random_state': 42\n",
        "              }\n",
        "\n",
        "X_train, X_test, y_train, y_test = train_test_split(X, y, test_size=0.25, random_state=42)              \n",
        "\n",
        "rfc = RandomForestClassifier(**param_dist)\n",
        "\n",
        "rfc.fit(X_train, y_train)\n",
        "y_pred = rfc.predict(X_test)\n",
        "\n",
        "f1 = f1_score(y_test, y_pred)\n",
        "accuracy = accuracy_score(y_test, y_pred)\n",
        "precision = precision_score(y_test, y_pred)\n",
        "\n",
        "print(\"Mejores hiperparámetros encontrados:\", best_params)\n",
        "print(\"F1_score en el conjunto de prueba:\", f1)\n",
        "print(\"Accuracy en el conjunto de prueba:\", accuracy)\n",
        "print(\"Precision en el conjunto de prueba:\", precision)"
      ],
      "metadata": {
        "colab": {
          "base_uri": "https://localhost:8080/"
        },
        "id": "C7k4mZC4zBvI",
        "outputId": "de3076ef-51c7-44a8-8b50-94977b9fd404"
      },
      "execution_count": null,
      "outputs": [
        {
          "output_type": "stream",
          "name": "stdout",
          "text": [
            "Mejores hiperparámetros encontrados: {'bootstrap': True, 'criterion': 'gini', 'max_depth': 12, 'max_features': 'sqrt', 'min_samples_leaf': 9, 'min_samples_split': 2, 'n_estimators': 951, 'random_state': 42}\n",
            "F1_score en el conjunto de prueba: 0.875839144886919\n",
            "Accuracy en el conjunto de prueba: 0.8760814414883237\n",
            "Precision en el conjunto de prueba: 0.874983721838781\n"
          ]
        }
      ]
    },
    {
      "cell_type": "markdown",
      "source": [
        "*   bootstrap: Es un parámetro booleano que indica si se debe aplicar el método \n",
        "*   criterion: Es el criterio utilizado para medir la calidad de una división en un árbol de decisión.\n",
        "*   max_depth: Es la profundidad máxima del árbol de decisión.\n",
        "*   max_features: Es el número máximo de características que se utilizarán en cada árbol del bosque aleatorio.\n",
        "*   min_samples_leaf: Es el número mínimo de muestras requeridas para estar en una hoja de un árbol.\n",
        "*   min_samples_split: Es el número mínimo de muestras requeridas para dividir un nodo interno en un árbol.\n",
        "*   n_estimators: Es el número de árboles que se deben construir en el random fores.\n"
      ],
      "metadata": {
        "id": "16Kcj7jV3xQM"
      }
    },
    {
      "cell_type": "code",
      "source": [
        "cm = confusion_matrix(y_test,y_pred)\n",
        "sns.heatmap(cm, cmap='Blues',annot=True,fmt='g')\n",
        "plt.xlabel('Predicted')\n",
        "plt.ylabel('True')"
      ],
      "metadata": {
        "colab": {
          "base_uri": "https://localhost:8080/",
          "height": 467
        },
        "id": "J9oH8RIqxp8s",
        "outputId": "35f445b5-d68f-4939-c3fc-aa20b4ee32d5"
      },
      "execution_count": null,
      "outputs": [
        {
          "output_type": "execute_result",
          "data": {
            "text/plain": [
              "Text(50.722222222222214, 0.5, 'True')"
            ]
          },
          "metadata": {},
          "execution_count": 18
        },
        {
          "output_type": "display_data",
          "data": {
            "text/plain": [
              "<Figure size 640x480 with 2 Axes>"
            ],
            "image/png": "[encoded data removed]"
          },
          "metadata": {}
        }
      ]
    },
    {
      "cell_type": "markdown",
      "source": [
        "Descargamos el modelo y realizamo"
      ],
      "metadata": {
        "id": "Qr6U3ySd27mZ"
      }
    },
    {
      "cell_type": "code",
      "source": [
        "import joblib\n",
        "joblib.dump(best_model, 'modelo_RF_p3_final.pkl')\n",
        "loaded_model = joblib.load('modelo_RF_p3_final.pkl')\n",
        "predicciones = loaded_model.predict(df_hotel_test)"
      ],
      "metadata": {
        "id": "qCFqmSuYB9gj"
      },
      "execution_count": null,
      "outputs": []
    },
    {
      "cell_type": "code",
      "source": [
        "df_sub = pd.DataFrame({'id': df_hotel_test_con_is_canceled['id'], 'is_canceled': predicciones})\n",
        "df_sub.to_csv('prediccion_RF_p3_final.csv', index=False)"
      ],
      "metadata": {
        "id": "rJiTPVhPB9ai"
      },
      "execution_count": null,
      "outputs": []
    }
  ]
}