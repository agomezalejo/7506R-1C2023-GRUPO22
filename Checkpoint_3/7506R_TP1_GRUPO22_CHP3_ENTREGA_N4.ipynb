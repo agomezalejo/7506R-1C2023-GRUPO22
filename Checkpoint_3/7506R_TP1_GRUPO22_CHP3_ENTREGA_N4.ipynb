{
  "nbformat": 4,
  "nbformat_minor": 0,
  "metadata": {
    "colab": {
      "provenance": []
    },
    "kernelspec": {
      "name": "python3",
      "display_name": "Python 3"
    },
    "language_info": {
      "name": "python"
    }
  },
  "cells": [
    {
      "cell_type": "markdown",
      "source": [
        "#XGBoost\n"
      ],
      "metadata": {
        "id": "N_3gaSNCqpux"
      }
    },
    {
      "cell_type": "markdown",
      "source": [
        "Realizamos los importes necesarios para trabajar."
      ],
      "metadata": {
        "id": "bX5lfTAnAIr7"
      }
    },
    {
      "cell_type": "code",
      "execution_count": 17,
      "metadata": {
        "id": "gBgQzby8pbNO"
      },
      "outputs": [],
      "source": [
        "import pandas as pd\n",
        "import sklearn as sk\n",
        "import seaborn as sns\n",
        "import matplotlib.pyplot as plt\n",
        "import numpy as np\n",
        "\n",
        "from sklearn.datasets import load_iris\n",
        "from sklearn import preprocessing\n",
        "from sklearn.model_selection import train_test_split, RandomizedSearchCV\n",
        "import xgboost as xgb\n",
        "from sklearn.datasets import make_classification\n",
        "from sklearn.metrics import confusion_matrix, classification_report\n",
        "from sklearn.metrics import f1_score, accuracy_score, precision_score\n",
        "from sklearn.model_selection import cross_val_score, RepeatedStratifiedKFold\n",
        "\n",
        "\n",
        "from google.colab import files\n",
        "import warnings\n",
        "warnings.simplefilter(action='ignore', category=FutureWarning)\n",
        "warnings.simplefilter(action='ignore', category=UserWarning)\n",
        "pd.options.mode.chained_assignment = None\n",
        "pd.set_option('display.max_columns', None)\n",
        "colors = sns.color_palette(n_colors=15)"
      ]
    },
    {
      "cell_type": "markdown",
      "source": [
        "Bajamos los dataframes que usaremos."
      ],
      "metadata": {
        "id": "pupRUzWwAOg9"
      }
    },
    {
      "cell_type": "code",
      "source": [
        "hotels_train_url = \"https://raw.githubusercontent.com/agomezalejo/7506R-1C2023-GRUPO22/main/df_hotel_v3.csv\"\n",
        "hotels_test_url = \"https://raw.githubusercontent.com/agomezalejo/7506R-1C2023-GRUPO22/main/hotels_test.csv\"\n",
        "df_original = pd.read_csv(hotels_train_url)\n",
        "df_hotel_test = pd.read_csv(hotels_test_url)\n",
        "df_hotel_test_con_is_canceled = df_hotel_test.copy()\n",
        "df_hotel = df_original.copy()"
      ],
      "metadata": {
        "id": "Yv3KZoFfp1rK"
      },
      "execution_count": 18,
      "outputs": []
    },
    {
      "cell_type": "code",
      "source": [
        "df_hotel_test = df_hotel_test.drop('id', axis=1)\n",
        "df_hotel_test = df_hotel_test.drop('arrival_date_week_number', axis=1)\n",
        "df_hotel_test = df_hotel_test.drop('reservation_status_date', axis=1)\n",
        "df_hotel_test['children'] = df_hotel_test['children'].astype(int)\n",
        "df_hotel['is_repeated_guest'] = df_hotel['is_repeated_guest'].astype(int)\n",
        "df_hotel['is_canceled'] = df_hotel['is_canceled'].astype(int)\n",
        "df_hotel_test['company'] = df_hotel_test['company'].fillna('not company')\n",
        "df_hotel_test['company'] = df_hotel_test['company'].astype(str)\n",
        "df_hotel_test['agent'] = df_hotel_test['agent'].fillna('not agent')\n",
        "df_hotel_test['agent'] = df_hotel_test['agent'].astype(str)"
      ],
      "metadata": {
        "id": "NvoQ3LRlp2zs"
      },
      "execution_count": 19,
      "outputs": []
    },
    {
      "cell_type": "code",
      "source": [
        "# Contamos los valores faltantes\n",
        "num_missing = df_hotel.isna().sum()\n",
        "print(\"El número total de valores faltantes en el DataFrame es:\", num_missing.sum())"
      ],
      "metadata": {
        "colab": {
          "base_uri": "https://localhost:8080/"
        },
        "id": "9hfZ9CDRp4Ew",
        "outputId": "c98fcf52-0704-4667-954b-459901e1bf94"
      },
      "execution_count": 20,
      "outputs": [
        {
          "output_type": "stream",
          "name": "stdout",
          "text": [
            "El número total de valores faltantes en el DataFrame es: 0\n"
          ]
        }
      ]
    },
    {
      "cell_type": "code",
      "source": [
        "def cambiar_columna_por_probabilidad_is_canceled(columna):\n",
        "  global df_hotel_test, df_hotel\n",
        "  probabilidades = df_hotel.groupby(columna)['is_canceled'].mean()\n",
        "  nueva_columna = columna+'_prob_is_canceled'\n",
        "\n",
        "  df_hotel[nueva_columna] = 0\n",
        "  df_hotel[nueva_columna] = df_hotel[columna].map(probabilidades)\n",
        "\n",
        "  df_hotel_test[nueva_columna] = 0\n",
        "  df_hotel_test[nueva_columna] = df_hotel_test[columna].map(probabilidades)\n",
        "\n",
        "  mediana = df_hotel_test[nueva_columna].median()\n",
        "  df_hotel_test[nueva_columna].fillna(mediana, inplace=True)\n",
        "\n",
        "  df_hotel_test = df_hotel_test.drop(columna, axis=1)\n",
        "  df_hotel = df_hotel.drop(columna, axis=1)"
      ],
      "metadata": {
        "id": "0zmuxeS3p545"
      },
      "execution_count": 21,
      "outputs": []
    },
    {
      "cell_type": "code",
      "source": [
        "cambiar_columna_por_probabilidad_is_canceled('country')\n",
        "cambiar_columna_por_probabilidad_is_canceled('agent')\n",
        "cambiar_columna_por_probabilidad_is_canceled('company')"
      ],
      "metadata": {
        "id": "NPH-ASN0p7Jv"
      },
      "execution_count": 22,
      "outputs": []
    },
    {
      "cell_type": "code",
      "source": [
        "X = df_hotel.drop('is_canceled', axis=1)\n",
        "y = df_hotel['is_canceled']\n",
        "\n",
        "columns = ['hotel','arrival_date_year', 'arrival_date_month', 'meal', 'market_segment', 'distribution_channel','deposit_type', 'customer_type', 'assigned_room_type', 'reserved_room_type']\n",
        "\n",
        "X = pd.get_dummies(X, columns=columns, drop_first=True)\n",
        "\n",
        "df_hotel_test = pd.get_dummies(df_hotel_test, columns=columns, drop_first=True)"
      ],
      "metadata": {
        "id": "rfxwE2Y0p8Q2"
      },
      "execution_count": 23,
      "outputs": []
    },
    {
      "cell_type": "code",
      "source": [
        "columns_X = set(X.columns)\n",
        "columns_test = set(df_hotel_test.columns)\n",
        "\n",
        "missing_columns = list(columns_X - columns_test)\n",
        "for column in missing_columns:\n",
        "    df_hotel_test[column] = 0\n",
        "\n",
        "df_hotel_test = df_hotel_test[X.columns]"
      ],
      "metadata": {
        "id": "rFQS5FGJp9i6"
      },
      "execution_count": 24,
      "outputs": []
    },
    {
      "cell_type": "code",
      "source": [
        "def metricas(y_pred,y_test):\n",
        "\n",
        "  print(classification_report(y_test,y_pred))\n",
        "  \n",
        "  cm = confusion_matrix(y_test,y_pred)\n",
        "  sns.heatmap(cm, cmap='Blues',annot=True,fmt='g')\n",
        "  plt.xlabel('Predicted')\n",
        "  plt.ylabel('True')"
      ],
      "metadata": {
        "id": "hpuK7h00p-mP"
      },
      "execution_count": 25,
      "outputs": []
    },
    {
      "cell_type": "markdown",
      "source": [
        "## XGBoost sin optimización"
      ],
      "metadata": {
        "id": "WhjHOlpAr7ka"
      }
    },
    {
      "cell_type": "code",
      "source": [
        "#Creamos conjuntos de train y test 80-20\n",
        "x_train, x_test, y_train, y_test = train_test_split(X.values, y.values, test_size=0.2, random_state=42)\n",
        "\n",
        "xgb_model = xgb.XGBClassifier(random_state=0, n_estimators=100)\n",
        "xgb_model.fit(x_train, y_train)\n",
        "\n",
        "#Hacemos la predicción y calculamos las métricas\n",
        "y_pred=xgb_model.predict(x_test)\n",
        "\n",
        "f1 = f1_score(y_test, y_pred)\n",
        "accuracy = accuracy_score(y_test, y_pred)\n",
        "precision = precision_score(y_test, y_pred)\n",
        "\n",
        "print(\"F1_score en el conjunto de prueba:\", f1)\n",
        "print(\"Accuracy en el conjunto de prueba:\", accuracy)\n",
        "print(\"Precision en el conjunto de prueba:\", precision)\n"
      ],
      "metadata": {
        "colab": {
          "base_uri": "https://localhost:8080/"
        },
        "id": "xOqTs4TaqPVw",
        "outputId": "46f4dec3-ba58-4922-f95e-57a8461f8963"
      },
      "execution_count": 26,
      "outputs": [
        {
          "output_type": "stream",
          "name": "stdout",
          "text": [
            "F1_score en el conjunto de prueba: 0.8716254331533564\n",
            "Accuracy en el conjunto de prueba: 0.8704667425597659\n",
            "Precision en el conjunto de prueba: 0.8596407566364648\n"
          ]
        }
      ]
    },
    {
      "cell_type": "code",
      "source": [
        "y_pred=xgb_model.predict(x_test)\n",
        "\n",
        "cm = confusion_matrix(y_test,y_pred)\n",
        "sns.heatmap(cm, cmap='Blues',annot=True,fmt='g')\n",
        "plt.xlabel('Predicted')\n",
        "plt.ylabel('True')\n",
        "\n",
        "print(classification_report(y_test,y_pred))"
      ],
      "metadata": {
        "colab": {
          "base_uri": "https://localhost:8080/",
          "height": 610
        },
        "id": "OtDyrItKrx6U",
        "outputId": "7cf5ddcb-2c26-4a33-c272-2c009241e498"
      },
      "execution_count": 27,
      "outputs": [
        {
          "output_type": "stream",
          "name": "stdout",
          "text": [
            "              precision    recall  f1-score   support\n",
            "\n",
            "           0       0.88      0.86      0.87      6180\n",
            "           1       0.86      0.88      0.87      6118\n",
            "\n",
            "    accuracy                           0.87     12298\n",
            "   macro avg       0.87      0.87      0.87     12298\n",
            "weighted avg       0.87      0.87      0.87     12298\n",
            "\n"
          ]
        },
        {
          "output_type": "display_data",
          "data": {
            "text/plain": [
              "<Figure size 640x480 with 2 Axes>"
            ],
            "image/png": "[encoded data removed]"
          },
          "metadata": {}
        }
      ]
    },
    {
      "cell_type": "markdown",
      "source": [
        "Observamos que el rendimiento de XGBoost es destacable a pesar de no haber optimizado sus hiperparámetros."
      ],
      "metadata": {
        "id": "rplywFrGgVmX"
      }
    },
    {
      "cell_type": "markdown",
      "source": [
        "## XGBoost con CrossValidation"
      ],
      "metadata": {
        "id": "D95wTf48r_rm"
      }
    },
    {
      "cell_type": "code",
      "source": [
        "x_train, x_test, y_train, y_test = train_test_split(X.values, y.values, test_size=0.2, random_state=42)\n",
        "\n",
        "param_dist = {\n",
        "    'learning_rate': [0.01, 0.02],\n",
        "    'max_depth': list(range(10,20)),\n",
        "    'n_estimators': [450, 500, 550],\n",
        "    'gamma': [0, 0.001, 0.05, 0.1],\n",
        "    'subsample': [0.5, 0.7, 0.9],\n",
        "    'colsample_bytree': [0.7, 0.9, 1],\n",
        "    'reg_alpha': [0, 0.1, 0.2, 0.05],\n",
        "    'reg_lambda': [0, 0.1, 0.8, 1, 1.5]\n",
        "}\n",
        "\n",
        "# Nota: si no se indica el objective TypeError tira \"Cannot clone object\"\n",
        "xgb_model = xgb.XGBClassifier(objective='binary:logistic')\n",
        "\n",
        "random_search = RandomizedSearchCV(\n",
        "    estimator=xgb_model,\n",
        "    param_distributions=param_dist,\n",
        "    n_iter=1,\n",
        "    cv=5,\n",
        "    verbose=2,\n",
        "    random_state=42,\n",
        "    n_jobs=-1\n",
        ")\n",
        "\n",
        "random_search.fit(x_train, y_train)\n",
        "\n",
        "best_params = random_search.best_params_\n",
        "best_model = xgb.XGBClassifier(**best_params)\n",
        "\n",
        "best_model.fit(x_train, y_train)\n",
        "\n",
        "y_pred=best_model.predict(x_test)\n",
        "\n",
        "f1 = f1_score(y_test, y_pred)\n",
        "accuracy = accuracy_score(y_test, y_pred)\n",
        "precision = precision_score(y_test, y_pred)\n",
        "\n",
        "print(\"Mejores hiperparámetros encontrados:\", best_params)\n",
        "print(\"F1_score en el conjunto de prueba:\", f1)\n",
        "print(\"Accuracy en el conjunto de prueba:\", accuracy)\n",
        "print(\"Precision en el conjunto de prueba:\", precision)"
      ],
      "metadata": {
        "colab": {
          "base_uri": "https://localhost:8080/"
        },
        "id": "Ro5g59S7s5lp",
        "outputId": "019aeef3-dda8-4feb-be8f-8a3d439e1afc"
      },
      "execution_count": 28,
      "outputs": [
        {
          "output_type": "stream",
          "name": "stdout",
          "text": [
            "Fitting 5 folds for each of 1 candidates, totalling 5 fits\n",
            "Mejores hiperparámetros encontrados: {'subsample': 0.5, 'reg_lambda': 0, 'reg_alpha': 0.1, 'n_estimators': 550, 'max_depth': 17, 'learning_rate': 0.01, 'gamma': 0, 'colsample_bytree': 0.9}\n",
            "F1_score en el conjunto de prueba: 0.8826328950552554\n",
            "Accuracy en el conjunto de prueba: 0.8816880793624979\n",
            "Precision en el conjunto de prueba: 0.8713170887083931\n"
          ]
        }
      ]
    },
    {
      "cell_type": "code",
      "source": [
        "cm = confusion_matrix(y_test,y_pred)\n",
        "sns.heatmap(cm, cmap='Blues',annot=True,fmt='g')\n",
        "plt.xlabel('Predicted')\n",
        "plt.ylabel('True')\n",
        "\n",
        "print(classification_report(y_test,y_pred))"
      ],
      "metadata": {
        "colab": {
          "base_uri": "https://localhost:8080/",
          "height": 610
        },
        "id": "6qJXIoVr_U6y",
        "outputId": "7205b56a-a692-46eb-8992-056fee77918a"
      },
      "execution_count": 29,
      "outputs": [
        {
          "output_type": "stream",
          "name": "stdout",
          "text": [
            "              precision    recall  f1-score   support\n",
            "\n",
            "           0       0.89      0.87      0.88      6180\n",
            "           1       0.87      0.89      0.88      6118\n",
            "\n",
            "    accuracy                           0.88     12298\n",
            "   macro avg       0.88      0.88      0.88     12298\n",
            "weighted avg       0.88      0.88      0.88     12298\n",
            "\n"
          ]
        },
        {
          "output_type": "display_data",
          "data": {
            "text/plain": [
              "<Figure size 640x480 with 2 Axes>"
            ],
            "image/png": "[encoded data removed]"
          },
          "metadata": {}
        }
      ]
    },
    {
      "cell_type": "markdown",
      "source": [
        "Como se puede observar, el ensamble tiene un mejor puntaje F1 luego de optimizar sus hiperparámetros. Consideramos que es posible optimizarlo aun más, pero esto aumenta el tiempo que toma en correr el código de arriba. A pesar de esto creemos que un puntaje F1 de 0.88 es más que satisfactorio si lo comparamos al desempeño de los anteriores ensambles."
      ],
      "metadata": {
        "id": "iXwLw0qg_sfp"
      }
    },
    {
      "cell_type": "code",
      "source": [
        "import joblib\n",
        "joblib.dump(best_model, 'modelo_xgb_final.pkl')\n",
        "loaded_model = joblib.load('modelo_xgb_final.pkl')\n",
        "predicciones = loaded_model.predict(df_hotel_test)"
      ],
      "metadata": {
        "id": "GFK66EratGr3"
      },
      "execution_count": 32,
      "outputs": []
    },
    {
      "cell_type": "code",
      "source": [
        "df_sub = pd.DataFrame({'id': df_hotel_test_con_is_canceled['id'], 'is_canceled': predicciones})\n",
        "df_sub.to_csv('prediccion_XGB_1.csv', index=False)"
      ],
      "metadata": {
        "id": "ADgGQLYgtH9r"
      },
      "execution_count": 33,
      "outputs": []
    }
  ]
}