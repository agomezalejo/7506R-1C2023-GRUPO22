{
  "cells": [
    {
      "cell_type": "markdown",
      "metadata": {
        "id": "D3p7F2-_ni5w"
      },
      "source": [
        "# **Trabajo Práctico 1 : Reservas de Hotel**\n",
        "### *Checkpoint 3*\n",
        "###Grupo 22: JARVIS\n",
        "+ 107666\tCELANO MINIG, NICOLÁS FRANCO\n",
        "+ 108642\tRANDO, JULIAN AGUSTIN\n",
        "+ 106421\tGOMEZ, ALEJO\n",
        "\n"
      ]
    },
    {
      "cell_type": "markdown",
      "source": [
        "#**KNeighborsClassifier**#"
      ],
      "metadata": {
        "id": "Zw2iKDptZUf5"
      }
    },
    {
      "cell_type": "markdown",
      "source": [
        "Realizamos los importes necesarios para trabajar."
      ],
      "metadata": {
        "id": "2lSDyFs18ZoL"
      }
    },
    {
      "cell_type": "code",
      "execution_count": null,
      "metadata": {
        "id": "qH9USOpIvAmP"
      },
      "outputs": [],
      "source": [
        "from sklearn.model_selection import RandomizedSearchCV\n",
        "from sklearn.neighbors import KNeighborsClassifier\n",
        "from sklearn.metrics import confusion_matrix, f1_score, accuracy_score, precision_score, recall_score, classification_report\n",
        "from sklearn.model_selection import train_test_split, RandomizedSearchCV\n",
        "import numpy as np\n",
        "import pandas as pd\n",
        "import matplotlib.pyplot as plt\n",
        "import seaborn as sns\n",
        "import joblib\n",
        "\n",
        "from sklearn.ensemble import VotingClassifier\n",
        "from sklearn.tree import DecisionTreeClassifier\n",
        "from sklearn.ensemble import RandomForestClassifier\n",
        "from sklearn.linear_model import LogisticRegression"
      ]
    },
    {
      "cell_type": "markdown",
      "source": [
        "Bajamos los dataframes que usaremos."
      ],
      "metadata": {
        "id": "4_lgr_V08fHb"
      }
    },
    {
      "cell_type": "code",
      "execution_count": null,
      "metadata": {
        "id": "1mfheNXDx4OF"
      },
      "outputs": [],
      "source": [
        "hotels_train_url = \"https://raw.githubusercontent.com/agomezalejo/7506R-1C2023-GRUPO22/main/df_hotel_v3.csv\"\n",
        "hotels_test_url = \"https://raw.githubusercontent.com/agomezalejo/7506R-1C2023-GRUPO22/main/hotels_test.csv\"\n",
        "df_original = pd.read_csv(hotels_train_url)\n",
        "df_hotel_test = pd.read_csv(hotels_test_url)\n",
        "df_hotel_test_con_is_canceled = df_hotel_test.copy()\n",
        "df_hotel = df_original.copy()"
      ]
    },
    {
      "cell_type": "markdown",
      "source": [
        "Realizamos el tratamiento de datos que consideramos necesarios."
      ],
      "metadata": {
        "id": "GpNO3ZyY8qxy"
      }
    },
    {
      "cell_type": "code",
      "execution_count": null,
      "metadata": {
        "id": "zhHiENtL7GyS"
      },
      "outputs": [],
      "source": [
        "df_hotel_test = df_hotel_test.drop('id', axis=1)\n",
        "df_hotel_test = df_hotel_test.drop('arrival_date_week_number', axis=1)\n",
        "df_hotel_test = df_hotel_test.drop('reservation_status_date', axis=1)\n",
        "df_hotel_test['children'] = df_hotel_test['children'].astype(int)\n",
        "df_hotel['is_repeated_guest'] = df_hotel['is_repeated_guest'].astype(int)\n",
        "df_hotel['is_canceled'] = df_hotel['is_canceled'].astype(int)\n",
        "df_hotel_test['company'] = df_hotel_test['company'].fillna('not company')\n",
        "df_hotel_test['company'] = df_hotel_test['company'].astype(str)\n",
        "df_hotel_test['agent'] = df_hotel_test['agent'].fillna('not agent')\n",
        "df_hotel_test['agent'] = df_hotel_test['agent'].astype(str)"
      ]
    },
    {
      "cell_type": "markdown",
      "source": [
        "Con la siguiente funcion cambiaremos de algunas columnas por el valor de su media.\n",
        "\n"
      ],
      "metadata": {
        "id": "WHHuKMx59lKG"
      }
    },
    {
      "cell_type": "code",
      "execution_count": null,
      "metadata": {
        "id": "8yvcBKejsG4T"
      },
      "outputs": [],
      "source": [
        "def cambiar_columna_por_probabilidad_is_canceled(columna):\n",
        "  global df_hotel_test, df_hotel\n",
        "  probabilidades = df_hotel.groupby(columna)['is_canceled'].mean()\n",
        "  nueva_columna = columna+'_prob_is_canceled'\n",
        "\n",
        "  df_hotel[nueva_columna] = 0\n",
        "  df_hotel[nueva_columna] = df_hotel[columna].map(probabilidades)\n",
        "\n",
        "  df_hotel_test[nueva_columna] = 0\n",
        "  df_hotel_test[nueva_columna] = df_hotel_test[columna].map(probabilidades)\n",
        "\n",
        "  mediana = df_hotel_test[nueva_columna].median()\n",
        "  df_hotel_test[nueva_columna].fillna(mediana, inplace=True)\n",
        "\n",
        "  df_hotel_test = df_hotel_test.drop(columna, axis=1)\n",
        "  df_hotel = df_hotel.drop(columna, axis=1)"
      ]
    },
    {
      "cell_type": "markdown",
      "source": [
        "Se la aplicaremos a todas las variables categóricas ya que consideramos que reemplazar sus valores por la media es mejor que realizar dummies de varias categorias porque aumenta la dimensionalidad del dataframe."
      ],
      "metadata": {
        "id": "9N-Q4xRDTB9C"
      }
    },
    {
      "cell_type": "code",
      "execution_count": null,
      "metadata": {
        "id": "T9HjLPt5sg3g"
      },
      "outputs": [],
      "source": [
        "variables_categoricas = ['country', 'agent', 'company', 'arrival_date_month', 'market_segment', 'distribution_channel', 'arrival_date_year', \n",
        "                         'hotel', 'meal', 'customer_type', 'assigned_room_type', 'deposit_type', 'reserved_room_type']\n",
        "\n",
        "for variable in variables_categoricas:\n",
        "  cambiar_columna_por_probabilidad_is_canceled(variable)"
      ]
    },
    {
      "cell_type": "markdown",
      "source": [
        "Dividimos el dataframe."
      ],
      "metadata": {
        "id": "XLhi1Rt3Tlp3"
      }
    },
    {
      "cell_type": "code",
      "execution_count": null,
      "metadata": {
        "id": "3-0yjELXsi6R"
      },
      "outputs": [],
      "source": [
        "X = df_hotel.drop('is_canceled', axis=1)\n",
        "y = df_hotel['is_canceled']"
      ]
    },
    {
      "cell_type": "markdown",
      "source": [
        "Completamos con las columnas faltantes."
      ],
      "metadata": {
        "id": "8E-BuQnrTxpL"
      }
    },
    {
      "cell_type": "code",
      "execution_count": null,
      "metadata": {
        "id": "pTu554-Ms1MZ"
      },
      "outputs": [],
      "source": [
        "columns_X = set(X.columns)\n",
        "columns_test = set(df_hotel_test.columns)\n",
        "\n",
        "missing_columns = list(columns_X - columns_test)\n",
        "for column in missing_columns:\n",
        "    df_hotel_test[column] = 0\n",
        "\n",
        "df_hotel_test = df_hotel_test[X.columns]"
      ]
    },
    {
      "cell_type": "markdown",
      "source": [
        "Armamos un Knn utilizando Random search para la optimización de hiperparametros.\n",
        "\n",
        "\n",
        "*   **n_neighbors**: especifica el número de vecinos más cercanos.\n",
        "*   **weights**: determina el peso que se asignará a los vecinos más cercanos\n",
        "*   **p**: determina la métrica de distancia utilizada para medir la cercanía entre puntos de datos."
      ],
      "metadata": {
        "id": "s99uDhabUGE9"
      }
    },
    {
      "cell_type": "code",
      "source": [
        "param_dist = {'n_neighbors': [5,7,10,12],\n",
        "              'weights': ['distance','uniform'],\n",
        "              'p': [1,2],}\n",
        "\n",
        "X_train, X_test, y_train, y_test = train_test_split(X, y, test_size=0.2, random_state=42)\n",
        "\n",
        "knn = KNeighborsClassifier()\n",
        "\n",
        "random_search = RandomizedSearchCV(estimator=knn, param_distributions=param_dist, n_iter=3, cv=5, scoring='f1', random_state=42)\n",
        "random_search.fit(X, y)\n",
        "\n",
        "best_params = random_search.best_params_\n",
        "\n",
        "best_model = KNeighborsClassifier(**best_params)\n",
        "best_model.fit(X_train, y_train)\n",
        "\n",
        "y_pred = best_model.predict(X_test)\n",
        "\n",
        "f1 = f1_score(y_test, y_pred)\n",
        "accuracy = accuracy_score(y_test, y_pred)\n",
        "precision = precision_score(y_test, y_pred)\n",
        "recall = recall_score(y_test, y_pred)\n",
        "\n",
        "print(\"Mejores hiperparámetros encontrados:\", best_params)\n",
        "print(\"F1_score en el conjunto de prueba:\", f1)\n",
        "print(\"Accuracy en el conjunto de prueba:\", accuracy)\n",
        "print(\"Precision en el conjunto de prueba:\", precision)\n",
        "print(\"Recall en el conjunto de prueba:\", recall)\n",
        "\n",
        "cm = confusion_matrix(y_test,y_pred)\n",
        "sns.heatmap(cm, cmap='Blues',annot=True,fmt='g')\n",
        "plt.xlabel('Predicted')\n",
        "plt.ylabel('True')"
      ],
      "metadata": {
        "colab": {
          "base_uri": "https://localhost:8080/",
          "height": 553
        },
        "id": "X9HX8MHhhBg-",
        "outputId": "9a694ca1-78bc-40b5-904b-fe5f46406fec"
      },
      "execution_count": null,
      "outputs": [
        {
          "output_type": "stream",
          "name": "stdout",
          "text": [
            "Mejores hiperparámetros encontrados: {'weights': 'distance', 'p': 1, 'n_neighbors': 7}\n",
            "F1_score en el conjunto de prueba: 0.7604091165337843\n",
            "Accuracy en el conjunto de prueba: 0.7580907464628395\n",
            "Precision en el conjunto de prueba: 0.7494840450865217\n",
            "Recall en el conjunto de prueba: 0.7716574043805166\n"
          ]
        },
        {
          "output_type": "execute_result",
          "data": {
            "text/plain": [
              "Text(50.722222222222214, 0.5, 'True')"
            ]
          },
          "metadata": {},
          "execution_count": 8
        },
        {
          "output_type": "display_data",
          "data": {
            "text/plain": [
              "<Figure size 640x480 with 2 Axes>"
            ],
            "image/png": "[encoded data removed]"
          },
          "metadata": {}
        }
      ]
    },
    {
      "cell_type": "markdown",
      "source": [
        "Los resultados muestran que el modelo ha obtenido un rendimiento general bueno, como se puede ver en el F1_score y Accuracy que están muy cercanos. La precisión y recall son medidas que muestran cómo se comporta el modelo en la clasificación de las instancias, y en este caso, la precisión es ligeramente más baja que el recall. Esto indica que el modelo puede estar enfocado en clasificar instancias como positivas, pero en general, ambos resultados son buenos."
      ],
      "metadata": {
        "id": "D0HFTYTeb9Hr"
      }
    },
    {
      "cell_type": "markdown",
      "source": [
        "Descargamos el modelo y realizamos la predicción correspondiente."
      ],
      "metadata": {
        "id": "dhlMfrAMcSmb"
      }
    },
    {
      "cell_type": "code",
      "execution_count": null,
      "metadata": {
        "id": "t-3cZpC7Bw2z"
      },
      "outputs": [],
      "source": [
        "joblib.dump(best_model, 'modelo_knn_final.pkl')\n",
        "loaded_model = joblib.load('modelo_knn_final.pkl')\n",
        "predicciones = loaded_model.predict(df_hotel_test)"
      ]
    },
    {
      "cell_type": "code",
      "execution_count": null,
      "metadata": {
        "id": "BSJ3_PkGByzZ"
      },
      "outputs": [],
      "source": [
        "df_sub = pd.DataFrame({'id': df_hotel_test_con_is_canceled['id'], 'is_canceled': predicciones})\n",
        "df_sub.to_csv('prediccion_knn_final.csv', index=False)"
      ]
    }
  ],
  "metadata": {
    "colab": {
      "provenance": []
    },
    "kernelspec": {
      "display_name": "Python 3",
      "name": "python3"
    },
    "language_info": {
      "name": "python"
    }
  },
  "nbformat": 4,
  "nbformat_minor": 0
}