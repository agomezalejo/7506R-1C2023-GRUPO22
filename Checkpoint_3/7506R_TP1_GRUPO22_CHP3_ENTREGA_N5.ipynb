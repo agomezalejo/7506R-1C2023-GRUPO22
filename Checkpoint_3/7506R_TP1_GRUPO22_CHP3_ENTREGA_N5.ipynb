{
  "nbformat": 4,
  "nbformat_minor": 0,
  "metadata": {
    "colab": {
      "provenance": []
    },
    "kernelspec": {
      "name": "python3",
      "display_name": "Python 3"
    },
    "language_info": {
      "name": "python"
    }
  },
  "cells": [
    {
      "cell_type": "markdown",
      "source": [
        "# Stacking"
      ],
      "metadata": {
        "id": "p8wVmqjNKD6N"
      }
    },
    {
      "cell_type": "markdown",
      "source": [
        "# Sección nueva"
      ],
      "metadata": {
        "id": "LucoaSMykzN2"
      }
    },
    {
      "cell_type": "markdown",
      "source": [
        "Realizamos los importes necesarios."
      ],
      "metadata": {
        "id": "T5qmIxp8SY45"
      }
    },
    {
      "cell_type": "code",
      "execution_count": 1,
      "metadata": {
        "id": "9RTSZ8sdJWH0"
      },
      "outputs": [],
      "source": [
        "import pandas as pd\n",
        "import sklearn as sk\n",
        "import seaborn as sns\n",
        "import matplotlib.pyplot as plt\n",
        "import numpy as np\n",
        "import joblib\n",
        "from collections import defaultdict\n",
        "\n",
        "from sklearn.datasets import load_iris, make_classification\n",
        "from sklearn import preprocessing\n",
        "from sklearn.model_selection import train_test_split, RandomizedSearchCV, cross_val_score, RepeatedStratifiedKFold\n",
        "import xgboost as xgb\n",
        "from sklearn.metrics import confusion_matrix, classification_report, f1_score, accuracy_score, precision_score, recall_score\n",
        "\n",
        "from sklearn.ensemble import RandomForestClassifier \n",
        "from sklearn.linear_model import LogisticRegression, LogisticRegressionCV \n",
        "from sklearn.neighbors import KNeighborsClassifier\n",
        "from sklearn.svm import SVC\n",
        "from sklearn.neural_network import MLPClassifier\n",
        "import plotly.graph_objects as go\n",
        "\n",
        "from google.colab import files\n",
        "import warnings\n",
        "warnings.simplefilter(action='ignore', category=FutureWarning)\n",
        "warnings.simplefilter(action='ignore', category=UserWarning)\n",
        "pd.options.mode.chained_assignment = None\n",
        "pd.set_option('display.max_columns', None)\n",
        "colors = sns.color_palette(n_colors=15)"
      ]
    },
    {
      "cell_type": "markdown",
      "source": [
        "Bajamos los dataframes que usaremos."
      ],
      "metadata": {
        "id": "gg0fv28VJcWR"
      }
    },
    {
      "cell_type": "code",
      "source": [
        "hotels_train_url = \"https://raw.githubusercontent.com/agomezalejo/7506R-1C2023-GRUPO22/main/df_hotel_v3.csv\"\n",
        "hotels_test_url = \"https://raw.githubusercontent.com/agomezalejo/7506R-1C2023-GRUPO22/main/hotels_test.csv\"\n",
        "df_original = pd.read_csv(hotels_train_url)\n",
        "df_hotel_test = pd.read_csv(hotels_test_url)\n",
        "df_hotel_test_con_is_canceled = df_hotel_test.copy()\n",
        "df_hotel = df_original.copy()"
      ],
      "metadata": {
        "id": "n3RFOrtIJdlG"
      },
      "execution_count": 2,
      "outputs": []
    },
    {
      "cell_type": "markdown",
      "source": [
        "Realizamos el tratamiento de datos que consideramos necesario."
      ],
      "metadata": {
        "id": "l7_MgDrdSeRu"
      }
    },
    {
      "cell_type": "code",
      "source": [
        "df_hotel_test = df_hotel_test.drop('id', axis=1)\n",
        "df_hotel_test = df_hotel_test.drop('arrival_date_week_number', axis=1)\n",
        "df_hotel_test = df_hotel_test.drop('reservation_status_date', axis=1)\n",
        "df_hotel_test['children'] = df_hotel_test['children'].astype(int)\n",
        "df_hotel['is_repeated_guest'] = df_hotel['is_repeated_guest'].astype(int)\n",
        "df_hotel['is_canceled'] = df_hotel['is_canceled'].astype(int)\n",
        "df_hotel_test['company'] = df_hotel_test['company'].fillna('not company')\n",
        "df_hotel_test['company'] = df_hotel_test['company'].astype(str)\n",
        "df_hotel_test['agent'] = df_hotel_test['agent'].fillna('not agent')\n",
        "df_hotel_test['agent'] = df_hotel_test['agent'].astype(str)"
      ],
      "metadata": {
        "id": "-43Cn5OEJe1B"
      },
      "execution_count": 3,
      "outputs": []
    },
    {
      "cell_type": "markdown",
      "source": [
        "Observamos que no hay valores faltantes."
      ],
      "metadata": {
        "id": "oMP9BodaSrJX"
      }
    },
    {
      "cell_type": "code",
      "source": [
        "num_missing = df_hotel.isna().sum()\n",
        "\n",
        "print(\"El número total de valores faltantes en el DataFrame es:\", num_missing.sum())"
      ],
      "metadata": {
        "colab": {
          "base_uri": "https://localhost:8080/"
        },
        "id": "RDW9dg5JJ6F3",
        "outputId": "64fba61b-2258-4942-a91e-cd7872df6ae3"
      },
      "execution_count": 4,
      "outputs": [
        {
          "output_type": "stream",
          "name": "stdout",
          "text": [
            "El número total de valores faltantes en el DataFrame es: 0\n"
          ]
        }
      ]
    },
    {
      "cell_type": "markdown",
      "source": [
        "Con la siguiente funcion cambiaremos de algunas columnas por el valor de su media."
      ],
      "metadata": {
        "id": "HQIyzMKPS34b"
      }
    },
    {
      "cell_type": "code",
      "source": [
        "def cambiar_columna_por_probabilidad_is_canceled(columna):\n",
        "  global df_hotel_test, df_hotel\n",
        "  probabilidades = df_hotel.groupby(columna)['is_canceled'].mean()\n",
        "  nueva_columna = columna+'_prob_is_canceled'\n",
        "\n",
        "  df_hotel[nueva_columna] = 0\n",
        "  df_hotel[nueva_columna] = df_hotel[columna].map(probabilidades)\n",
        "\n",
        "  df_hotel_test[nueva_columna] = 0\n",
        "  df_hotel_test[nueva_columna] = df_hotel_test[columna].map(probabilidades)\n",
        "\n",
        "  mediana = df_hotel_test[nueva_columna].median()\n",
        "  df_hotel_test[nueva_columna].fillna(mediana, inplace=True)\n",
        "\n",
        "  df_hotel_test = df_hotel_test.drop(columna, axis=1)\n",
        "  df_hotel = df_hotel.drop(columna, axis=1)"
      ],
      "metadata": {
        "id": "JcD69jJ7J7k_"
      },
      "execution_count": 5,
      "outputs": []
    },
    {
      "cell_type": "markdown",
      "source": [
        "Lo hacemos en coutry, agent y company ya que tienen muchas columnas y realizar otro tipo de tratado de datos, como por ejemplo dummies aumenta mucho la dimensionalidad."
      ],
      "metadata": {
        "id": "v9IL5vkQhCa3"
      }
    },
    {
      "cell_type": "code",
      "source": [
        "cambiar_columna_por_probabilidad_is_canceled('country')\n",
        "cambiar_columna_por_probabilidad_is_canceled('agent')\n",
        "cambiar_columna_por_probabilidad_is_canceled('company')"
      ],
      "metadata": {
        "id": "0FyXpcpCJ8xj"
      },
      "execution_count": 6,
      "outputs": []
    },
    {
      "cell_type": "markdown",
      "source": [
        "Separamos los datos y realizamos dummies de los datos restantes."
      ],
      "metadata": {
        "id": "A72l0H_sh2xy"
      }
    },
    {
      "cell_type": "code",
      "source": [
        "X = df_hotel.drop('is_canceled', axis=1)\n",
        "y = df_hotel['is_canceled']\n",
        "\n",
        "columns = ['hotel','arrival_date_year', 'arrival_date_month', 'meal', 'market_segment', 'distribution_channel','deposit_type', 'customer_type', 'assigned_room_type', 'reserved_room_type']\n",
        "\n",
        "X = pd.get_dummies(X, columns=columns, drop_first=True)\n",
        "\n",
        "df_hotel_test = pd.get_dummies(df_hotel_test, columns=columns, drop_first=True)"
      ],
      "metadata": {
        "id": "mur-7TGRJ9yX"
      },
      "execution_count": 7,
      "outputs": []
    },
    {
      "cell_type": "markdown",
      "source": [
        "Completamos con las columnas necesarias."
      ],
      "metadata": {
        "id": "502VvZqjh9On"
      }
    },
    {
      "cell_type": "code",
      "source": [
        "columns_X = set(X.columns)\n",
        "columns_test = set(df_hotel_test.columns)\n",
        "\n",
        "missing_columns = list(columns_X - columns_test)\n",
        "for column in missing_columns:\n",
        "    df_hotel_test[column] = 0\n",
        "\n",
        "df_hotel_test = df_hotel_test[X.columns]"
      ],
      "metadata": {
        "id": "V6w0Wev1J_NO"
      },
      "execution_count": 8,
      "outputs": []
    },
    {
      "cell_type": "markdown",
      "source": [
        "Esta función realiza la matriz de confución con un reporte de la clasificación."
      ],
      "metadata": {
        "id": "mesGDR6diAL3"
      }
    },
    {
      "cell_type": "code",
      "source": [
        "def metricas(y_pred,y_test):\n",
        "\n",
        "  print(classification_report(y_test,y_pred))\n",
        "  \n",
        "  cm = confusion_matrix(y_test,y_pred)\n",
        "  sns.heatmap(cm, cmap='Blues',annot=True,fmt='g')\n",
        "  plt.xlabel('Predicted')\n",
        "  plt.ylabel('True')"
      ],
      "metadata": {
        "id": "6yEdr4C4KASx"
      },
      "execution_count": 9,
      "outputs": []
    },
    {
      "cell_type": "markdown",
      "source": [
        "Creamos un conjunto de datos para el entrenamiento del modelo."
      ],
      "metadata": {
        "id": "5KjlI12zi351"
      }
    },
    {
      "cell_type": "code",
      "source": [
        "'''x, y = make_classification(n_samples=3000, \n",
        "                           n_features=20, \n",
        "                           n_informative=15, \n",
        "                           n_redundant=5,\n",
        "                           n_clusters_per_class=5,\n",
        "                           class_sep=0.7,\n",
        "                           flip_y=0.03,\n",
        "                           n_classes=2)'''"
      ],
      "metadata": {
        "id": "K5jJ0PFKKgbe",
        "colab": {
          "base_uri": "https://localhost:8080/",
          "height": 53
        },
        "outputId": "d9a96a52-7b50-4512-c460-5d8a5dfe334a"
      },
      "execution_count": 10,
      "outputs": [
        {
          "output_type": "execute_result",
          "data": {
            "text/plain": [
              "'x, y = make_classification(n_samples=3000, \\n                           n_features=20, \\n                           n_informative=15, \\n                           n_redundant=5,\\n                           n_clusters_per_class=5,\\n                           class_sep=0.7,\\n                           flip_y=0.03,\\n                           n_classes=2)'"
            ],
            "application/vnd.google.colaboratory.intrinsic+json": {
              "type": "string"
            }
          },
          "metadata": {},
          "execution_count": 10
        }
      ]
    },
    {
      "cell_type": "code",
      "source": [
        "def evaluate_model(model, x, y):\n",
        "    cv = RepeatedStratifiedKFold(n_splits=5, n_repeats=2, random_state=1)\n",
        "    scores = cross_val_score(model, x, y, scoring='accuracy', cv=cv, verbose=1, n_jobs=3, error_score='raise')\n",
        "    return scores"
      ],
      "metadata": {
        "id": "VBcvnSppKhxL"
      },
      "execution_count": 11,
      "outputs": []
    },
    {
      "cell_type": "code",
      "source": [
        "def plot_results(model_scores, name):\n",
        "    \n",
        "    model_names = list(model_scores.keys())\n",
        "    results = [model_scores[model] for model in model_names]\n",
        "    fig = go.Figure()\n",
        "    for model, result in zip(model_names, results):\n",
        "        fig.add_trace(go.Box(\n",
        "            y=result,\n",
        "            name=model,\n",
        "            boxpoints='all',\n",
        "            jitter=0.5,\n",
        "            whiskerwidth=0.2,\n",
        "            marker_size=2,\n",
        "            line_width=1)\n",
        "        )\n",
        "    \n",
        "    fig.update_layout(\n",
        "    title='Rendimiento de diferentes modelos utilizando cv de 5',\n",
        "    paper_bgcolor='rgb(243, 243, 243)',\n",
        "    plot_bgcolor='rgb(243, 243, 243)',\n",
        "    xaxis_title='Model',\n",
        "    yaxis_title='Accuracy',\n",
        "    showlegend=False)\n",
        "    fig.show()"
      ],
      "metadata": {
        "id": "8BwyJWv0Kkh2"
      },
      "execution_count": 12,
      "outputs": []
    },
    {
      "cell_type": "code",
      "source": [
        "x_train, x_test, y_train, y_test = train_test_split(X.values, y.values, random_state = 42, train_size = 0.80)"
      ],
      "metadata": {
        "id": "c1JN6tjkKkcv"
      },
      "execution_count": 13,
      "outputs": []
    },
    {
      "cell_type": "code",
      "source": [
        "base_models = {'random_forest':RandomForestClassifier(n_estimators=50),\n",
        "               'xgb': xgb.XGBClassifier(objective='binary:logistic'),\n",
        "               'knn': KNeighborsClassifier(n_neighbors=11)}\n",
        "\n",
        "model_scores = defaultdict()\n",
        "\n",
        "for name, model in base_models.items():\n",
        "    print('Evaluando {}'.format(name))\n",
        "    scores = evaluate_model(model, x_train, y_train)\n",
        "    model_scores[name] = scores"
      ],
      "metadata": {
        "colab": {
          "base_uri": "https://localhost:8080/"
        },
        "id": "6JvXrEOdKnnu",
        "outputId": "af2a1d0b-1b2c-4e36-bea9-deee320b5864"
      },
      "execution_count": 14,
      "outputs": [
        {
          "output_type": "stream",
          "name": "stdout",
          "text": [
            "Evaluando random_forest\n"
          ]
        },
        {
          "output_type": "stream",
          "name": "stderr",
          "text": [
            "[Parallel(n_jobs=3)]: Using backend LokyBackend with 3 concurrent workers.\n",
            "[Parallel(n_jobs=3)]: Done  10 out of  10 | elapsed:   49.3s finished\n",
            "[Parallel(n_jobs=3)]: Using backend LokyBackend with 3 concurrent workers.\n"
          ]
        },
        {
          "output_type": "stream",
          "name": "stdout",
          "text": [
            "Evaluando xgb\n"
          ]
        },
        {
          "output_type": "stream",
          "name": "stderr",
          "text": [
            "[Parallel(n_jobs=3)]: Done  10 out of  10 | elapsed:  2.3min finished\n",
            "[Parallel(n_jobs=3)]: Using backend LokyBackend with 3 concurrent workers.\n"
          ]
        },
        {
          "output_type": "stream",
          "name": "stdout",
          "text": [
            "Evaluando knn\n"
          ]
        },
        {
          "output_type": "stream",
          "name": "stderr",
          "text": [
            "[Parallel(n_jobs=3)]: Done  10 out of  10 | elapsed:   36.5s finished\n"
          ]
        }
      ]
    },
    {
      "cell_type": "code",
      "source": [
        "from sklearn.ensemble import StackingClassifier\n",
        "\n",
        "base_models = [('random_forest', RandomForestClassifier(n_estimators=50)),\n",
        "               ('xgb', xgb.XGBClassifier(objective='binary:logistic')),\n",
        "               ('knn', KNeighborsClassifier(n_neighbors=11))]\n",
        "\n",
        "meta_model = LogisticRegressionCV()\n",
        "\n",
        "stacking_model = StackingClassifier(estimators=base_models, \n",
        "                                    final_estimator=meta_model, \n",
        "                                    passthrough=True, \n",
        "                                    cv=5,\n",
        "                                    verbose=2)"
      ],
      "metadata": {
        "id": "Z_FAK7wuKx6a"
      },
      "execution_count": 15,
      "outputs": []
    },
    {
      "cell_type": "code",
      "source": [
        "stacking_model.fit(x_train,y_train)\n",
        "y_pred_st = stacking_model.predict(x_test)\n",
        "\n",
        "f1 = f1_score(y_test, y_pred_st)\n",
        "accuracy = accuracy_score(y_test, y_pred_st)\n",
        "precision = precision_score(y_test, y_pred_st)\n",
        "recall = recall_score(y_test, y_pred_st)\n",
        "\n",
        "print(\"F1_score en el conjunto de prueba:\", f1)\n",
        "print(\"Accuracy en el conjunto de prueba:\", accuracy)\n",
        "print(\"Precision en el conjunto de prueba:\", precision)\n",
        "print(\"Recall en el conjunto de prueba:\", recall)"
      ],
      "metadata": {
        "colab": {
          "base_uri": "https://localhost:8080/"
        },
        "id": "23yGjXJgK11P",
        "outputId": "c5d91946-f6d0-4bc6-e469-8f975af2b944"
      },
      "execution_count": 16,
      "outputs": [
        {
          "output_type": "stream",
          "name": "stderr",
          "text": [
            "[Parallel(n_jobs=1)]: Using backend SequentialBackend with 1 concurrent workers.\n",
            "[Parallel(n_jobs=1)]: Done   1 out of   1 | elapsed:    3.2s remaining:    0.0s\n",
            "[Parallel(n_jobs=1)]: Done   5 out of   5 | elapsed:   15.7s finished\n",
            "[Parallel(n_jobs=1)]: Using backend SequentialBackend with 1 concurrent workers.\n",
            "[Parallel(n_jobs=1)]: Done   1 out of   1 | elapsed:   13.7s remaining:    0.0s\n",
            "[Parallel(n_jobs=1)]: Done   5 out of   5 | elapsed:  1.2min finished\n",
            "[Parallel(n_jobs=1)]: Using backend SequentialBackend with 1 concurrent workers.\n",
            "[Parallel(n_jobs=1)]: Done   1 out of   1 | elapsed:    3.1s remaining:    0.0s\n",
            "[Parallel(n_jobs=1)]: Done   5 out of   5 | elapsed:   17.1s finished\n"
          ]
        },
        {
          "output_type": "stream",
          "name": "stdout",
          "text": [
            "F1_score en el conjunto de prueba: 0.8847276264591442\n",
            "Accuracy en el conjunto de prueba: 0.8843714425109774\n",
            "Precision en el conjunto de prueba: 0.877613380508202\n",
            "Recall en el conjunto de prueba: 0.8919581562602158\n"
          ]
        }
      ]
    },
    {
      "cell_type": "markdown",
      "source": [
        "El modelo obtuvo un rendimiento bastante bueno, con un F1_score y Accuracy muy cercanos, lo que indica que el modelo está haciendo una buena clasificación en general. La precisión es ligeramente más baja que el recall, lo que sugiere que el modelo puede estar clasificando algunas instancias como negativas cuando en realidad son positivas.Igualmente, ambas métricas son bastante altas, lo que indica que el modelo tiene un buen desempeño."
      ],
      "metadata": {
        "id": "iIjExBE-ju6T"
      }
    },
    {
      "cell_type": "code",
      "source": [
        "cm = confusion_matrix(y_test,y_pred_st)\n",
        "sns.heatmap(cm, cmap='Blues',annot=True,fmt='g')\n",
        "plt.xlabel('Predicted')\n",
        "plt.ylabel('True')\n",
        "\n",
        "print(classification_report(y_test,y_pred_st))"
      ],
      "metadata": {
        "colab": {
          "base_uri": "https://localhost:8080/",
          "height": 610
        },
        "id": "08O9fPKdPglm",
        "outputId": "77fcae88-6215-43f0-cbce-9da4ebd72843"
      },
      "execution_count": 17,
      "outputs": [
        {
          "output_type": "stream",
          "name": "stdout",
          "text": [
            "              precision    recall  f1-score   support\n",
            "\n",
            "           0       0.89      0.88      0.88      6180\n",
            "           1       0.88      0.89      0.88      6118\n",
            "\n",
            "    accuracy                           0.88     12298\n",
            "   macro avg       0.88      0.88      0.88     12298\n",
            "weighted avg       0.88      0.88      0.88     12298\n",
            "\n"
          ]
        },
        {
          "output_type": "display_data",
          "data": {
            "text/plain": [
              "<Figure size 640x480 with 2 Axes>"
            ],
            "image/png": "[encoded data removed]"
          },
          "metadata": {}
        }
      ]
    },
    {
      "cell_type": "markdown",
      "source": [
        "Observamos que a pesar de no tener un rendimiento superior a otros modelos como XGBoost o Random Forest, sigue siendo muy bueno."
      ],
      "metadata": {
        "id": "_e7TeWE4gsFK"
      }
    },
    {
      "cell_type": "code",
      "source": [
        "joblib.dump(stacking_model, 'modelo_stacking_final.pkl')\n",
        "loaded_model = joblib.load('modelo_stacking_final.pkl')\n",
        "predicciones = loaded_model.predict(df_hotel_test)"
      ],
      "metadata": {
        "id": "GHbZU61ckLGd"
      },
      "execution_count": 20,
      "outputs": []
    },
    {
      "cell_type": "code",
      "source": [
        "df_sub = pd.DataFrame({'id': df_hotel_test_con_is_canceled['id'], 'is_canceled': predicciones})\n",
        "df_sub.to_csv('prediccion_stacking_final.csv', index=False)"
      ],
      "metadata": {
        "id": "S8DsiRcNkPfW"
      },
      "execution_count": 21,
      "outputs": []
    }
  ]
}