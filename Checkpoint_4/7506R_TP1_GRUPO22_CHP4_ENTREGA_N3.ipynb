{
  "cells": [
    {
      "cell_type": "markdown",
      "metadata": {
        "id": "b4283LD9o2kS"
      },
      "source": [
        "# CH4 Redes Neuronales"
      ]
    },
    {
      "cell_type": "markdown",
      "metadata": {
        "id": "GxJPjf1Sqhqr"
      },
      "source": [
        "## Importado de Librerías"
      ]
    },
    {
      "cell_type": "code",
      "execution_count": null,
      "metadata": {
        "id": "WTRm5H2eo93x"
      },
      "outputs": [],
      "source": [
        "import matplotlib.pyplot as plt\n",
        "import seaborn as sns\n",
        "\n",
        "import pandas as pd\n",
        "import numpy as np\n",
        "\n",
        "from sklearn.metrics import f1_score,  recall_score, precision_score, accuracy_score, confusion_matrix, classification_report\n",
        "from sklearn.preprocessing import StandardScaler\n",
        "from sklearn.model_selection import train_test_split, KFold, RandomizedSearchCV\n",
        "\n",
        "\n",
        "import tensorflow as tf\n",
        "from tensorflow import keras\n",
        "from keras.utils.vis_utils import plot_model\n",
        "from keras.wrappers.scikit_learn import KerasClassifier\n",
        "from keras.regularizers import l1\n",
        " \n",
        "# import visualkeras\n",
        "\n",
        "np.random.seed(1)\n",
        "tf.random.set_seed(1) \n",
        "\n",
        "import warnings\n",
        "warnings.filterwarnings(\"ignore\", category=DeprecationWarning) \n",
        "\n",
        "from keras.callbacks import Callback,ModelCheckpoint\n",
        "from keras.models import Sequential,load_model\n",
        "from keras.layers import Dense, Dropout\n",
        "from keras.wrappers.scikit_learn import KerasClassifier\n",
        "import keras.backend as K"
      ]
    },
    {
      "cell_type": "markdown",
      "metadata": {
        "id": "PaVHtT3No_RL"
      },
      "source": [
        "## Lectura CSV y Feature Engineering"
      ]
    },
    {
      "cell_type": "code",
      "execution_count": null,
      "metadata": {
        "id": "7nnjLZxDpAlP"
      },
      "outputs": [],
      "source": [
        "hotels_train_url = \"https://raw.githubusercontent.com/agomezalejo/7506R-1C2023-GRUPO22/main/df_hotel_v3.csv\"\n",
        "hotels_test_url = \"https://raw.githubusercontent.com/agomezalejo/7506R-1C2023-GRUPO22/main/hotels_test.csv\"\n",
        "df_original = pd.read_csv(hotels_train_url)\n",
        "df_hotel_test = pd.read_csv(hotels_test_url)\n",
        "df_hotel_test_con_is_canceled = df_hotel_test.copy()\n",
        "df_hotel = df_original.copy()"
      ]
    },
    {
      "cell_type": "code",
      "execution_count": null,
      "metadata": {
        "id": "LsSJGECjpBgt"
      },
      "outputs": [],
      "source": [
        "df_hotel_test = df_hotel_test.drop('id', axis=1)\n",
        "df_hotel_test = df_hotel_test.drop('arrival_date_week_number', axis=1)\n",
        "df_hotel_test = df_hotel_test.drop('reservation_status_date', axis=1)\n",
        "df_hotel_test['children'] = df_hotel_test['children'].astype(int)\n",
        "df_hotel['is_repeated_guest'] = df_hotel['is_repeated_guest'].astype(int)\n",
        "df_hotel['is_canceled'] = df_hotel['is_canceled'].astype(int)\n",
        "df_hotel_test['company'] = df_hotel_test['company'].fillna('not company')\n",
        "df_hotel_test['company'] = df_hotel_test['company'].astype(str)\n",
        "df_hotel_test['agent'] = df_hotel_test['agent'].fillna('not agent')\n",
        "df_hotel_test['agent'] = df_hotel_test['agent'].astype(str)"
      ]
    },
    {
      "cell_type": "code",
      "execution_count": null,
      "metadata": {
        "colab": {
          "base_uri": "https://localhost:8080/"
        },
        "id": "tqreU129pCfw",
        "outputId": "d99b98cc-b7de-4043-bfc5-2c662b2909c3"
      },
      "outputs": [
        {
          "output_type": "stream",
          "name": "stdout",
          "text": [
            "El número total de valores faltantes en el DataFrame es: 0\n"
          ]
        }
      ],
      "source": [
        "# Contamos los valores faltantes\n",
        "num_missing = df_hotel.isna().sum()\n",
        "print(\"El número total de valores faltantes en el DataFrame es:\", num_missing.sum())"
      ]
    },
    {
      "cell_type": "code",
      "execution_count": null,
      "metadata": {
        "id": "7tEPb0TCpDa3"
      },
      "outputs": [],
      "source": [
        "def cambiar_columna_por_probabilidad_is_canceled(columna):\n",
        "  global df_hotel_test, df_hotel\n",
        "  probabilidades = df_hotel.groupby(columna)['is_canceled'].mean()\n",
        "  nueva_columna = columna+'_prob_is_canceled'\n",
        "\n",
        "  df_hotel[nueva_columna] = 0\n",
        "  df_hotel[nueva_columna] = df_hotel[columna].map(probabilidades)\n",
        "\n",
        "  df_hotel_test[nueva_columna] = 0\n",
        "  df_hotel_test[nueva_columna] = df_hotel_test[columna].map(probabilidades)\n",
        "\n",
        "  mediana = df_hotel_test[nueva_columna].median()\n",
        "  df_hotel_test[nueva_columna].fillna(mediana, inplace=True)\n",
        "\n",
        "  df_hotel_test = df_hotel_test.drop(columna, axis=1)\n",
        "  df_hotel = df_hotel.drop(columna, axis=1)"
      ]
    },
    {
      "cell_type": "code",
      "execution_count": null,
      "metadata": {
        "id": "nAIbffIFpEgN"
      },
      "outputs": [],
      "source": [
        "cambiar_columna_por_probabilidad_is_canceled('country')\n",
        "cambiar_columna_por_probabilidad_is_canceled('agent')\n",
        "cambiar_columna_por_probabilidad_is_canceled('company')"
      ]
    },
    {
      "cell_type": "code",
      "execution_count": null,
      "metadata": {
        "id": "7bMVuGoCpFRS"
      },
      "outputs": [],
      "source": [
        "X = df_hotel.drop('is_canceled', axis=1)\n",
        "y = df_hotel['is_canceled']\n",
        "\n",
        "columns = ['hotel','arrival_date_year', 'arrival_date_month', 'meal', 'market_segment', 'distribution_channel','deposit_type', 'customer_type', 'assigned_room_type', 'reserved_room_type']\n",
        "\n",
        "X = pd.get_dummies(X, columns=columns, drop_first=True)\n",
        "\n",
        "df_hotel_test = pd.get_dummies(df_hotel_test, columns=columns, drop_first=True)"
      ]
    },
    {
      "cell_type": "code",
      "execution_count": null,
      "metadata": {
        "id": "TfhUoe8bpGOc"
      },
      "outputs": [],
      "source": [
        "columns_X = set(X.columns)\n",
        "columns_test = set(df_hotel_test.columns)\n",
        "\n",
        "missing_columns = list(columns_X - columns_test)\n",
        "for column in missing_columns:\n",
        "    df_hotel_test[column] = 0\n",
        "\n",
        "df_hotel_test = df_hotel_test[X.columns]"
      ]
    },
    {
      "cell_type": "markdown",
      "source": [
        "## Modelos de prueba"
      ],
      "metadata": {
        "id": "dtI1xoScm3CQ"
      }
    },
    {
      "cell_type": "code",
      "source": [
        "semilla = 42\n",
        "np.random.seed(semilla)\n",
        "tf.random.set_seed(semilla)"
      ],
      "metadata": {
        "id": "JiUMZb1ynU9v"
      },
      "execution_count": null,
      "outputs": []
    },
    {
      "cell_type": "code",
      "source": [
        "x_train, x_test, y_train, y_test = train_test_split(X.values, y.values, test_size=0.2, random_state=42)"
      ],
      "metadata": {
        "id": "r_XtGvHtnFtv"
      },
      "execution_count": null,
      "outputs": []
    },
    {
      "cell_type": "code",
      "source": [
        "neurons_output=1"
      ],
      "metadata": {
        "id": "nrHDpkmsnnYa"
      },
      "execution_count": null,
      "outputs": []
    },
    {
      "cell_type": "code",
      "source": [
        "print(neurons_output)"
      ],
      "metadata": {
        "colab": {
          "base_uri": "https://localhost:8080/"
        },
        "id": "JCYoYLFeCvAh",
        "outputId": "6be35cb3-4e18-4c31-8abc-d8da0a5db794"
      },
      "execution_count": null,
      "outputs": [
        {
          "output_type": "stream",
          "name": "stdout",
          "text": [
            "1\n"
          ]
        }
      ]
    },
    {
      "cell_type": "code",
      "source": [
        "def get_f1(y_true, y_pred): #taken from old keras source code\n",
        "    true_positives = K.sum(K.round(K.clip(y_true * y_pred, 0, 1)))\n",
        "    possible_positives = K.sum(K.round(K.clip(y_true, 0, 1)))\n",
        "    predicted_positives = K.sum(K.round(K.clip(y_pred, 0, 1)))\n",
        "    precision = true_positives / (predicted_positives + K.epsilon())\n",
        "    recall = true_positives / (possible_positives + K.epsilon())\n",
        "    f1_val = 2*(precision*recall)/(precision+recall+K.epsilon())\n",
        "    return f1_val"
      ],
      "metadata": {
        "id": "h8gGLknCPhJx"
      },
      "execution_count": null,
      "outputs": []
    },
    {
      "cell_type": "code",
      "source": [
        "def create_model(optimizer='adam', activation='relu', neurons_2=32, neurons_3=32):\n",
        "    modelo = keras.Sequential([\n",
        "        keras.layers.Dense(68, input_shape=(68,), activation=activation, kernel_initializer='uniform'),\n",
        "        keras.layers.Dense(neurons_2, activation=activation),\n",
        "        keras.layers.Dense(neurons_3, activation=activation),\n",
        "        keras.layers.Dense(1, activation='sigmoid')\n",
        "    ])\n",
        "    \n",
        "    modelo.compile(\n",
        "        optimizer=optimizer,\n",
        "        loss='binary_crossentropy',\n",
        "        metrics=[get_f1]\n",
        "    )\n",
        "\n",
        "    modelo.summary()\n",
        "    \n",
        "    return modelo"
      ],
      "metadata": {
        "id": "YUlimgSsnsJ9"
      },
      "execution_count": null,
      "outputs": []
    },
    {
      "cell_type": "code",
      "source": [
        "param_dist = {\n",
        "    'optimizer': ['adam', 'nadam'],\n",
        "    'activation': ['relu', 'sigmoid'],\n",
        "    'neurons_2': [68, 136, 204, 272],\n",
        "    'neurons_3': [34, 68, 136, 204]\n",
        "}\n",
        "\n",
        "modelo_cv = KerasClassifier(build_fn=create_model)\n",
        "\n",
        "k = 10\n",
        "kf = KFold(n_splits=k)\n",
        "\n",
        "random_search = RandomizedSearchCV(\n",
        "    estimator=modelo_cv,\n",
        "    param_distributions=param_dist,\n",
        "    n_iter=10,\n",
        "    cv=kf,\n",
        "    random_state=semilla,\n",
        "    n_jobs=-1\n",
        ")\n",
        "\n",
        "scaler = StandardScaler()\n",
        "x_train_scaled = scaler.fit_transform(x_train)\n",
        "\n",
        "random_search.fit(x_train_scaled, y_train)\n",
        "\n",
        "best_params = random_search.best_params_\n",
        "best_model = random_search.best_estimator_"
      ],
      "metadata": {
        "id": "h0jPjmDbojzF",
        "colab": {
          "base_uri": "https://localhost:8080/"
        },
        "outputId": "ad401725-1976-48bd-c0ee-965dd65c44c0"
      },
      "execution_count": null,
      "outputs": [
        {
          "output_type": "stream",
          "name": "stderr",
          "text": [
            "/usr/local/lib/python3.10/dist-packages/joblib/externals/loky/process_executor.py:700: UserWarning: A worker stopped while some jobs were given to the executor. This can be caused by a too short worker timeout or by a memory leak.\n",
            "  warnings.warn(\n"
          ]
        },
        {
          "output_type": "stream",
          "name": "stdout",
          "text": [
            "Model: \"sequential_9\"\n",
            "_________________________________________________________________\n",
            " Layer (type)                Output Shape              Param #   \n",
            "=================================================================\n",
            " dense_36 (Dense)            (None, 68)                4692      \n",
            "                                                                 \n",
            " dense_37 (Dense)            (None, 204)               14076     \n",
            "                                                                 \n",
            " dense_38 (Dense)            (None, 136)               27880     \n",
            "                                                                 \n",
            " dense_39 (Dense)            (None, 1)                 137       \n",
            "                                                                 \n",
            "=================================================================\n",
            "Total params: 46,785\n",
            "Trainable params: 46,785\n",
            "Non-trainable params: 0\n",
            "_________________________________________________________________\n"
          ]
        },
        {
          "output_type": "stream",
          "name": "stderr",
          "text": [
            "/usr/local/lib/python3.10/dist-packages/sklearn/model_selection/_search.py:952: UserWarning: One or more of the test scores are non-finite: [nan nan nan nan nan nan nan nan nan nan]\n",
            "  warnings.warn(\n"
          ]
        },
        {
          "output_type": "stream",
          "name": "stdout",
          "text": [
            "1538/1538 [==============================] - 5s 2ms/step - loss: 0.4205 - get_f1: 0.7749\n"
          ]
        }
      ]
    },
    {
      "cell_type": "code",
      "source": [
        "x_test_scaled = scaler.transform(x_test)\n",
        "\n",
        "historia_modelo = best_model.fit(x_train_scaled, y_train, epochs=100, batch_size=16)\n",
        "\n",
        "y_pred_train = best_model.predict(x_train_scaled)\n",
        "f1_train = f1_score(y_train, y_pred_train)\n",
        "accuracy_train = accuracy_score(y_train, y_pred_train)\n",
        "precision_train = precision_score(y_train, y_pred_train)\n",
        "scores_train = {'f1': f1_train, 'accuracy': accuracy_train, 'precision':precision_train}\n",
        "\n",
        "y_pred_test = best_model.predict(x_test_scaled)\n",
        "f1_test = f1_score(y_test, y_pred_test)\n",
        "accuracy_test = accuracy_score(y_test, y_pred_test)\n",
        "precision_test = precision_score(y_test, y_pred_test)\n",
        "scores_test = {'f1': f1_test, 'accuracy': accuracy_test, 'precision':precision_test}"
      ],
      "metadata": {
        "colab": {
          "base_uri": "https://localhost:8080/"
        },
        "id": "X66FHO6uXw9t",
        "outputId": "fa733b04-984c-49b1-e9fb-426a50f97572"
      },
      "execution_count": null,
      "outputs": [
        {
          "output_type": "stream",
          "name": "stdout",
          "text": [
            "Model: \"sequential_12\"\n",
            "_________________________________________________________________\n",
            " Layer (type)                Output Shape              Param #   \n",
            "=================================================================\n",
            " dense_48 (Dense)            (None, 68)                4692      \n",
            "                                                                 \n",
            " dense_49 (Dense)            (None, 204)               14076     \n",
            "                                                                 \n",
            " dense_50 (Dense)            (None, 136)               27880     \n",
            "                                                                 \n",
            " dense_51 (Dense)            (None, 1)                 137       \n",
            "                                                                 \n",
            "=================================================================\n",
            "Total params: 46,785\n",
            "Trainable params: 46,785\n",
            "Non-trainable params: 0\n",
            "_________________________________________________________________\n",
            "Epoch 1/100\n",
            "3075/3075 [==============================] - 9s 3ms/step - loss: 0.4101 - get_f1: 0.7788\n",
            "Epoch 2/100\n",
            "3075/3075 [==============================] - 7s 2ms/step - loss: 0.3747 - get_f1: 0.8013\n",
            "Epoch 3/100\n",
            "3075/3075 [==============================] - 8s 3ms/step - loss: 0.3596 - get_f1: 0.8073\n",
            "Epoch 4/100\n",
            "3075/3075 [==============================] - 8s 3ms/step - loss: 0.3517 - get_f1: 0.8106\n",
            "Epoch 5/100\n",
            "3075/3075 [==============================] - 8s 3ms/step - loss: 0.3437 - get_f1: 0.8202\n",
            "Epoch 6/100\n",
            "3075/3075 [==============================] - 7s 2ms/step - loss: 0.3376 - get_f1: 0.8237\n",
            "Epoch 7/100\n",
            "3075/3075 [==============================] - 7s 2ms/step - loss: 0.3311 - get_f1: 0.8299\n",
            "Epoch 8/100\n",
            "3075/3075 [==============================] - 8s 3ms/step - loss: 0.3250 - get_f1: 0.8350\n",
            "Epoch 9/100\n",
            "3075/3075 [==============================] - 7s 2ms/step - loss: 0.3197 - get_f1: 0.8392\n",
            "Epoch 10/100\n",
            "3075/3075 [==============================] - 8s 3ms/step - loss: 0.3147 - get_f1: 0.8417\n",
            "Epoch 11/100\n",
            "3075/3075 [==============================] - 7s 2ms/step - loss: 0.3101 - get_f1: 0.8453\n",
            "Epoch 12/100\n",
            "3075/3075 [==============================] - 8s 3ms/step - loss: 0.3059 - get_f1: 0.8482\n",
            "Epoch 13/100\n",
            "3075/3075 [==============================] - 8s 2ms/step - loss: 0.3021 - get_f1: 0.8508\n",
            "Epoch 14/100\n",
            "3075/3075 [==============================] - 9s 3ms/step - loss: 0.2980 - get_f1: 0.8524\n",
            "Epoch 15/100\n",
            "3075/3075 [==============================] - 8s 3ms/step - loss: 0.2954 - get_f1: 0.8537\n",
            "Epoch 16/100\n",
            "3075/3075 [==============================] - 7s 2ms/step - loss: 0.2921 - get_f1: 0.8576\n",
            "Epoch 17/100\n",
            "3075/3075 [==============================] - 8s 2ms/step - loss: 0.2883 - get_f1: 0.8600\n",
            "Epoch 18/100\n",
            "3075/3075 [==============================] - 8s 3ms/step - loss: 0.2854 - get_f1: 0.8603\n",
            "Epoch 19/100\n",
            "3075/3075 [==============================] - 7s 2ms/step - loss: 0.2830 - get_f1: 0.8625\n",
            "Epoch 20/100\n",
            "3075/3075 [==============================] - 8s 3ms/step - loss: 0.2792 - get_f1: 0.8618\n",
            "Epoch 21/100\n",
            "3075/3075 [==============================] - 7s 2ms/step - loss: 0.2768 - get_f1: 0.8639\n",
            "Epoch 22/100\n",
            "3075/3075 [==============================] - 8s 3ms/step - loss: 0.2743 - get_f1: 0.8656\n",
            "Epoch 23/100\n",
            "3075/3075 [==============================] - 7s 2ms/step - loss: 0.2722 - get_f1: 0.8661\n",
            "Epoch 24/100\n",
            "3075/3075 [==============================] - 8s 3ms/step - loss: 0.2687 - get_f1: 0.8699\n",
            "Epoch 25/100\n",
            "3075/3075 [==============================] - 8s 3ms/step - loss: 0.2664 - get_f1: 0.8694\n",
            "Epoch 26/100\n",
            "3075/3075 [==============================] - 8s 3ms/step - loss: 0.2635 - get_f1: 0.8737\n",
            "Epoch 27/100\n",
            "3075/3075 [==============================] - 8s 3ms/step - loss: 0.2618 - get_f1: 0.8727\n",
            "Epoch 28/100\n",
            "3075/3075 [==============================] - 7s 2ms/step - loss: 0.2591 - get_f1: 0.8762\n",
            "Epoch 29/100\n",
            "3075/3075 [==============================] - 8s 3ms/step - loss: 0.2568 - get_f1: 0.8752\n",
            "Epoch 30/100\n",
            "3075/3075 [==============================] - 9s 3ms/step - loss: 0.2547 - get_f1: 0.8765\n",
            "Epoch 31/100\n",
            "3075/3075 [==============================] - 7s 2ms/step - loss: 0.2518 - get_f1: 0.8784\n",
            "Epoch 32/100\n",
            "3075/3075 [==============================] - 8s 3ms/step - loss: 0.2502 - get_f1: 0.8799\n",
            "Epoch 33/100\n",
            "3075/3075 [==============================] - 7s 2ms/step - loss: 0.2482 - get_f1: 0.8805\n",
            "Epoch 34/100\n",
            "3075/3075 [==============================] - 9s 3ms/step - loss: 0.2462 - get_f1: 0.8817\n",
            "Epoch 35/100\n",
            "3075/3075 [==============================] - 9s 3ms/step - loss: 0.2435 - get_f1: 0.8834\n",
            "Epoch 36/100\n",
            "3075/3075 [==============================] - 8s 2ms/step - loss: 0.2425 - get_f1: 0.8838\n",
            "Epoch 37/100\n",
            "3075/3075 [==============================] - 9s 3ms/step - loss: 0.2403 - get_f1: 0.8860\n",
            "Epoch 38/100\n",
            "3075/3075 [==============================] - 9s 3ms/step - loss: 0.2382 - get_f1: 0.8855\n",
            "Epoch 39/100\n",
            "3075/3075 [==============================] - 7s 2ms/step - loss: 0.2350 - get_f1: 0.8879\n",
            "Epoch 40/100\n",
            "3075/3075 [==============================] - 9s 3ms/step - loss: 0.2335 - get_f1: 0.8882\n",
            "Epoch 41/100\n",
            "3075/3075 [==============================] - 8s 3ms/step - loss: 0.2325 - get_f1: 0.8882\n",
            "Epoch 42/100\n",
            "3075/3075 [==============================] - 7s 2ms/step - loss: 0.2298 - get_f1: 0.8913\n",
            "Epoch 43/100\n",
            "3075/3075 [==============================] - 8s 3ms/step - loss: 0.2276 - get_f1: 0.8912\n",
            "Epoch 44/100\n",
            "3075/3075 [==============================] - 7s 2ms/step - loss: 0.2264 - get_f1: 0.8914\n",
            "Epoch 45/100\n",
            "3075/3075 [==============================] - 8s 3ms/step - loss: 0.2233 - get_f1: 0.8941\n",
            "Epoch 46/100\n",
            "3075/3075 [==============================] - 9s 3ms/step - loss: 0.2217 - get_f1: 0.8944\n",
            "Epoch 47/100\n",
            "3075/3075 [==============================] - 7s 2ms/step - loss: 0.2200 - get_f1: 0.8943\n",
            "Epoch 48/100\n",
            "3075/3075 [==============================] - 8s 3ms/step - loss: 0.2177 - get_f1: 0.8960\n",
            "Epoch 49/100\n",
            "3075/3075 [==============================] - 7s 2ms/step - loss: 0.2156 - get_f1: 0.8961\n",
            "Epoch 50/100\n",
            "3075/3075 [==============================] - 8s 3ms/step - loss: 0.2130 - get_f1: 0.8979\n",
            "Epoch 51/100\n",
            "3075/3075 [==============================] - 8s 3ms/step - loss: 0.2121 - get_f1: 0.8965\n",
            "Epoch 52/100\n",
            "3075/3075 [==============================] - 8s 2ms/step - loss: 0.2098 - get_f1: 0.8984\n",
            "Epoch 53/100\n",
            "3075/3075 [==============================] - 8s 3ms/step - loss: 0.2080 - get_f1: 0.9000\n",
            "Epoch 54/100\n",
            "3075/3075 [==============================] - 7s 2ms/step - loss: 0.2054 - get_f1: 0.8999\n",
            "Epoch 55/100\n",
            "3075/3075 [==============================] - 8s 3ms/step - loss: 0.2043 - get_f1: 0.9005\n",
            "Epoch 56/100\n",
            "3075/3075 [==============================] - 7s 2ms/step - loss: 0.2024 - get_f1: 0.9024\n",
            "Epoch 57/100\n",
            "3075/3075 [==============================] - 8s 3ms/step - loss: 0.2001 - get_f1: 0.9035\n",
            "Epoch 58/100\n",
            "3075/3075 [==============================] - 7s 2ms/step - loss: 0.1989 - get_f1: 0.9027\n",
            "Epoch 59/100\n",
            "3075/3075 [==============================] - 8s 2ms/step - loss: 0.1966 - get_f1: 0.9063\n",
            "Epoch 60/100\n",
            "3075/3075 [==============================] - 8s 3ms/step - loss: 0.1943 - get_f1: 0.9054\n",
            "Epoch 61/100\n",
            "3075/3075 [==============================] - 7s 2ms/step - loss: 0.1934 - get_f1: 0.9065\n",
            "Epoch 62/100\n",
            "3075/3075 [==============================] - 8s 3ms/step - loss: 0.1914 - get_f1: 0.9076\n",
            "Epoch 63/100\n",
            "3075/3075 [==============================] - 7s 2ms/step - loss: 0.1889 - get_f1: 0.9087\n",
            "Epoch 64/100\n",
            "3075/3075 [==============================] - 8s 3ms/step - loss: 0.1880 - get_f1: 0.9084\n",
            "Epoch 65/100\n",
            "3075/3075 [==============================] - 7s 2ms/step - loss: 0.1850 - get_f1: 0.9097\n",
            "Epoch 66/100\n",
            "3075/3075 [==============================] - 8s 2ms/step - loss: 0.1839 - get_f1: 0.9094\n",
            "Epoch 67/100\n",
            "3075/3075 [==============================] - 9s 3ms/step - loss: 0.1820 - get_f1: 0.9120\n",
            "Epoch 68/100\n",
            "3075/3075 [==============================] - 7s 2ms/step - loss: 0.1809 - get_f1: 0.9116\n",
            "Epoch 69/100\n",
            "3075/3075 [==============================] - 8s 3ms/step - loss: 0.1782 - get_f1: 0.9122\n",
            "Epoch 70/100\n",
            "3075/3075 [==============================] - 7s 2ms/step - loss: 0.1765 - get_f1: 0.9136\n",
            "Epoch 71/100\n",
            "3075/3075 [==============================] - 8s 3ms/step - loss: 0.1752 - get_f1: 0.9146\n",
            "Epoch 72/100\n",
            "3075/3075 [==============================] - 7s 2ms/step - loss: 0.1726 - get_f1: 0.9164\n",
            "Epoch 73/100\n",
            "3075/3075 [==============================] - 8s 3ms/step - loss: 0.1713 - get_f1: 0.9164\n",
            "Epoch 74/100\n",
            "3075/3075 [==============================] - 8s 3ms/step - loss: 0.1698 - get_f1: 0.9173\n",
            "Epoch 75/100\n",
            "3075/3075 [==============================] - 7s 2ms/step - loss: 0.1672 - get_f1: 0.9202\n",
            "Epoch 76/100\n",
            "3075/3075 [==============================] - 8s 3ms/step - loss: 0.1659 - get_f1: 0.9199\n",
            "Epoch 77/100\n",
            "3075/3075 [==============================] - 7s 2ms/step - loss: 0.1647 - get_f1: 0.9209\n",
            "Epoch 78/100\n",
            "3075/3075 [==============================] - 8s 3ms/step - loss: 0.1622 - get_f1: 0.9215\n",
            "Epoch 79/100\n",
            "3075/3075 [==============================] - 8s 3ms/step - loss: 0.1615 - get_f1: 0.9214\n",
            "Epoch 80/100\n",
            "3075/3075 [==============================] - 7s 2ms/step - loss: 0.1603 - get_f1: 0.9225\n",
            "Epoch 81/100\n",
            "3075/3075 [==============================] - 9s 3ms/step - loss: 0.1569 - get_f1: 0.9234\n",
            "Epoch 82/100\n",
            "3075/3075 [==============================] - 8s 3ms/step - loss: 0.1564 - get_f1: 0.9238\n",
            "Epoch 83/100\n",
            "3075/3075 [==============================] - 9s 3ms/step - loss: 0.1542 - get_f1: 0.9249\n",
            "Epoch 84/100\n",
            "3075/3075 [==============================] - 8s 3ms/step - loss: 0.1526 - get_f1: 0.9243\n",
            "Epoch 85/100\n",
            "3075/3075 [==============================] - 7s 2ms/step - loss: 0.1513 - get_f1: 0.9270\n",
            "Epoch 86/100\n",
            "3075/3075 [==============================] - 8s 3ms/step - loss: 0.1494 - get_f1: 0.9286\n",
            "Epoch 87/100\n",
            "3075/3075 [==============================] - 7s 2ms/step - loss: 0.1473 - get_f1: 0.9296\n",
            "Epoch 88/100\n",
            "3075/3075 [==============================] - 9s 3ms/step - loss: 0.1463 - get_f1: 0.9285\n",
            "Epoch 89/100\n",
            "3075/3075 [==============================] - 8s 3ms/step - loss: 0.1437 - get_f1: 0.9298\n",
            "Epoch 90/100\n",
            "3075/3075 [==============================] - 7s 2ms/step - loss: 0.1439 - get_f1: 0.9291\n",
            "Epoch 91/100\n",
            "3075/3075 [==============================] - 8s 3ms/step - loss: 0.1408 - get_f1: 0.9322\n",
            "Epoch 92/100\n",
            "3075/3075 [==============================] - 8s 3ms/step - loss: 0.1410 - get_f1: 0.9322\n",
            "Epoch 93/100\n",
            "3075/3075 [==============================] - 7s 2ms/step - loss: 0.1380 - get_f1: 0.9335\n",
            "Epoch 94/100\n",
            "3075/3075 [==============================] - 8s 3ms/step - loss: 0.1370 - get_f1: 0.9341\n",
            "Epoch 95/100\n",
            "3075/3075 [==============================] - 7s 2ms/step - loss: 0.1362 - get_f1: 0.9342\n",
            "Epoch 96/100\n",
            "3075/3075 [==============================] - 8s 3ms/step - loss: 0.1338 - get_f1: 0.9339\n",
            "Epoch 97/100\n",
            "3075/3075 [==============================] - 8s 2ms/step - loss: 0.1322 - get_f1: 0.9360\n",
            "Epoch 98/100\n",
            "3075/3075 [==============================] - 8s 3ms/step - loss: 0.1310 - get_f1: 0.9373\n",
            "Epoch 99/100\n",
            "3075/3075 [==============================] - 8s 3ms/step - loss: 0.1299 - get_f1: 0.9381\n",
            "Epoch 100/100\n",
            "3075/3075 [==============================] - 7s 2ms/step - loss: 0.1274 - get_f1: 0.9385\n",
            "1538/1538 [==============================] - 2s 1ms/step\n",
            "385/385 [==============================] - 1s 1ms/step\n"
          ]
        }
      ]
    },
    {
      "cell_type": "code",
      "source": [
        "print(\"Mejores hiperparámetros encontrados:\", best_params)\n",
        "print(\"Metricas en el conjunto de train:\", scores_train)\n",
        "print(\"Metricas en el conjunto de test:\", scores_test)"
      ],
      "metadata": {
        "id": "_1CVhFWX-qrq",
        "colab": {
          "base_uri": "https://localhost:8080/"
        },
        "outputId": "8ab237b7-c4dc-46c8-bbd0-3b29fdc19603"
      },
      "execution_count": null,
      "outputs": [
        {
          "output_type": "stream",
          "name": "stdout",
          "text": [
            "Mejores hiperparámetros encontrados: {'optimizer': 'adam', 'neurons_3': 136, 'neurons_2': 204, 'activation': 'sigmoid'}\n",
            "Metricas en el conjunto de train: {'f1': 0.9475054577500049, 'accuracy': 0.9467189786957229, 'precision': 0.9376833425830492}\n",
            "Metricas en el conjunto de test: {'f1': 0.8524669073405536, 'accuracy': 0.8504634899983737, 'precision': 0.8370883882149047}\n"
          ]
        }
      ]
    },
    {
      "cell_type": "markdown",
      "source": [
        "Como podemos ver, el puntaje F1 en train es muy superior al de test. Esto es un claro signo de overfitting, lo cual es esperado ya que usamos una red neuronal sin regularización y muchos ciclos. En las otras redes neuronal vemos como esto se soluciona utilizando métodos de regularización como Early Stopping o L2"
      ],
      "metadata": {
        "id": "WAzwBKgYjfhC"
      }
    },
    {
      "cell_type": "markdown",
      "source": [
        "## Exportado de Predicciones\n"
      ],
      "metadata": {
        "id": "s-Y1nIXvnOPs"
      }
    },
    {
      "cell_type": "code",
      "source": [
        "import joblib\n",
        "joblib.dump(best_model, 'modelo_red_neuronal_sin_regularizacion.pkl')\n",
        "loaded_model = joblib.load('modelo_red_neuronal_sin_regularizacion.pkl')\n",
        "predicciones = loaded_model.predict(df_hotel_test)"
      ],
      "metadata": {
        "colab": {
          "base_uri": "https://localhost:8080/"
        },
        "id": "l62PWoHCXifP",
        "outputId": "d2e734bc-830e-444b-f6a9-8a1cd1a56fa1"
      },
      "execution_count": null,
      "outputs": [
        {
          "output_type": "stream",
          "name": "stdout",
          "text": [
            "830/830 [==============================] - 1s 1ms/step\n"
          ]
        }
      ]
    },
    {
      "cell_type": "code",
      "source": [
        "df_sub = pd.DataFrame({'id': df_hotel_test_con_is_canceled['id'], 'is_canceled': np.ravel(predicciones)})\n",
        "df_sub.to_csv('prediccion_modelo_red_neuronal_sin_regularizacion.csv', index=False)"
      ],
      "metadata": {
        "id": "NiUsp_PtXkl_"
      },
      "execution_count": null,
      "outputs": []
    },
    {
      "cell_type": "markdown",
      "source": [
        "## Métricas"
      ],
      "metadata": {
        "id": "oVCyUpUGZZuf"
      }
    },
    {
      "cell_type": "markdown",
      "source": [
        "### Matriz de Confusión"
      ],
      "metadata": {
        "id": "0yB3tNWJZbDY"
      }
    },
    {
      "cell_type": "code",
      "execution_count": null,
      "metadata": {
        "colab": {
          "base_uri": "https://localhost:8080/",
          "height": 605
        },
        "id": "uTMU-mP_qUAT",
        "outputId": "56d89961-8003-46ad-8d93-03c48bcece78"
      },
      "outputs": [
        {
          "output_type": "stream",
          "name": "stdout",
          "text": [
            "              precision    recall  f1-score   support\n",
            "\n",
            "           0       0.86      0.83      0.85      6180\n",
            "           1       0.84      0.87      0.85      6118\n",
            "\n",
            "    accuracy                           0.85     12298\n",
            "   macro avg       0.85      0.85      0.85     12298\n",
            "weighted avg       0.85      0.85      0.85     12298\n",
            "\n"
          ]
        },
        {
          "output_type": "display_data",
          "data": {
            "text/plain": [
              "<Figure size 640x480 with 2 Axes>"
            ],
            "image/png": "[encoded data removed]"
          },
          "metadata": {}
        }
      ],
      "source": [
        "cm = confusion_matrix(y_test,y_pred_test)\n",
        "sns.heatmap(cm, cmap='Blues',annot=True,fmt='g')\n",
        "plt.xlabel('Predicted')\n",
        "plt.ylabel('True')\n",
        "\n",
        "print(classification_report(y_test,y_pred_test))"
      ]
    },
    {
      "cell_type": "markdown",
      "source": [
        "### Gráficos de las métricas en función de los ciclos (epochs)"
      ],
      "metadata": {
        "id": "ZudUP6lEZcrw"
      }
    },
    {
      "cell_type": "code",
      "source": [
        "print(historia_modelo.history)"
      ],
      "metadata": {
        "colab": {
          "base_uri": "https://localhost:8080/"
        },
        "id": "2yQUuf0quy_R",
        "outputId": "9aac06fa-2efb-4556-f36d-d44371fe09d1"
      },
      "execution_count": null,
      "outputs": [
        {
          "output_type": "stream",
          "name": "stdout",
          "text": [
            "{'loss': [0.4101329445838928, 0.37465229630470276, 0.35957029461860657, 0.3516882061958313, 0.34374234080314636, 0.33755192160606384, 0.3310898542404175, 0.3249877095222473, 0.3196892738342285, 0.3146761953830719, 0.3100767731666565, 0.3058880865573883, 0.3020849823951721, 0.29800623655319214, 0.2953578531742096, 0.29210153222084045, 0.288348525762558, 0.28537699580192566, 0.28302454948425293, 0.2792367935180664, 0.2767992615699768, 0.27434036135673523, 0.2721564769744873, 0.26872196793556213, 0.2663952112197876, 0.26350054144859314, 0.2618139684200287, 0.2591308653354645, 0.2567841708660126, 0.25468817353248596, 0.2517850697040558, 0.2501855492591858, 0.24821965396404266, 0.24618174135684967, 0.24348652362823486, 0.24254994094371796, 0.2403450757265091, 0.2381742298603058, 0.23500260710716248, 0.23349535465240479, 0.23246105015277863, 0.22983361780643463, 0.22762835025787354, 0.22638747096061707, 0.22329631447792053, 0.22169139981269836, 0.21999096870422363, 0.21765485405921936, 0.2156083732843399, 0.21299338340759277, 0.21213161945343018, 0.20984232425689697, 0.20797786116600037, 0.2054399698972702, 0.2043304741382599, 0.20239399373531342, 0.2000935673713684, 0.19892412424087524, 0.19660323858261108, 0.19429226219654083, 0.19343288242816925, 0.19141444563865662, 0.18889133632183075, 0.18802675604820251, 0.18499808013439178, 0.1838919222354889, 0.18195319175720215, 0.18092967569828033, 0.17820319533348083, 0.1764981895685196, 0.1751846820116043, 0.17255739867687225, 0.1713002622127533, 0.16977955400943756, 0.16722019016742706, 0.16590815782546997, 0.16468335688114166, 0.16223864257335663, 0.16146136820316315, 0.16028551757335663, 0.1568668931722641, 0.15644587576389313, 0.15419863164424896, 0.1525701880455017, 0.15127262473106384, 0.14938637614250183, 0.14731013774871826, 0.14628034830093384, 0.14373663067817688, 0.14388303458690643, 0.14075852930545807, 0.14101964235305786, 0.13802404701709747, 0.13699275255203247, 0.13624781370162964, 0.1337965726852417, 0.13218176364898682, 0.1310436725616455, 0.12987196445465088, 0.12740294635295868], 'get_f1': [0.7788249254226685, 0.8012521266937256, 0.807302713394165, 0.8105939626693726, 0.8201552033424377, 0.8237281441688538, 0.8298507928848267, 0.8349860906600952, 0.8391891121864319, 0.8417043685913086, 0.8453357815742493, 0.8482286930084229, 0.850774884223938, 0.8523960709571838, 0.8536632061004639, 0.8575727939605713, 0.8599710464477539, 0.860307514667511, 0.8624574542045593, 0.861787736415863, 0.8638905882835388, 0.8655933141708374, 0.8660632371902466, 0.8698649406433105, 0.8694063425064087, 0.8737490177154541, 0.8726903796195984, 0.8761821985244751, 0.8752168416976929, 0.8764569163322449, 0.8784476518630981, 0.879943311214447, 0.8805440068244934, 0.8817095160484314, 0.8833585977554321, 0.8837701678276062, 0.8859686851501465, 0.8855133652687073, 0.8879062533378601, 0.8882058262825012, 0.8881702423095703, 0.8913004994392395, 0.8911759257316589, 0.8913626670837402, 0.8941084146499634, 0.8943604826927185, 0.8942559957504272, 0.8959616422653198, 0.8961055874824524, 0.8978506326675415, 0.8965491652488708, 0.8983745574951172, 0.8999754786491394, 0.8999176621437073, 0.9004918336868286, 0.9023624062538147, 0.9035187363624573, 0.9026718139648438, 0.9063225388526917, 0.9054442048072815, 0.9064945578575134, 0.9075612425804138, 0.9087026715278625, 0.9084498286247253, 0.9097170233726501, 0.9093734622001648, 0.9119898676872253, 0.911622941493988, 0.9121607542037964, 0.9135759472846985, 0.9145891070365906, 0.9163941144943237, 0.9163874387741089, 0.9173392057418823, 0.9202377200126648, 0.919863224029541, 0.920860230922699, 0.9215498566627502, 0.9213558435440063, 0.9225464463233948, 0.9234073162078857, 0.9238415360450745, 0.9249125123023987, 0.9242875576019287, 0.9270340800285339, 0.928612232208252, 0.9296116828918457, 0.9284911155700684, 0.9298208951950073, 0.9290642738342285, 0.9322497248649597, 0.9322302937507629, 0.9334567189216614, 0.934073269367218, 0.9341517686843872, 0.9339308738708496, 0.9359880685806274, 0.9372769594192505, 0.9381144642829895, 0.9385187029838562]}\n"
          ]
        }
      ]
    },
    {
      "cell_type": "code",
      "source": [
        "epochs = range(100)\n",
        "\n",
        "plt.plot(epochs, historia_modelo.history['get_f1'], color='orange', label='F1')\n",
        "plt.xlabel(\"epochs\")\n",
        "plt.ylabel(\"F1\")\n",
        "plt.legend()"
      ],
      "metadata": {
        "colab": {
          "base_uri": "https://localhost:8080/",
          "height": 466
        },
        "id": "q_QEZ69jaNZ0",
        "outputId": "c020e957-c0bf-4e18-ff01-f767333307e1"
      },
      "execution_count": null,
      "outputs": [
        {
          "output_type": "execute_result",
          "data": {
            "text/plain": [
              "<matplotlib.legend.Legend at 0x7fa035b03d60>"
            ]
          },
          "metadata": {},
          "execution_count": 139
        },
        {
          "output_type": "display_data",
          "data": {
            "text/plain": [
              "<Figure size 640x480 with 1 Axes>"
            ],
            "image/png": "[encoded data removed]"
          },
          "metadata": {}
        }
      ]
    },
    {
      "cell_type": "code",
      "source": [
        "epochs = range(100)\n",
        "\n",
        "plt.plot(epochs, historia_modelo.history['get_f1'], color='blue', label='F1')\n",
        "plt.xlabel(\"epochs\")\n",
        "plt.ylabel(\"F1\")\n",
        "plt.legend()"
      ],
      "metadata": {
        "colab": {
          "base_uri": "https://localhost:8080/",
          "height": 466
        },
        "id": "Nqurd5BXbbHO",
        "outputId": "6f544146-cfd8-45d3-8c2e-977aebb0ffa9"
      },
      "execution_count": null,
      "outputs": [
        {
          "output_type": "execute_result",
          "data": {
            "text/plain": [
              "<matplotlib.legend.Legend at 0x7fa035b01900>"
            ]
          },
          "metadata": {},
          "execution_count": 141
        },
        {
          "output_type": "display_data",
          "data": {
            "text/plain": [
              "<Figure size 640x480 with 1 Axes>"
            ],
            "image/png": "[encoded data removed]"
          },
          "metadata": {}
        }
      ]
    },
    {
      "cell_type": "code",
      "source": [
        "epochs = range(100)\n",
        "\n",
        "plt.plot(epochs, historia_modelo.history['loss'], color='red', label='Loss')\n",
        "plt.xlabel(\"epochs\")\n",
        "plt.ylabel(\"Loss\")\n",
        "plt.legend()"
      ],
      "metadata": {
        "colab": {
          "base_uri": "https://localhost:8080/",
          "height": 466
        },
        "id": "0caxAOWif2Um",
        "outputId": "0befc1da-97ae-48fd-cfdf-47d8058d3d37"
      },
      "execution_count": null,
      "outputs": [
        {
          "output_type": "execute_result",
          "data": {
            "text/plain": [
              "<matplotlib.legend.Legend at 0x7fa035ada140>"
            ]
          },
          "metadata": {},
          "execution_count": 143
        },
        {
          "output_type": "display_data",
          "data": {
            "text/plain": [
              "<Figure size 640x480 with 1 Axes>"
            ],
            "image/png": "[encoded data removed]"
          },
          "metadata": {}
        }
      ]
    },
    {
      "cell_type": "markdown",
      "source": [
        "Podemos observar que si se corta el entrenamiento cerca de los 40 ciclos podemos evitar el sobreajuste. Además de eso se puede observar que pasados los 20 ciclos el crecimiento de las métricas de precision, f1 y area bajo la curva (y el decrecimiento de la pérdida) se vuelve lineal, y suponemos que esto se debe a que la red no utiliza un metodo de regularización, ya que si lo comparamos con el modelo que utiliza L2 vemos un crecimiento asintótico. "
      ],
      "metadata": {
        "id": "Z7jfumWFny2X"
      }
    }
  ],
  "metadata": {
    "colab": {
      "collapsed_sections": [
        "GxJPjf1Sqhqr",
        "PaVHtT3No_RL"
      ],
      "provenance": []
    },
    "kernelspec": {
      "display_name": "Python 3",
      "name": "python3"
    },
    "language_info": {
      "name": "python"
    }
  },
  "nbformat": 4,
  "nbformat_minor": 0
}