{
  "cells": [
    {
      "cell_type": "markdown",
      "metadata": {
        "id": "b4283LD9o2kS"
      },
      "source": [
        "# CH4 Redes Neuronales"
      ]
    },
    {
      "cell_type": "markdown",
      "metadata": {
        "id": "GxJPjf1Sqhqr"
      },
      "source": [
        "## Importado de Librerías"
      ]
    },
    {
      "cell_type": "markdown",
      "source": [
        "Importamos lo que utilizaremos en nuestro trabajo."
      ],
      "metadata": {
        "id": "gU73Rti_VLcU"
      }
    },
    {
      "cell_type": "code",
      "execution_count": 90,
      "metadata": {
        "id": "WTRm5H2eo93x"
      },
      "outputs": [],
      "source": [
        "import matplotlib.pyplot as plt\n",
        "import seaborn as sns\n",
        "\n",
        "import pandas as pd\n",
        "import numpy as np\n",
        "\n",
        "from sklearn.metrics import f1_score,  recall_score, precision_score, accuracy_score, confusion_matrix, classification_report\n",
        "from sklearn.preprocessing import StandardScaler\n",
        "from sklearn.model_selection import train_test_split, KFold, RandomizedSearchCV\n",
        "\n",
        "\n",
        "import tensorflow as tf\n",
        "from tensorflow import keras\n",
        "from keras.utils.vis_utils import plot_model\n",
        "from keras.wrappers.scikit_learn import KerasClassifier\n",
        "from keras.regularizers import l1\n",
        "from tensorflow.keras.callbacks import EarlyStopping\n",
        " \n",
        "np.random.seed(1)\n",
        "tf.random.set_seed(1) \n",
        "\n",
        "import warnings\n",
        "warnings.filterwarnings(\"ignore\", category=DeprecationWarning) \n",
        "\n",
        "from keras.callbacks import Callback,ModelCheckpoint\n",
        "from keras.models import Sequential,load_model\n",
        "from keras.layers import Dense, Dropout\n",
        "from keras.wrappers.scikit_learn import KerasClassifier\n",
        "import keras.backend as K"
      ]
    },
    {
      "cell_type": "markdown",
      "metadata": {
        "id": "PaVHtT3No_RL"
      },
      "source": [
        "## Lectura CSV y Feature Engineering"
      ]
    },
    {
      "cell_type": "markdown",
      "source": [
        "Realizamos la lectura de los data set y el feature engineering correspondiente."
      ],
      "metadata": {
        "id": "R9ZZyYhlVaAz"
      }
    },
    {
      "cell_type": "code",
      "execution_count": 91,
      "metadata": {
        "id": "7nnjLZxDpAlP"
      },
      "outputs": [],
      "source": [
        "hotels_train_url = \"https://raw.githubusercontent.com/agomezalejo/7506R-1C2023-GRUPO22/main/df_hotel_v3.csv\"\n",
        "hotels_test_url = \"https://raw.githubusercontent.com/agomezalejo/7506R-1C2023-GRUPO22/main/hotels_test.csv\"\n",
        "df_original = pd.read_csv(hotels_train_url)\n",
        "df_hotel_test = pd.read_csv(hotels_test_url)\n",
        "df_hotel_test_con_is_canceled = df_hotel_test.copy()\n",
        "df_hotel = df_original.copy()"
      ]
    },
    {
      "cell_type": "code",
      "execution_count": 92,
      "metadata": {
        "id": "LsSJGECjpBgt"
      },
      "outputs": [],
      "source": [
        "df_hotel_test = df_hotel_test.drop('id', axis=1)\n",
        "df_hotel_test = df_hotel_test.drop('arrival_date_week_number', axis=1)\n",
        "df_hotel_test = df_hotel_test.drop('reservation_status_date', axis=1)\n",
        "df_hotel_test['children'] = df_hotel_test['children'].astype(int)\n",
        "df_hotel['is_repeated_guest'] = df_hotel['is_repeated_guest'].astype(int)\n",
        "df_hotel['is_canceled'] = df_hotel['is_canceled'].astype(int)\n",
        "df_hotel_test['company'] = df_hotel_test['company'].fillna('not company')\n",
        "df_hotel_test['company'] = df_hotel_test['company'].astype(str)\n",
        "df_hotel_test['agent'] = df_hotel_test['agent'].fillna('not agent')\n",
        "df_hotel_test['agent'] = df_hotel_test['agent'].astype(str)"
      ]
    },
    {
      "cell_type": "code",
      "execution_count": 93,
      "metadata": {
        "colab": {
          "base_uri": "https://localhost:8080/"
        },
        "id": "tqreU129pCfw",
        "outputId": "e909f3b1-10c9-4b03-fe6f-2cc814be3468"
      },
      "outputs": [
        {
          "output_type": "stream",
          "name": "stdout",
          "text": [
            "El número total de valores faltantes en el DataFrame es: 0\n"
          ]
        }
      ],
      "source": [
        "# Contamos los valores faltantes\n",
        "num_missing = df_hotel.isna().sum()\n",
        "print(\"El número total de valores faltantes en el DataFrame es:\", num_missing.sum())"
      ]
    },
    {
      "cell_type": "code",
      "execution_count": 94,
      "metadata": {
        "id": "7tEPb0TCpDa3"
      },
      "outputs": [],
      "source": [
        "def cambiar_columna_por_probabilidad_is_canceled(columna):\n",
        "  global df_hotel_test, df_hotel\n",
        "  probabilidades = df_hotel.groupby(columna)['is_canceled'].mean()\n",
        "  nueva_columna = columna+'_prob_is_canceled'\n",
        "\n",
        "  df_hotel[nueva_columna] = 0\n",
        "  df_hotel[nueva_columna] = df_hotel[columna].map(probabilidades)\n",
        "\n",
        "  df_hotel_test[nueva_columna] = 0\n",
        "  df_hotel_test[nueva_columna] = df_hotel_test[columna].map(probabilidades)\n",
        "\n",
        "  mediana = df_hotel_test[nueva_columna].median()\n",
        "  df_hotel_test[nueva_columna].fillna(mediana, inplace=True)\n",
        "\n",
        "  df_hotel_test = df_hotel_test.drop(columna, axis=1)\n",
        "  df_hotel = df_hotel.drop(columna, axis=1)"
      ]
    },
    {
      "cell_type": "code",
      "execution_count": 95,
      "metadata": {
        "id": "nAIbffIFpEgN"
      },
      "outputs": [],
      "source": [
        "cambiar_columna_por_probabilidad_is_canceled('country')\n",
        "cambiar_columna_por_probabilidad_is_canceled('agent')\n",
        "cambiar_columna_por_probabilidad_is_canceled('company')"
      ]
    },
    {
      "cell_type": "code",
      "execution_count": 96,
      "metadata": {
        "id": "7bMVuGoCpFRS"
      },
      "outputs": [],
      "source": [
        "X = df_hotel.drop('is_canceled', axis=1)\n",
        "y = df_hotel['is_canceled']\n",
        "\n",
        "columns = ['hotel','arrival_date_year', 'arrival_date_month', 'meal', 'market_segment', 'distribution_channel','deposit_type', 'customer_type', 'assigned_room_type', 'reserved_room_type']\n",
        "\n",
        "X = pd.get_dummies(X, columns=columns, drop_first=True)\n",
        "\n",
        "df_hotel_test = pd.get_dummies(df_hotel_test, columns=columns, drop_first=True)"
      ]
    },
    {
      "cell_type": "code",
      "execution_count": 97,
      "metadata": {
        "id": "TfhUoe8bpGOc"
      },
      "outputs": [],
      "source": [
        "columns_X = set(X.columns)\n",
        "columns_test = set(df_hotel_test.columns)\n",
        "\n",
        "missing_columns = list(columns_X - columns_test)\n",
        "for column in missing_columns:\n",
        "    df_hotel_test[column] = 0\n",
        "\n",
        "df_hotel_test = df_hotel_test[X.columns]"
      ]
    },
    {
      "cell_type": "code",
      "source": [
        "# Obtener las columnas del DataFrame\n",
        "columnas = df_hotel_test.columns\n",
        "\n",
        "# Imprimir las columnas\n",
        "print(columnas)\n",
        "# Obtener la cantidad de columnas del DataFrame\n",
        "cantidad_columnas = len(df_hotel_test.columns)\n",
        "\n",
        "# Imprimir la cantidad de columnas\n",
        "print(cantidad_columnas)"
      ],
      "metadata": {
        "colab": {
          "base_uri": "https://localhost:8080/"
        },
        "id": "AnQsk0To9uI8",
        "outputId": "b297e0e5-f903-4c93-85bc-9be1fd0369f7"
      },
      "execution_count": 98,
      "outputs": [
        {
          "output_type": "stream",
          "name": "stdout",
          "text": [
            "Index(['lead_time', 'arrival_date_day_of_month', 'stays_in_weekend_nights',\n",
            "       'stays_in_week_nights', 'adults', 'children', 'babies',\n",
            "       'is_repeated_guest', 'previous_cancellations',\n",
            "       'previous_bookings_not_canceled', 'booking_changes',\n",
            "       'days_in_waiting_list', 'adr', 'required_car_parking_spaces',\n",
            "       'total_of_special_requests', 'country_prob_is_canceled',\n",
            "       'agent_prob_is_canceled', 'company_prob_is_canceled',\n",
            "       'hotel_Resort Hotel', 'arrival_date_year_2016',\n",
            "       'arrival_date_year_2017', 'arrival_date_month_August',\n",
            "       'arrival_date_month_December', 'arrival_date_month_February',\n",
            "       'arrival_date_month_January', 'arrival_date_month_July',\n",
            "       'arrival_date_month_June', 'arrival_date_month_March',\n",
            "       'arrival_date_month_May', 'arrival_date_month_November',\n",
            "       'arrival_date_month_October', 'arrival_date_month_September', 'meal_FB',\n",
            "       'meal_HB', 'meal_SC', 'meal_Undefined', 'market_segment_Complementary',\n",
            "       'market_segment_Corporate', 'market_segment_Direct',\n",
            "       'market_segment_Groups', 'market_segment_Offline TA/TO',\n",
            "       'market_segment_Online TA', 'distribution_channel_Direct',\n",
            "       'distribution_channel_GDS', 'distribution_channel_TA/TO',\n",
            "       'deposit_type_Non Refund', 'deposit_type_Refundable',\n",
            "       'customer_type_Group', 'customer_type_Transient',\n",
            "       'customer_type_Transient-Party', 'assigned_room_type_B',\n",
            "       'assigned_room_type_C', 'assigned_room_type_D', 'assigned_room_type_E',\n",
            "       'assigned_room_type_F', 'assigned_room_type_G', 'assigned_room_type_H',\n",
            "       'assigned_room_type_I', 'assigned_room_type_K', 'assigned_room_type_L',\n",
            "       'reserved_room_type_B', 'reserved_room_type_C', 'reserved_room_type_D',\n",
            "       'reserved_room_type_E', 'reserved_room_type_F', 'reserved_room_type_G',\n",
            "       'reserved_room_type_H', 'reserved_room_type_L'],\n",
            "      dtype='object')\n",
            "68\n"
          ]
        }
      ]
    },
    {
      "cell_type": "markdown",
      "metadata": {
        "id": "7DR7KihapHey"
      },
      "source": [
        "## Modelo con K-Fold Cross Validation\n"
      ]
    },
    {
      "cell_type": "markdown",
      "source": [
        "Obtenemos a semilla"
      ],
      "metadata": {
        "id": "MrvdR32bWBM1"
      }
    },
    {
      "cell_type": "code",
      "source": [
        "semilla = 42\n",
        "np.random.seed(semilla)\n",
        "tf.random.set_seed(semilla)"
      ],
      "metadata": {
        "id": "JiUMZb1ynU9v"
      },
      "execution_count": 99,
      "outputs": []
    },
    {
      "cell_type": "markdown",
      "source": [
        "Dividimos nuestro set de datos."
      ],
      "metadata": {
        "id": "vWE0a48hWDyt"
      }
    },
    {
      "cell_type": "code",
      "source": [
        "x_train, x_test, y_train, y_test = train_test_split(X.values, y.values, test_size=0.2, random_state=42)"
      ],
      "metadata": {
        "id": "r_XtGvHtnFtv"
      },
      "execution_count": 100,
      "outputs": []
    },
    {
      "cell_type": "markdown",
      "source": [
        "Creamos la funcion que calculará el f1 score."
      ],
      "metadata": {
        "id": "s47dzfuiWHOd"
      }
    },
    {
      "cell_type": "code",
      "source": [
        "def get_f1(y_true, y_pred): #taken from old keras source code\n",
        "    true_positives = K.sum(K.round(K.clip(y_true * y_pred, 0, 1)))\n",
        "    possible_positives = K.sum(K.round(K.clip(y_true, 0, 1)))\n",
        "    predicted_positives = K.sum(K.round(K.clip(y_pred, 0, 1)))\n",
        "    precision = true_positives / (predicted_positives + K.epsilon())\n",
        "    recall = true_positives / (possible_positives + K.epsilon())\n",
        "    f1_val = 2*(precision*recall)/(precision+recall+K.epsilon())\n",
        "    return f1_val"
      ],
      "metadata": {
        "id": "h8gGLknCPhJx"
      },
      "execution_count": 101,
      "outputs": []
    },
    {
      "cell_type": "markdown",
      "source": [
        "Y con esta funcion haremos la creación de modelos."
      ],
      "metadata": {
        "id": "KVsGnhWkWMsH"
      }
    },
    {
      "cell_type": "code",
      "source": [
        "def create_model(optimizer='adam', activation='relu', neurons=64, neurons_2=32, neurons_3=32):\n",
        "    modelo = keras.Sequential([\n",
        "        keras.layers.Dense(neurons, input_shape=(68,), activation=activation, kernel_initializer='uniform'),\n",
        "        keras.layers.Dense(neurons_2, activation=activation),\n",
        "        keras.layers.Dense(neurons_3, activation=activation),\n",
        "        keras.layers.Dense(1, activation='sigmoid')\n",
        "    ])\n",
        "    modelo.compile(\n",
        "        optimizer=optimizer,\n",
        "        loss='binary_crossentropy',\n",
        "        metrics=[get_f1]\n",
        "    )\n",
        "    modelo.summary()\n",
        "    return modelo"
      ],
      "metadata": {
        "id": "YUlimgSsnsJ9"
      },
      "execution_count": 102,
      "outputs": []
    },
    {
      "cell_type": "markdown",
      "source": [
        "Seleccionamos los hiperparametros a optimizar, creamos el modelos y hacemos random search."
      ],
      "metadata": {
        "id": "9BX6jawvWUPT"
      }
    },
    {
      "cell_type": "code",
      "source": [
        "param_dist = {\n",
        "    'optimizer': ['adam', 'nadam'],\n",
        "    'activation': ['relu', 'sigmoid'],\n",
        "    'neurons': [68],\n",
        "    'neurons_2': np.linspace(16, 64, 8),\n",
        "    'neurons_3': [16, 24, 32]\n",
        "}\n",
        "\n",
        "modelo_cv = KerasClassifier(build_fn=create_model)\n",
        "\n",
        "k = 10\n",
        "kf = KFold(n_splits=k)\n",
        "\n",
        "random_search = RandomizedSearchCV(\n",
        "    estimator=modelo_cv,\n",
        "    param_distributions=param_dist,\n",
        "    n_iter=10,\n",
        "    cv=kf,\n",
        "    random_state=semilla,\n",
        "    n_jobs=-1\n",
        ")\n",
        "\n",
        "random_search.fit(x_train, y_train)\n",
        "\n",
        "best_params = random_search.best_params_\n",
        "best_model = random_search.best_estimator_"
      ],
      "metadata": {
        "id": "h0jPjmDbojzF",
        "colab": {
          "base_uri": "https://localhost:8080/"
        },
        "outputId": "bfd433dd-7b4a-4ce3-dd78-64d38af6d866"
      },
      "execution_count": 103,
      "outputs": [
        {
          "output_type": "stream",
          "name": "stderr",
          "text": [
            "/usr/local/lib/python3.10/dist-packages/joblib/externals/loky/process_executor.py:700: UserWarning: A worker stopped while some jobs were given to the executor. This can be caused by a too short worker timeout or by a memory leak.\n",
            "  warnings.warn(\n"
          ]
        },
        {
          "output_type": "stream",
          "name": "stdout",
          "text": [
            "Model: \"sequential_7\"\n",
            "_________________________________________________________________\n",
            " Layer (type)                Output Shape              Param #   \n",
            "=================================================================\n",
            " dense_28 (Dense)            (None, 68)                4692      \n",
            "                                                                 \n",
            " dense_29 (Dense)            (None, 50)                3450      \n",
            "                                                                 \n",
            " dense_30 (Dense)            (None, 24)                1224      \n",
            "                                                                 \n",
            " dense_31 (Dense)            (None, 1)                 25        \n",
            "                                                                 \n",
            "=================================================================\n",
            "Total params: 9,391\n",
            "Trainable params: 9,391\n",
            "Non-trainable params: 0\n",
            "_________________________________________________________________\n"
          ]
        },
        {
          "output_type": "stream",
          "name": "stderr",
          "text": [
            "/usr/local/lib/python3.10/dist-packages/sklearn/model_selection/_search.py:952: UserWarning: One or more of the test scores are non-finite: [nan nan nan nan nan nan nan nan nan nan]\n",
            "  warnings.warn(\n"
          ]
        },
        {
          "output_type": "stream",
          "name": "stdout",
          "text": [
            "1538/1538 [==============================] - 4s 2ms/step - loss: 0.4959 - get_f1: 0.7392\n"
          ]
        }
      ]
    },
    {
      "cell_type": "markdown",
      "source": [
        "Aplicamos el regularizador Early Stop para el entrenamiento de epochs de nuestro modelo."
      ],
      "metadata": {
        "id": "3UT576W9WeR6"
      }
    },
    {
      "cell_type": "code",
      "source": [
        "early_stopping = EarlyStopping(patience=12, restore_best_weights=True)\n",
        "history = best_model.fit(x_train, y_train, epochs=100, batch_size=15, validation_data=(x_test, y_test), callbacks=[early_stopping])"
      ],
      "metadata": {
        "colab": {
          "base_uri": "https://localhost:8080/"
        },
        "id": "rKsAF4uqQg4Y",
        "outputId": "46b81582-77a7-4ea1-a859-8b131e3cef70"
      },
      "execution_count": 104,
      "outputs": [
        {
          "output_type": "stream",
          "name": "stdout",
          "text": [
            "Model: \"sequential_8\"\n",
            "_________________________________________________________________\n",
            " Layer (type)                Output Shape              Param #   \n",
            "=================================================================\n",
            " dense_32 (Dense)            (None, 68)                4692      \n",
            "                                                                 \n",
            " dense_33 (Dense)            (None, 50)                3450      \n",
            "                                                                 \n",
            " dense_34 (Dense)            (None, 24)                1224      \n",
            "                                                                 \n",
            " dense_35 (Dense)            (None, 1)                 25        \n",
            "                                                                 \n",
            "=================================================================\n",
            "Total params: 9,391\n",
            "Trainable params: 9,391\n",
            "Non-trainable params: 0\n",
            "_________________________________________________________________\n",
            "Epoch 1/100\n",
            "3280/3280 [==============================] - 10s 3ms/step - loss: 0.4803 - get_f1: 0.7403 - val_loss: 0.4575 - val_get_f1: 0.7857\n",
            "Epoch 2/100\n",
            "3280/3280 [==============================] - 9s 3ms/step - loss: 0.3987 - get_f1: 0.7895 - val_loss: 0.3832 - val_get_f1: 0.7931\n",
            "Epoch 3/100\n",
            "3280/3280 [==============================] - 8s 2ms/step - loss: 0.3779 - get_f1: 0.8063 - val_loss: 0.3989 - val_get_f1: 0.8142\n",
            "Epoch 4/100\n",
            "3280/3280 [==============================] - 9s 3ms/step - loss: 0.3704 - get_f1: 0.8093 - val_loss: 0.3747 - val_get_f1: 0.7911\n",
            "Epoch 5/100\n",
            "3280/3280 [==============================] - 9s 3ms/step - loss: 0.3615 - get_f1: 0.8169 - val_loss: 0.3561 - val_get_f1: 0.8204\n",
            "Epoch 6/100\n",
            "3280/3280 [==============================] - 8s 2ms/step - loss: 0.3576 - get_f1: 0.8163 - val_loss: 0.3521 - val_get_f1: 0.8263\n",
            "Epoch 7/100\n",
            "3280/3280 [==============================] - 9s 3ms/step - loss: 0.3520 - get_f1: 0.8180 - val_loss: 0.3602 - val_get_f1: 0.8240\n",
            "Epoch 8/100\n",
            "3280/3280 [==============================] - 9s 3ms/step - loss: 0.3494 - get_f1: 0.8217 - val_loss: 0.3575 - val_get_f1: 0.7949\n",
            "Epoch 9/100\n",
            "3280/3280 [==============================] - 8s 2ms/step - loss: 0.3463 - get_f1: 0.8215 - val_loss: 0.3456 - val_get_f1: 0.8196\n",
            "Epoch 10/100\n",
            "3280/3280 [==============================] - 9s 3ms/step - loss: 0.3424 - get_f1: 0.8248 - val_loss: 0.3354 - val_get_f1: 0.8292\n",
            "Epoch 11/100\n",
            "3280/3280 [==============================] - 9s 3ms/step - loss: 0.3391 - get_f1: 0.8263 - val_loss: 0.3357 - val_get_f1: 0.8317\n",
            "Epoch 12/100\n",
            "3280/3280 [==============================] - 8s 2ms/step - loss: 0.3361 - get_f1: 0.8291 - val_loss: 0.3368 - val_get_f1: 0.8334\n",
            "Epoch 13/100\n",
            "3280/3280 [==============================] - 9s 3ms/step - loss: 0.3344 - get_f1: 0.8300 - val_loss: 0.3681 - val_get_f1: 0.7923\n",
            "Epoch 14/100\n",
            "3280/3280 [==============================] - 8s 2ms/step - loss: 0.3302 - get_f1: 0.8329 - val_loss: 0.3507 - val_get_f1: 0.8129\n",
            "Epoch 15/100\n",
            "3280/3280 [==============================] - 10s 3ms/step - loss: 0.3297 - get_f1: 0.8346 - val_loss: 0.3368 - val_get_f1: 0.8328\n",
            "Epoch 16/100\n",
            "3280/3280 [==============================] - 9s 3ms/step - loss: 0.3279 - get_f1: 0.8343 - val_loss: 0.3277 - val_get_f1: 0.8348\n",
            "Epoch 17/100\n",
            "3280/3280 [==============================] - 8s 2ms/step - loss: 0.3249 - get_f1: 0.8364 - val_loss: 0.3283 - val_get_f1: 0.8358\n",
            "Epoch 18/100\n",
            "3280/3280 [==============================] - 9s 3ms/step - loss: 0.3243 - get_f1: 0.8382 - val_loss: 0.3259 - val_get_f1: 0.8366\n",
            "Epoch 19/100\n",
            "3280/3280 [==============================] - 9s 3ms/step - loss: 0.3216 - get_f1: 0.8358 - val_loss: 0.3331 - val_get_f1: 0.8227\n",
            "Epoch 20/100\n",
            "3280/3280 [==============================] - 8s 2ms/step - loss: 0.3207 - get_f1: 0.8374 - val_loss: 0.3342 - val_get_f1: 0.8180\n",
            "Epoch 21/100\n",
            "3280/3280 [==============================] - 9s 3ms/step - loss: 0.3186 - get_f1: 0.8402 - val_loss: 0.3254 - val_get_f1: 0.8298\n",
            "Epoch 22/100\n",
            "3280/3280 [==============================] - 9s 3ms/step - loss: 0.3177 - get_f1: 0.8407 - val_loss: 0.3196 - val_get_f1: 0.8331\n",
            "Epoch 23/100\n",
            "3280/3280 [==============================] - 8s 2ms/step - loss: 0.3168 - get_f1: 0.8409 - val_loss: 0.3356 - val_get_f1: 0.8191\n",
            "Epoch 24/100\n",
            "3280/3280 [==============================] - 10s 3ms/step - loss: 0.3150 - get_f1: 0.8420 - val_loss: 0.3530 - val_get_f1: 0.8325\n",
            "Epoch 25/100\n",
            "3280/3280 [==============================] - 10s 3ms/step - loss: 0.3138 - get_f1: 0.8429 - val_loss: 0.3272 - val_get_f1: 0.8276\n",
            "Epoch 26/100\n",
            "3280/3280 [==============================] - 10s 3ms/step - loss: 0.3133 - get_f1: 0.8449 - val_loss: 0.3176 - val_get_f1: 0.8348\n",
            "Epoch 27/100\n",
            "3280/3280 [==============================] - 8s 2ms/step - loss: 0.3116 - get_f1: 0.8447 - val_loss: 0.3213 - val_get_f1: 0.8249\n",
            "Epoch 28/100\n",
            "3280/3280 [==============================] - 9s 3ms/step - loss: 0.3097 - get_f1: 0.8454 - val_loss: 0.3182 - val_get_f1: 0.8378\n",
            "Epoch 29/100\n",
            "3280/3280 [==============================] - 9s 3ms/step - loss: 0.3088 - get_f1: 0.8456 - val_loss: 0.3135 - val_get_f1: 0.8446\n",
            "Epoch 30/100\n",
            "3280/3280 [==============================] - 8s 2ms/step - loss: 0.3100 - get_f1: 0.8446 - val_loss: 0.4126 - val_get_f1: 0.7786\n",
            "Epoch 31/100\n",
            "3280/3280 [==============================] - 9s 3ms/step - loss: 0.3056 - get_f1: 0.8458 - val_loss: 0.3239 - val_get_f1: 0.8456\n",
            "Epoch 32/100\n",
            "3280/3280 [==============================] - 10s 3ms/step - loss: 0.3057 - get_f1: 0.8476 - val_loss: 0.3158 - val_get_f1: 0.8390\n",
            "Epoch 33/100\n",
            "3280/3280 [==============================] - 9s 3ms/step - loss: 0.3060 - get_f1: 0.8461 - val_loss: 0.3258 - val_get_f1: 0.8440\n",
            "Epoch 34/100\n",
            "3280/3280 [==============================] - 10s 3ms/step - loss: 0.3043 - get_f1: 0.8477 - val_loss: 0.3131 - val_get_f1: 0.8393\n",
            "Epoch 35/100\n",
            "3280/3280 [==============================] - 9s 3ms/step - loss: 0.3023 - get_f1: 0.8505 - val_loss: 0.3162 - val_get_f1: 0.8414\n",
            "Epoch 36/100\n",
            "3280/3280 [==============================] - 8s 2ms/step - loss: 0.3027 - get_f1: 0.8480 - val_loss: 0.3157 - val_get_f1: 0.8362\n",
            "Epoch 37/100\n",
            "3280/3280 [==============================] - 9s 3ms/step - loss: 0.3003 - get_f1: 0.8514 - val_loss: 0.3172 - val_get_f1: 0.8350\n",
            "Epoch 38/100\n",
            "3280/3280 [==============================] - 9s 3ms/step - loss: 0.3000 - get_f1: 0.8521 - val_loss: 0.3170 - val_get_f1: 0.8365\n",
            "Epoch 39/100\n",
            "3280/3280 [==============================] - 8s 2ms/step - loss: 0.2981 - get_f1: 0.8515 - val_loss: 0.3448 - val_get_f1: 0.8359\n",
            "Epoch 40/100\n",
            "3280/3280 [==============================] - 9s 3ms/step - loss: 0.2977 - get_f1: 0.8516 - val_loss: 0.3110 - val_get_f1: 0.8480\n",
            "Epoch 41/100\n",
            "3280/3280 [==============================] - 9s 3ms/step - loss: 0.2968 - get_f1: 0.8516 - val_loss: 0.3130 - val_get_f1: 0.8471\n",
            "Epoch 42/100\n",
            "3280/3280 [==============================] - 8s 2ms/step - loss: 0.2959 - get_f1: 0.8539 - val_loss: 0.3108 - val_get_f1: 0.8401\n",
            "Epoch 43/100\n",
            "3280/3280 [==============================] - 9s 3ms/step - loss: 0.2952 - get_f1: 0.8548 - val_loss: 0.3196 - val_get_f1: 0.8476\n",
            "Epoch 44/100\n",
            "3280/3280 [==============================] - 10s 3ms/step - loss: 0.2945 - get_f1: 0.8540 - val_loss: 0.3216 - val_get_f1: 0.8435\n",
            "Epoch 45/100\n",
            "3280/3280 [==============================] - 8s 3ms/step - loss: 0.2930 - get_f1: 0.8542 - val_loss: 0.3059 - val_get_f1: 0.8444\n",
            "Epoch 46/100\n",
            "3280/3280 [==============================] - 9s 3ms/step - loss: 0.2928 - get_f1: 0.8559 - val_loss: 0.3083 - val_get_f1: 0.8466\n",
            "Epoch 47/100\n",
            "3280/3280 [==============================] - 9s 3ms/step - loss: 0.2928 - get_f1: 0.8560 - val_loss: 0.3126 - val_get_f1: 0.8390\n",
            "Epoch 48/100\n",
            "3280/3280 [==============================] - 8s 2ms/step - loss: 0.2899 - get_f1: 0.8570 - val_loss: 0.3122 - val_get_f1: 0.8434\n",
            "Epoch 49/100\n",
            "3280/3280 [==============================] - 9s 3ms/step - loss: 0.2895 - get_f1: 0.8571 - val_loss: 0.3090 - val_get_f1: 0.8523\n",
            "Epoch 50/100\n",
            "3280/3280 [==============================] - 9s 3ms/step - loss: 0.2910 - get_f1: 0.8564 - val_loss: 0.3076 - val_get_f1: 0.8447\n",
            "Epoch 51/100\n",
            "3280/3280 [==============================] - 9s 3ms/step - loss: 0.2898 - get_f1: 0.8539 - val_loss: 0.3190 - val_get_f1: 0.8457\n",
            "Epoch 52/100\n",
            "3280/3280 [==============================] - 9s 3ms/step - loss: 0.2891 - get_f1: 0.8566 - val_loss: 0.3158 - val_get_f1: 0.8452\n",
            "Epoch 53/100\n",
            "3280/3280 [==============================] - 8s 2ms/step - loss: 0.2872 - get_f1: 0.8591 - val_loss: 0.3026 - val_get_f1: 0.8511\n",
            "Epoch 54/100\n",
            "3280/3280 [==============================] - 9s 3ms/step - loss: 0.2878 - get_f1: 0.8570 - val_loss: 0.3098 - val_get_f1: 0.8434\n",
            "Epoch 55/100\n",
            "3280/3280 [==============================] - 9s 3ms/step - loss: 0.2875 - get_f1: 0.8582 - val_loss: 0.3076 - val_get_f1: 0.8479\n",
            "Epoch 56/100\n",
            "3280/3280 [==============================] - 8s 2ms/step - loss: 0.2851 - get_f1: 0.8581 - val_loss: 0.3125 - val_get_f1: 0.8388\n",
            "Epoch 57/100\n",
            "3280/3280 [==============================] - 9s 3ms/step - loss: 0.2849 - get_f1: 0.8591 - val_loss: 0.3084 - val_get_f1: 0.8447\n",
            "Epoch 58/100\n",
            "3280/3280 [==============================] - 10s 3ms/step - loss: 0.2838 - get_f1: 0.8586 - val_loss: 0.3091 - val_get_f1: 0.8489\n",
            "Epoch 59/100\n",
            "3280/3280 [==============================] - 8s 2ms/step - loss: 0.2837 - get_f1: 0.8592 - val_loss: 0.3265 - val_get_f1: 0.8299\n",
            "Epoch 60/100\n",
            "3280/3280 [==============================] - 9s 3ms/step - loss: 0.2840 - get_f1: 0.8591 - val_loss: 0.3080 - val_get_f1: 0.8462\n",
            "Epoch 61/100\n",
            "3280/3280 [==============================] - 9s 3ms/step - loss: 0.2833 - get_f1: 0.8584 - val_loss: 0.3080 - val_get_f1: 0.8470\n",
            "Epoch 62/100\n",
            "3280/3280 [==============================] - 8s 2ms/step - loss: 0.2826 - get_f1: 0.8594 - val_loss: 0.3133 - val_get_f1: 0.8435\n",
            "Epoch 63/100\n",
            "3280/3280 [==============================] - 9s 3ms/step - loss: 0.2816 - get_f1: 0.8612 - val_loss: 0.3044 - val_get_f1: 0.8519\n",
            "Epoch 64/100\n",
            "3280/3280 [==============================] - 9s 3ms/step - loss: 0.2804 - get_f1: 0.8614 - val_loss: 0.3138 - val_get_f1: 0.8353\n",
            "Epoch 65/100\n",
            "3280/3280 [==============================] - 8s 2ms/step - loss: 0.2803 - get_f1: 0.8598 - val_loss: 0.3094 - val_get_f1: 0.8449\n"
          ]
        }
      ]
    },
    {
      "cell_type": "markdown",
      "source": [
        "Primero asignamos una semilla para los valores random de tensorflow, cosa de que las predicciones de la red sean consistentes "
      ],
      "metadata": {
        "id": "vt3qAg-DgXOE"
      }
    },
    {
      "cell_type": "markdown",
      "source": [
        "## Métricas"
      ],
      "metadata": {
        "id": "oVCyUpUGZZuf"
      }
    },
    {
      "cell_type": "markdown",
      "source": [
        "Métricas del conjunto de train"
      ],
      "metadata": {
        "id": "MFhBB0xygo6M"
      }
    },
    {
      "cell_type": "code",
      "source": [
        "y_pred = best_model.predict(x_train)\n",
        "\n",
        "f1 = f1_score(y_train, y_pred)\n",
        "accuracy = accuracy_score(y_train, y_pred)\n",
        "precision = precision_score(y_train, y_pred)\n",
        "\n",
        "print(\"Mejores hiperparámetros encontrados:\", best_params)\n",
        "print(\"F1_score en el conjunto de train:\", f1)\n",
        "print(\"Accuracy en el conjunto de train:\", accuracy)\n",
        "print(\"Precision en el conjunto de train:\", precision)"
      ],
      "metadata": {
        "id": "_Tus-yX-fi7z",
        "outputId": "0d94f6b8-e229-4cad-c70e-8b400024640a",
        "colab": {
          "base_uri": "https://localhost:8080/"
        }
      },
      "execution_count": 112,
      "outputs": [
        {
          "output_type": "stream",
          "name": "stdout",
          "text": [
            "1538/1538 [==============================] - 3s 2ms/step\n",
            "Mejores hiperparámetros encontrados: {'optimizer': 'adam', 'neurons_3': 24, 'neurons_2': 50.285714285714285, 'neurons': 68, 'activation': 'sigmoid'}\n",
            "F1_score en el conjunto de train: 0.873295053893422\n",
            "Accuracy en el conjunto de train: 0.8721540087819157\n",
            "Precision en el conjunto de train: 0.8692844537141023\n"
          ]
        }
      ]
    },
    {
      "cell_type": "markdown",
      "source": [
        "Métricas del conjunto de prueba"
      ],
      "metadata": {
        "id": "M26ndQXGgyYL"
      }
    },
    {
      "cell_type": "code",
      "execution_count": 113,
      "metadata": {
        "colab": {
          "base_uri": "https://localhost:8080/"
        },
        "id": "HHQk2a9cpN7c",
        "outputId": "2547ad4e-7258-459c-b2d8-3e3a9f18115d"
      },
      "outputs": [
        {
          "output_type": "stream",
          "name": "stdout",
          "text": [
            "385/385 [==============================] - 1s 2ms/step\n",
            "Mejores hiperparámetros encontrados: {'optimizer': 'adam', 'neurons_3': 24, 'neurons_2': 50.285714285714285, 'neurons': 68, 'activation': 'sigmoid'}\n",
            "F1_score en el conjunto de prueba: 0.8610230137431893\n",
            "Accuracy en el conjunto de prueba: 0.8610343145226866\n",
            "Precision en el conjunto de prueba: 0.856772940605276\n"
          ]
        }
      ],
      "source": [
        "y_pred = best_model.predict(x_test)\n",
        "\n",
        "f1 = f1_score(y_test, y_pred)\n",
        "accuracy = accuracy_score(y_test, y_pred)\n",
        "precision = precision_score(y_test, y_pred)\n",
        "\n",
        "print(\"Mejores hiperparámetros encontrados:\", best_params)\n",
        "print(\"F1_score en el conjunto de prueba:\", f1)\n",
        "print(\"Accuracy en el conjunto de prueba:\", accuracy)\n",
        "print(\"Precision en el conjunto de prueba:\", precision)"
      ]
    },
    {
      "cell_type": "markdown",
      "source": [
        "### Matriz de Confusión"
      ],
      "metadata": {
        "id": "0yB3tNWJZbDY"
      }
    },
    {
      "cell_type": "code",
      "execution_count": 114,
      "metadata": {
        "colab": {
          "base_uri": "https://localhost:8080/",
          "height": 605
        },
        "id": "uTMU-mP_qUAT",
        "outputId": "8afc1cf5-76f1-41e0-d6c3-6c4e3eafe883"
      },
      "outputs": [
        {
          "output_type": "stream",
          "name": "stdout",
          "text": [
            "              precision    recall  f1-score   support\n",
            "\n",
            "           0       0.87      0.86      0.86      6180\n",
            "           1       0.86      0.87      0.86      6118\n",
            "\n",
            "    accuracy                           0.86     12298\n",
            "   macro avg       0.86      0.86      0.86     12298\n",
            "weighted avg       0.86      0.86      0.86     12298\n",
            "\n"
          ]
        },
        {
          "output_type": "display_data",
          "data": {
            "text/plain": [
              "<Figure size 640x480 with 2 Axes>"
            ],
            "image/png": "[encoded data removed]"
          },
          "metadata": {}
        }
      ],
      "source": [
        "cm = confusion_matrix(y_test,y_pred)\n",
        "sns.heatmap(cm, cmap='Blues',annot=True,fmt='g')\n",
        "plt.xlabel('Predicted')\n",
        "plt.ylabel('True')\n",
        "\n",
        "print(classification_report(y_test,y_pred))"
      ]
    },
    {
      "cell_type": "markdown",
      "source": [
        "Podemos observar que tanto el resultado obtenido está balanceado."
      ],
      "metadata": {
        "id": "mOl3n-4ZWnkQ"
      }
    },
    {
      "cell_type": "markdown",
      "source": [
        "### Gráficos de las métricas en función de los ciclos (epochs)"
      ],
      "metadata": {
        "id": "ZudUP6lEZcrw"
      }
    },
    {
      "cell_type": "code",
      "source": [
        "epochs = range(65)\n",
        "\n",
        "plt.plot(epochs, history.history['get_f1'], color='orange', label='F1 score')\n",
        "plt.xlabel(\"epochs\")\n",
        "plt.ylabel(\"F1 score\")\n",
        "plt.legend()"
      ],
      "metadata": {
        "colab": {
          "base_uri": "https://localhost:8080/",
          "height": 466
        },
        "id": "q_QEZ69jaNZ0",
        "outputId": "7a88871a-bf28-4b8a-a2f6-57e3e8e72f01"
      },
      "execution_count": 115,
      "outputs": [
        {
          "output_type": "execute_result",
          "data": {
            "text/plain": [
              "<matplotlib.legend.Legend at 0x7f22125307f0>"
            ]
          },
          "metadata": {},
          "execution_count": 115
        },
        {
          "output_type": "display_data",
          "data": {
            "text/plain": [
              "<Figure size 640x480 with 1 Axes>"
            ],
            "image/png": "[encoded data removed]"
          },
          "metadata": {}
        }
      ]
    },
    {
      "cell_type": "code",
      "source": [
        "epochs = range(65)\n",
        "\n",
        "plt.plot(epochs, history.history['loss'], color='orange', label='Loss')\n",
        "plt.xlabel(\"epochs\")\n",
        "plt.ylabel(\"Loss\")\n",
        "plt.legend()"
      ],
      "metadata": {
        "colab": {
          "base_uri": "https://localhost:8080/",
          "height": 466
        },
        "id": "0caxAOWif2Um",
        "outputId": "13d530c7-55b2-42dd-fa59-631d8ab59521"
      },
      "execution_count": 116,
      "outputs": [
        {
          "output_type": "execute_result",
          "data": {
            "text/plain": [
              "<matplotlib.legend.Legend at 0x7f2224548220>"
            ]
          },
          "metadata": {},
          "execution_count": 116
        },
        {
          "output_type": "display_data",
          "data": {
            "text/plain": [
              "<Figure size 640x480 with 1 Axes>"
            ],
            "image/png": "[encoded data removed]"
          },
          "metadata": {}
        }
      ]
    },
    {
      "cell_type": "markdown",
      "source": [
        "Podemos observar en los gráficos, que 65 epochs e un buen numero, ya que reduce loss correctamente y aumenta f1 score pero sin overfitting. "
      ],
      "metadata": {
        "id": "baZQxnnvpVJV"
      }
    },
    {
      "cell_type": "markdown",
      "metadata": {
        "id": "9uGwVnZQqHNb"
      },
      "source": [
        "## Exportado de Predicciones"
      ]
    },
    {
      "cell_type": "markdown",
      "source": [
        "Realizamos la descarga del modelo y la predicción realizada para subir a la competencia."
      ],
      "metadata": {
        "id": "y12O_ukkptYu"
      }
    },
    {
      "cell_type": "code",
      "execution_count": 117,
      "metadata": {
        "colab": {
          "base_uri": "https://localhost:8080/"
        },
        "id": "vbLCMaqcqIt5",
        "outputId": "bca6a106-3fa9-4ab2-9eeb-86ad224bab24"
      },
      "outputs": [
        {
          "output_type": "stream",
          "name": "stdout",
          "text": [
            "830/830 [==============================] - 1s 1ms/step\n"
          ]
        }
      ],
      "source": [
        "import joblib\n",
        "joblib.dump(best_model, 'modelo_red_neuronal_early_stop.pkl')\n",
        "loaded_model = joblib.load('modelo_red_neuronal_early_stop.pkl')\n",
        "predicciones = loaded_model.predict(df_hotel_test)"
      ]
    },
    {
      "cell_type": "code",
      "execution_count": 118,
      "metadata": {
        "id": "1THTWEmnqK2i"
      },
      "outputs": [],
      "source": [
        "df_sub = pd.DataFrame({'id': df_hotel_test_con_is_canceled['id'], 'is_canceled': np.ravel(predicciones)})\n",
        "df_sub.to_csv('prediccion_redn_early_stop.csv', index=False)"
      ]
    }
  ],
  "metadata": {
    "colab": {
      "collapsed_sections": [
        "PaVHtT3No_RL"
      ],
      "provenance": [],
      "toc_visible": true
    },
    "kernelspec": {
      "display_name": "Python 3",
      "name": "python3"
    },
    "language_info": {
      "name": "python"
    }
  },
  "nbformat": 4,
  "nbformat_minor": 0
}