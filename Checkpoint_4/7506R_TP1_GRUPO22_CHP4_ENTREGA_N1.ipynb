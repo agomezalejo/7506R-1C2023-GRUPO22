{
  "cells": [
    {
      "cell_type": "markdown",
      "metadata": {
        "id": "b4283LD9o2kS"
      },
      "source": [
        "# CH4 Redes Neuronales"
      ]
    },
    {
      "cell_type": "markdown",
      "metadata": {
        "id": "GxJPjf1Sqhqr"
      },
      "source": [
        "## Importado de Librerías"
      ]
    },
    {
      "cell_type": "markdown",
      "metadata": {
        "id": "ZtEvqEkknK-G"
      },
      "source": [
        "Importamos todas las librerias y modulos que vamos a usar"
      ]
    },
    {
      "cell_type": "code",
      "execution_count": null,
      "metadata": {
        "id": "WTRm5H2eo93x"
      },
      "outputs": [],
      "source": [
        "import matplotlib.pyplot as plt\n",
        "import seaborn as sns\n",
        "\n",
        "import pandas as pd\n",
        "import numpy as np\n",
        "\n",
        "from sklearn.metrics import f1_score,  recall_score, precision_score, accuracy_score, confusion_matrix, classification_report\n",
        "from sklearn.preprocessing import StandardScaler\n",
        "from sklearn.model_selection import train_test_split, KFold, RandomizedSearchCV\n",
        "\n",
        "\n",
        "import tensorflow as tf\n",
        "from tensorflow import keras\n",
        "from keras.utils.vis_utils import plot_model\n",
        "from keras.wrappers.scikit_learn import KerasClassifier\n",
        "from keras.regularizers import l1\n",
        "import keras.backend as K\n",
        "# import visualkeras\n",
        "\n",
        "np.random.seed(1)\n",
        "tf.random.set_seed(1) \n",
        "\n",
        "import warnings\n",
        "warnings.filterwarnings(\"ignore\", category=DeprecationWarning) "
      ]
    },
    {
      "cell_type": "code",
      "execution_count": null,
      "metadata": {
        "id": "NrRlPscmnClf"
      },
      "outputs": [],
      "source": [
        "semilla = 42\n",
        "np.random.seed(semilla)\n",
        "tf.random.set_seed(semilla)"
      ]
    },
    {
      "cell_type": "markdown",
      "metadata": {
        "id": "PaVHtT3No_RL"
      },
      "source": [
        "## Lectura CSV y Feature Engineering"
      ]
    },
    {
      "cell_type": "markdown",
      "metadata": {
        "id": "qIMfIIP9ZisN"
      },
      "source": [
        "Importamos los dataframes necesarios."
      ]
    },
    {
      "cell_type": "code",
      "execution_count": null,
      "metadata": {
        "id": "7nnjLZxDpAlP"
      },
      "outputs": [],
      "source": [
        "hotels_train_url = \"https://raw.githubusercontent.com/agomezalejo/7506R-1C2023-GRUPO22/main/df_hotel_v3.csv\"\n",
        "hotels_test_url = \"https://raw.githubusercontent.com/agomezalejo/7506R-1C2023-GRUPO22/main/hotels_test.csv\"\n",
        "df_original = pd.read_csv(hotels_train_url)\n",
        "df_hotel_test = pd.read_csv(hotels_test_url)\n",
        "df_hotel_test_con_is_canceled = df_hotel_test.copy()\n",
        "df_hotel = df_original.copy()"
      ]
    },
    {
      "cell_type": "markdown",
      "metadata": {
        "id": "ElQ_sMYK0hed"
      },
      "source": [
        "Realizamos feature engineering que consideramos necesarios."
      ]
    },
    {
      "cell_type": "code",
      "execution_count": null,
      "metadata": {
        "id": "LsSJGECjpBgt"
      },
      "outputs": [],
      "source": [
        "df_hotel_test = df_hotel_test.drop('id', axis=1)\n",
        "df_hotel_test = df_hotel_test.drop('arrival_date_week_number', axis=1)\n",
        "df_hotel_test = df_hotel_test.drop('reservation_status_date', axis=1)\n",
        "df_hotel_test['children'] = df_hotel_test['children'].astype(int)\n",
        "df_hotel['is_repeated_guest'] = df_hotel['is_repeated_guest'].astype(int)\n",
        "df_hotel['is_canceled'] = df_hotel['is_canceled'].astype(int)\n",
        "df_hotel_test['company'] = df_hotel_test['company'].fillna('not company')\n",
        "df_hotel_test['company'] = df_hotel_test['company'].astype(str)\n",
        "df_hotel_test['agent'] = df_hotel_test['agent'].fillna('not agent')\n",
        "df_hotel_test['agent'] = df_hotel_test['agent'].astype(str)"
      ]
    },
    {
      "cell_type": "code",
      "execution_count": null,
      "metadata": {
        "colab": {
          "base_uri": "https://localhost:8080/"
        },
        "id": "tqreU129pCfw",
        "outputId": "ffd96cd7-a904-4789-adad-7efc3acf5591"
      },
      "outputs": [
        {
          "output_type": "stream",
          "name": "stdout",
          "text": [
            "El número total de valores faltantes en el DataFrame es: 0\n"
          ]
        }
      ],
      "source": [
        "# Contamos los valores faltantes\n",
        "num_missing = df_hotel.isna().sum()\n",
        "print(\"El número total de valores faltantes en el DataFrame es:\", num_missing.sum())"
      ]
    },
    {
      "cell_type": "code",
      "execution_count": null,
      "metadata": {
        "id": "7tEPb0TCpDa3"
      },
      "outputs": [],
      "source": [
        "def cambiar_columna_por_probabilidad_is_canceled(columna):\n",
        "  global df_hotel_test, df_hotel\n",
        "  probabilidades = df_hotel.groupby(columna)['is_canceled'].mean()\n",
        "  nueva_columna = columna+'_prob_is_canceled'\n",
        "\n",
        "  df_hotel[nueva_columna] = 0\n",
        "  df_hotel[nueva_columna] = df_hotel[columna].map(probabilidades)\n",
        "\n",
        "  df_hotel_test[nueva_columna] = 0\n",
        "  df_hotel_test[nueva_columna] = df_hotel_test[columna].map(probabilidades)\n",
        "\n",
        "  mediana = df_hotel_test[nueva_columna].median()\n",
        "  df_hotel_test[nueva_columna].fillna(mediana, inplace=True)\n",
        "\n",
        "  df_hotel_test = df_hotel_test.drop(columna, axis=1)\n",
        "  df_hotel = df_hotel.drop(columna, axis=1)"
      ]
    },
    {
      "cell_type": "code",
      "execution_count": null,
      "metadata": {
        "id": "nAIbffIFpEgN"
      },
      "outputs": [],
      "source": [
        "cambiar_columna_por_probabilidad_is_canceled('country')\n",
        "cambiar_columna_por_probabilidad_is_canceled('agent')\n",
        "cambiar_columna_por_probabilidad_is_canceled('company')"
      ]
    },
    {
      "cell_type": "code",
      "execution_count": null,
      "metadata": {
        "id": "7bMVuGoCpFRS"
      },
      "outputs": [],
      "source": [
        "X = df_hotel.drop('is_canceled', axis=1)\n",
        "y = df_hotel['is_canceled']\n",
        "\n",
        "columns = ['hotel','arrival_date_year', 'arrival_date_month', 'meal', 'market_segment', 'distribution_channel','deposit_type', 'customer_type', 'assigned_room_type', 'reserved_room_type']\n",
        "\n",
        "X = pd.get_dummies(X, columns=columns, drop_first=True)\n",
        "\n",
        "df_hotel_test = pd.get_dummies(df_hotel_test, columns=columns, drop_first=True)"
      ]
    },
    {
      "cell_type": "code",
      "execution_count": null,
      "metadata": {
        "id": "TfhUoe8bpGOc"
      },
      "outputs": [],
      "source": [
        "columns_X = set(X.columns)\n",
        "columns_test = set(df_hotel_test.columns)\n",
        "\n",
        "missing_columns = list(columns_X - columns_test)\n",
        "for column in missing_columns:\n",
        "    df_hotel_test[column] = 0\n",
        "\n",
        "df_hotel_test = df_hotel_test[X.columns]"
      ]
    },
    {
      "cell_type": "markdown",
      "metadata": {
        "id": "dtI1xoScm3CQ"
      },
      "source": [
        "## Modelo de prueba sin capas intermedias usando SGD"
      ]
    },
    {
      "cell_type": "code",
      "source": [
        "def get_f1(y_true, y_pred): #Creamos una función para calcular F1 con keras \n",
        "    true_positives = K.sum(K.round(K.clip(y_true * y_pred, 0, 1)))\n",
        "    possible_positives = K.sum(K.round(K.clip(y_true, 0, 1)))\n",
        "    predicted_positives = K.sum(K.round(K.clip(y_pred, 0, 1)))\n",
        "    precision = true_positives / (predicted_positives + K.epsilon())\n",
        "    recall = true_positives / (possible_positives + K.epsilon())\n",
        "    f1_val = 2*(precision*recall)/(precision+recall+K.epsilon())\n",
        "    return f1_val"
      ],
      "metadata": {
        "id": "tAT9gmSP4Jto"
      },
      "execution_count": null,
      "outputs": []
    },
    {
      "cell_type": "code",
      "source": [
        "x_train, x_test, y_train, y_test = train_test_split(X.values, y.values, test_size=0.2, random_state=semilla)"
      ],
      "metadata": {
        "id": "PhrCd3Ef8yKz"
      },
      "execution_count": null,
      "outputs": []
    },
    {
      "cell_type": "code",
      "source": [
        "cant_clases=len(np.unique(y_train))"
      ],
      "metadata": {
        "id": "K6Yxbahm8zm7"
      },
      "execution_count": null,
      "outputs": []
    },
    {
      "cell_type": "markdown",
      "source": [
        "Creamos un modelo simple con una capa de input y otra de output. Usamos el optimizador Stochastic Gradient Descent con un learning rate de 0.001."
      ],
      "metadata": {
        "id": "OuFHiRLb9Ie9"
      }
    },
    {
      "cell_type": "code",
      "source": [
        "def create_model():\n",
        "    modelo = keras.Sequential([\n",
        "        keras.layers.Dense(68, input_shape=(68,), activation='relu', kernel_initializer='uniform'),\n",
        "        keras.layers.Dense(cant_clases, activation='softmax')\n",
        "    ])\n",
        "    \n",
        "    modelo.compile(\n",
        "        optimizer=keras.optimizers.SGD(learning_rate=0.001),\n",
        "        loss='categorical_crossentropy',\n",
        "        metrics=[get_f1]\n",
        "    )\n",
        "    \n",
        "    return modelo"
      ],
      "metadata": {
        "id": "T4tKnnAf9GxB"
      },
      "execution_count": null,
      "outputs": []
    },
    {
      "cell_type": "markdown",
      "source": [
        "Le damos una cantidad arbitraria de 10 ciclos"
      ],
      "metadata": {
        "id": "NQHnOAA2-SrA"
      }
    },
    {
      "cell_type": "code",
      "source": [
        "modelo = KerasClassifier(build_fn=create_model)\n",
        "historia_modelo=modelo.fit(x_train,y_train,epochs=10,batch_size=32,verbose=True)"
      ],
      "metadata": {
        "colab": {
          "base_uri": "https://localhost:8080/"
        },
        "id": "3G8zcif9-NOA",
        "outputId": "6d27467e-6532-435c-b771-d71db2868721"
      },
      "execution_count": null,
      "outputs": [
        {
          "output_type": "stream",
          "name": "stdout",
          "text": [
            "Epoch 1/10\n",
            "1538/1538 [==============================] - 6s 4ms/step - loss: 0.6955 - get_f1: 0.6149\n",
            "Epoch 2/10\n",
            "1538/1538 [==============================] - 5s 3ms/step - loss: 0.6320 - get_f1: 0.6393\n",
            "Epoch 3/10\n",
            "1538/1538 [==============================] - 4s 3ms/step - loss: 0.6255 - get_f1: 0.6445\n",
            "Epoch 4/10\n",
            "1538/1538 [==============================] - 5s 3ms/step - loss: 0.6222 - get_f1: 0.6467\n",
            "Epoch 5/10\n",
            "1538/1538 [==============================] - 5s 3ms/step - loss: 0.6195 - get_f1: 0.6533\n",
            "Epoch 6/10\n",
            "1538/1538 [==============================] - 6s 4ms/step - loss: 0.6165 - get_f1: 0.6556\n",
            "Epoch 7/10\n",
            "1538/1538 [==============================] - 7s 5ms/step - loss: 0.6133 - get_f1: 0.6589\n",
            "Epoch 8/10\n",
            "1538/1538 [==============================] - 4s 3ms/step - loss: 0.6106 - get_f1: 0.6643\n",
            "Epoch 9/10\n",
            "1538/1538 [==============================] - 5s 3ms/step - loss: 0.6075 - get_f1: 0.6642\n",
            "Epoch 10/10\n",
            "1538/1538 [==============================] - 5s 3ms/step - loss: 0.6041 - get_f1: 0.6669\n"
          ]
        }
      ]
    },
    {
      "cell_type": "code",
      "source": [
        "y_pred = modelo.predict(x_test)\n",
        "cm = confusion_matrix(y_test,y_pred)\n",
        "sns.heatmap(cm, cmap='Blues',annot=True,fmt='g')\n",
        "plt.xlabel('Predicted')\n",
        "plt.ylabel('True')\n",
        "\n",
        "print(classification_report(y_test,y_pred))"
      ],
      "metadata": {
        "colab": {
          "base_uri": "https://localhost:8080/",
          "height": 664
        },
        "id": "8EKYooUOJxFN",
        "outputId": "b201cb3b-edb7-449c-aa82-00bda80543e2"
      },
      "execution_count": null,
      "outputs": [
        {
          "output_type": "stream",
          "name": "stdout",
          "text": [
            "385/385 [==============================] - 1s 2ms/step\n",
            "12298\n",
            "12298\n",
            "              precision    recall  f1-score   support\n",
            "\n",
            "           0       0.61      0.73      0.66      6180\n",
            "           1       0.66      0.52      0.58      6118\n",
            "\n",
            "    accuracy                           0.63     12298\n",
            "   macro avg       0.63      0.63      0.62     12298\n",
            "weighted avg       0.63      0.63      0.62     12298\n",
            "\n"
          ]
        },
        {
          "output_type": "display_data",
          "data": {
            "text/plain": [
              "<Figure size 640x480 with 2 Axes>"
            ],
            "image/png": "[encoded data removed]"
          },
          "metadata": {}
        }
      ]
    },
    {
      "cell_type": "markdown",
      "source": [
        "Se puede observar que la red sin optimización de hiperparámetros posee una calidad de predicción dudosa. A continuación utilizaremos K-Fold Cross Validation para mejorar este resultado."
      ],
      "metadata": {
        "id": "hqT8A8DzZibf"
      }
    },
    {
      "cell_type": "markdown",
      "metadata": {
        "id": "7DR7KihapHey"
      },
      "source": [
        "## Modelo con K-Fold Cross Validation y Regularización L2\n"
      ]
    },
    {
      "cell_type": "markdown",
      "metadata": {
        "id": "okHshfcsZpbT"
      },
      "source": [
        "Dividimos nuestros dastos de test y entrenammiento con la semilla correspondiente."
      ]
    },
    {
      "cell_type": "code",
      "execution_count": null,
      "metadata": {
        "id": "kNZFvAyrpIi0"
      },
      "outputs": [],
      "source": [
        "x_train, x_test, y_train, y_test = train_test_split(X.values, y.values, test_size=0.2, random_state=semilla)"
      ]
    },
    {
      "cell_type": "code",
      "execution_count": null,
      "metadata": {
        "id": "zLm7bbSbpJRW"
      },
      "outputs": [],
      "source": [
        "cant_clases=len(np.unique(y_train))"
      ]
    },
    {
      "cell_type": "markdown",
      "metadata": {
        "id": "mSQC6FQXZvjX"
      },
      "source": [
        "Creamos una funcion para crear la red. Esta tiene una capa de input, dos capas ocultas y una de output. La cantidad de neuronas de las primeras 3 capas es optimizada utilizando CrossValidation, mientras que la última solo tiene dos neuronas."
      ]
    },
    {
      "cell_type": "code",
      "execution_count": null,
      "metadata": {
        "id": "axJ-0MHEpJ-g"
      },
      "outputs": [],
      "source": [
        "def create_model(optimizer='adam', activation='relu', neurons=64, neurons_2=32, neurons_3=32, regularizer=None):\n",
        "    modelo = keras.Sequential([\n",
        "        keras.layers.Dense(68, input_shape=(68,), activation=activation, kernel_initializer='uniform', kernel_regularizer=regularizer),\n",
        "        keras.layers.Dense(neurons_2, activation=activation, kernel_regularizer=regularizer),\n",
        "        keras.layers.Dense(neurons_3, activation=activation, kernel_regularizer=regularizer),\n",
        "        keras.layers.Dense(cant_clases, activation='softmax')\n",
        "    ])\n",
        "    \n",
        "    modelo.compile(\n",
        "        optimizer=optimizer,\n",
        "        loss='categorical_crossentropy',\n",
        "        metrics=['AUC', 'accuracy', get_f1]\n",
        "    )\n",
        "    \n",
        "    return modelo\n"
      ]
    },
    {
      "cell_type": "markdown",
      "metadata": {
        "id": "5HsIeFLw_PPI"
      },
      "source": [
        "### Notas sobre el modelo\n",
        "<p>1. Optimizar los hiperparámetros epochs y batches aumenta el tiempo de entrenamiento drasticamente (la optimización sin estos hiperparámetros tarda cerca de 1 minuto, de lo contrario puede llegar a tardar 20 minutos).</p>\n",
        "<p>2. Decidimos no incluir el método de optimización SGD ya que es el más básico y da resultados peores que el resto de modelos.</p>\n",
        "<p>3. En vez de obtener el best_model creando un nuevo clasificador con los mejores parámetros obtenidos<p>\n",
        "\n",
        "```\n",
        "#Ejemplo con nuestro XGBoost del Checkpoint 3\n",
        "best_model = xgb.XGBClassifier(**best_params)\n",
        "```\n",
        "<p>se obtiene haciendo</p> \n",
        "\n",
        "```best_model = random_search.best_estimator_```\n"
      ]
    },
    {
      "cell_type": "markdown",
      "metadata": {
        "id": "vA5PSS7xZ4Jx"
      },
      "source": [
        "Optimizaremos los hiperparámetros de nuestra red usando K-Fold Cross Validation."
      ]
    },
    {
      "cell_type": "code",
      "execution_count": null,
      "metadata": {
        "colab": {
          "base_uri": "https://localhost:8080/"
        },
        "id": "O8GqGHaxpLrV",
        "outputId": "d5a7a36b-1296-4469-cf35-0eb3742d3546"
      },
      "outputs": [
        {
          "output_type": "stream",
          "name": "stdout",
          "text": [
            "Fitting 5 folds for each of 15 candidates, totalling 75 fits\n"
          ]
        },
        {
          "output_type": "stream",
          "name": "stderr",
          "text": [
            "/usr/local/lib/python3.10/dist-packages/joblib/externals/loky/process_executor.py:700: UserWarning: A worker stopped while some jobs were given to the executor. This can be caused by a too short worker timeout or by a memory leak.\n",
            "  warnings.warn(\n"
          ]
        },
        {
          "output_type": "stream",
          "name": "stdout",
          "text": [
            "1538/1538 [==============================] - 10s 5ms/step - loss: 0.9321 - auc: 0.8323 - accuracy: 0.7483 - get_f1: 0.7484\n"
          ]
        }
      ],
      "source": [
        "param_dist = {\n",
        "    'optimizer': ['adam', 'nadam'],\n",
        "    'activation': ['relu', 'sigmoid'],\n",
        "    'neurons_2': np.linspace(16,192,16),\n",
        "    'neurons_3': np.linspace(16,192,16),\n",
        "    'regularizer': [keras.regularizers.l1(0.01), keras.regularizers.l2(0.01), keras.regularizers.l1_l2(l1=0.01, l2=0.01)]\n",
        "}\n",
        "\n",
        "modelo_cv = KerasClassifier(build_fn=create_model)\n",
        "k = 5\n",
        "kf = KFold(n_splits=k)\n",
        "\n",
        "random_search = RandomizedSearchCV(\n",
        "    estimator=modelo_cv,\n",
        "    param_distributions=param_dist,\n",
        "    n_iter=15,\n",
        "    cv=kf,\n",
        "    verbose=10,\n",
        "    random_state=semilla,\n",
        "    n_jobs=-1\n",
        ")\n",
        "\n",
        "random_search.fit(x_train, y_train)\n",
        "\n",
        "best_params = random_search.best_params_\n",
        "best_model = random_search.best_estimator_"
      ]
    },
    {
      "cell_type": "markdown",
      "metadata": {
        "id": "vw8YZQkOZ9Sy"
      },
      "source": [
        "Y entrenamos nuestro modelo con 40 ciclos. Cuando analicemos las métricas más adelante veremos si esta cantidad es suficiente o no."
      ]
    },
    {
      "cell_type": "code",
      "execution_count": null,
      "metadata": {
        "id": "0f121bHz7y28",
        "colab": {
          "base_uri": "https://localhost:8080/"
        },
        "outputId": "79b981ed-fe57-460e-c0b9-ed1c89313614"
      },
      "outputs": [
        {
          "output_type": "stream",
          "name": "stdout",
          "text": [
            "Epoch 1/40\n",
            "3280/3280 [==============================] - 17s 5ms/step - loss: 0.7671 - auc: 0.8359 - accuracy: 0.7530 - get_f1: 0.7531\n",
            "Epoch 2/40\n",
            "3280/3280 [==============================] - 16s 5ms/step - loss: 0.4959 - auc: 0.8803 - accuracy: 0.7928 - get_f1: 0.7928\n",
            "Epoch 3/40\n",
            "3280/3280 [==============================] - 16s 5ms/step - loss: 0.4725 - auc: 0.8877 - accuracy: 0.7998 - get_f1: 0.7998\n",
            "Epoch 4/40\n",
            "3280/3280 [==============================] - 15s 5ms/step - loss: 0.4621 - auc: 0.8906 - accuracy: 0.8018 - get_f1: 0.8018\n",
            "Epoch 5/40\n",
            "3280/3280 [==============================] - 15s 5ms/step - loss: 0.4551 - auc: 0.8923 - accuracy: 0.8036 - get_f1: 0.8036\n",
            "Epoch 6/40\n",
            "3280/3280 [==============================] - 16s 5ms/step - loss: 0.4449 - auc: 0.8963 - accuracy: 0.8088 - get_f1: 0.8088\n",
            "Epoch 7/40\n",
            "3280/3280 [==============================] - 16s 5ms/step - loss: 0.4412 - auc: 0.8971 - accuracy: 0.8082 - get_f1: 0.8082\n",
            "Epoch 8/40\n",
            "3280/3280 [==============================] - 15s 5ms/step - loss: 0.4405 - auc: 0.8968 - accuracy: 0.8082 - get_f1: 0.8082\n",
            "Epoch 9/40\n",
            "3280/3280 [==============================] - 15s 5ms/step - loss: 0.4384 - auc: 0.8973 - accuracy: 0.8100 - get_f1: 0.8100\n",
            "Epoch 10/40\n",
            "3280/3280 [==============================] - 16s 5ms/step - loss: 0.4368 - auc: 0.8977 - accuracy: 0.8093 - get_f1: 0.8093\n",
            "Epoch 11/40\n",
            "3280/3280 [==============================] - 16s 5ms/step - loss: 0.4382 - auc: 0.8967 - accuracy: 0.8092 - get_f1: 0.8093\n",
            "Epoch 12/40\n",
            "3280/3280 [==============================] - 15s 5ms/step - loss: 0.4364 - auc: 0.8975 - accuracy: 0.8102 - get_f1: 0.8102\n",
            "Epoch 13/40\n",
            "3280/3280 [==============================] - 15s 5ms/step - loss: 0.4349 - auc: 0.8981 - accuracy: 0.8085 - get_f1: 0.8085\n",
            "Epoch 14/40\n",
            "3280/3280 [==============================] - 15s 5ms/step - loss: 0.4346 - auc: 0.8980 - accuracy: 0.8092 - get_f1: 0.8092\n",
            "Epoch 15/40\n",
            "3280/3280 [==============================] - 16s 5ms/step - loss: 0.4335 - auc: 0.8987 - accuracy: 0.8109 - get_f1: 0.8109\n",
            "Epoch 16/40\n",
            "3280/3280 [==============================] - 15s 5ms/step - loss: 0.4340 - auc: 0.8979 - accuracy: 0.8098 - get_f1: 0.8098\n",
            "Epoch 17/40\n",
            "3280/3280 [==============================] - 15s 5ms/step - loss: 0.4327 - auc: 0.8985 - accuracy: 0.8104 - get_f1: 0.8104\n",
            "Epoch 18/40\n",
            "3280/3280 [==============================] - 16s 5ms/step - loss: 0.4326 - auc: 0.8983 - accuracy: 0.8101 - get_f1: 0.8100\n",
            "Epoch 19/40\n",
            "3280/3280 [==============================] - 17s 5ms/step - loss: 0.4331 - auc: 0.8982 - accuracy: 0.8100 - get_f1: 0.8101\n",
            "Epoch 20/40\n",
            "3280/3280 [==============================] - 16s 5ms/step - loss: 0.4331 - auc: 0.8979 - accuracy: 0.8098 - get_f1: 0.8098\n",
            "Epoch 21/40\n",
            "3280/3280 [==============================] - 15s 5ms/step - loss: 0.4332 - auc: 0.8978 - accuracy: 0.8098 - get_f1: 0.8098\n",
            "Epoch 22/40\n",
            "3280/3280 [==============================] - 16s 5ms/step - loss: 0.4314 - auc: 0.8988 - accuracy: 0.8117 - get_f1: 0.8117\n",
            "Epoch 23/40\n",
            "3280/3280 [==============================] - 16s 5ms/step - loss: 0.4320 - auc: 0.8985 - accuracy: 0.8104 - get_f1: 0.8104\n",
            "Epoch 24/40\n",
            "3280/3280 [==============================] - 15s 5ms/step - loss: 0.4310 - auc: 0.8987 - accuracy: 0.8111 - get_f1: 0.8111\n",
            "Epoch 25/40\n",
            "3280/3280 [==============================] - 15s 5ms/step - loss: 0.4315 - auc: 0.8984 - accuracy: 0.8112 - get_f1: 0.8112\n",
            "Epoch 26/40\n",
            "3280/3280 [==============================] - 16s 5ms/step - loss: 0.4313 - auc: 0.8984 - accuracy: 0.8104 - get_f1: 0.8104\n",
            "Epoch 27/40\n",
            "3280/3280 [==============================] - 16s 5ms/step - loss: 0.4316 - auc: 0.8985 - accuracy: 0.8113 - get_f1: 0.8113\n",
            "Epoch 28/40\n",
            "3280/3280 [==============================] - 15s 5ms/step - loss: 0.4286 - auc: 0.8999 - accuracy: 0.8116 - get_f1: 0.8116\n",
            "Epoch 29/40\n",
            "3280/3280 [==============================] - 16s 5ms/step - loss: 0.4302 - auc: 0.8989 - accuracy: 0.8114 - get_f1: 0.8114\n",
            "Epoch 30/40\n",
            "3280/3280 [==============================] - 16s 5ms/step - loss: 0.4298 - auc: 0.8989 - accuracy: 0.8103 - get_f1: 0.8103\n",
            "Epoch 31/40\n",
            "3280/3280 [==============================] - 16s 5ms/step - loss: 0.4289 - auc: 0.8992 - accuracy: 0.8099 - get_f1: 0.8099\n",
            "Epoch 32/40\n",
            "3280/3280 [==============================] - 16s 5ms/step - loss: 0.4289 - auc: 0.8993 - accuracy: 0.8118 - get_f1: 0.8118\n",
            "Epoch 33/40\n",
            "3280/3280 [==============================] - 15s 5ms/step - loss: 0.4286 - auc: 0.8995 - accuracy: 0.8119 - get_f1: 0.8119\n",
            "Epoch 34/40\n",
            "3280/3280 [==============================] - 16s 5ms/step - loss: 0.4293 - auc: 0.8988 - accuracy: 0.8104 - get_f1: 0.8104\n",
            "Epoch 35/40\n",
            "3280/3280 [==============================] - 16s 5ms/step - loss: 0.4288 - auc: 0.8994 - accuracy: 0.8105 - get_f1: 0.8105\n",
            "Epoch 36/40\n",
            "3280/3280 [==============================] - 15s 5ms/step - loss: 0.4291 - auc: 0.8990 - accuracy: 0.8101 - get_f1: 0.8101\n",
            "Epoch 37/40\n",
            "3280/3280 [==============================] - 16s 5ms/step - loss: 0.4286 - auc: 0.8994 - accuracy: 0.8115 - get_f1: 0.8116\n",
            "Epoch 38/40\n",
            "3280/3280 [==============================] - 16s 5ms/step - loss: 0.4288 - auc: 0.8990 - accuracy: 0.8114 - get_f1: 0.8114\n",
            "Epoch 39/40\n",
            "3280/3280 [==============================] - 16s 5ms/step - loss: 0.4281 - auc: 0.8994 - accuracy: 0.8114 - get_f1: 0.8114\n",
            "Epoch 40/40\n",
            "3280/3280 [==============================] - 16s 5ms/step - loss: 0.4301 - auc: 0.8985 - accuracy: 0.8108 - get_f1: 0.8108\n"
          ]
        }
      ],
      "source": [
        "cant_epochs = 40\n",
        "\n",
        "historia_best_model = best_model.fit(x_train, y_train, epochs = cant_epochs, batch_size = 15)"
      ]
    },
    {
      "cell_type": "markdown",
      "metadata": {
        "id": "MFhBB0xygo6M"
      },
      "source": [
        "Métricas del conjunto de train"
      ]
    },
    {
      "cell_type": "code",
      "execution_count": null,
      "metadata": {
        "id": "_Tus-yX-fi7z",
        "colab": {
          "base_uri": "https://localhost:8080/"
        },
        "outputId": "fa801d0f-94b0-4054-eca8-6ae10142122e"
      },
      "outputs": [
        {
          "output_type": "stream",
          "name": "stdout",
          "text": [
            "1538/1538 [==============================] - 2s 2ms/step\n",
            "Mejores hiperparámetros encontrados: {'regularizer': <keras.regularizers.L2 object at 0x7fa26d2707c0>, 'optimizer': 'nadam', 'neurons_3': 98.13333333333333, 'neurons_2': 168.53333333333333, 'activation': 'relu'}\n",
            "F1_score en el conjunto de train: 0.8259657815282188\n",
            "Accuracy en el conjunto de train: 0.8172060497641893\n",
            "Precision en el conjunto de train: 0.7913220841832005\n"
          ]
        }
      ],
      "source": [
        "y_pred = best_model.predict(x_train)\n",
        "\n",
        "f1 = f1_score(y_train, y_pred)\n",
        "accuracy = accuracy_score(y_train, y_pred)\n",
        "precision = precision_score(y_train, y_pred)\n",
        "\n",
        "print(\"Mejores hiperparámetros encontrados:\", best_params)\n",
        "print(\"F1_score en el conjunto de train:\", f1)\n",
        "print(\"Accuracy en el conjunto de train:\", accuracy)\n",
        "print(\"Precision en el conjunto de train:\", precision)"
      ]
    },
    {
      "cell_type": "markdown",
      "metadata": {
        "id": "M26ndQXGgyYL"
      },
      "source": [
        "Métricas del conjunto de prueba"
      ]
    },
    {
      "cell_type": "code",
      "execution_count": null,
      "metadata": {
        "id": "HHQk2a9cpN7c",
        "colab": {
          "base_uri": "https://localhost:8080/"
        },
        "outputId": "13c6ee75-1f26-4c5f-db53-8e6019a08084"
      },
      "outputs": [
        {
          "output_type": "stream",
          "name": "stdout",
          "text": [
            "385/385 [==============================] - 1s 2ms/step\n",
            "Mejores hiperparámetros encontrados: {'regularizer': <keras.regularizers.L2 object at 0x7fa26d2707c0>, 'optimizer': 'nadam', 'neurons_3': 98.13333333333333, 'neurons_2': 168.53333333333333, 'activation': 'relu'}\n",
            "F1_score en el conjunto de prueba: 0.822239502332815\n",
            "Accuracy en el conjunto de prueba: 0.8141161164416978\n",
            "Precision en el conjunto de prueba: 0.7841886680510234\n"
          ]
        }
      ],
      "source": [
        "y_pred = best_model.predict(x_test)\n",
        "\n",
        "f1 = f1_score(y_test, y_pred)\n",
        "accuracy = accuracy_score(y_test, y_pred)\n",
        "precision = precision_score(y_test, y_pred)\n",
        "\n",
        "print(\"Mejores hiperparámetros encontrados:\", best_params)\n",
        "print(\"F1_score en el conjunto de prueba:\", f1)\n",
        "print(\"Accuracy en el conjunto de prueba:\", accuracy)\n",
        "print(\"Precision en el conjunto de prueba:\", precision)"
      ]
    },
    {
      "cell_type": "markdown",
      "source": [
        "Como se puede observar, el mejor método de regularización resulta ser L2 para nuestro caso, y la cantidad de neuronas es decreciente a medida se avanza en las capas ocultas.\n",
        " Sumado a eso, vemos que los puntajes F1 en test y train son muy parecidos, por lo que suponemos que L2 hace un buen trabajo en evitar el overfitting y nuestro modelo generalizará bien para datos nuevos."
      ],
      "metadata": {
        "id": "WaCwgk1Dhzcg"
      }
    },
    {
      "cell_type": "markdown",
      "metadata": {
        "id": "oVCyUpUGZZuf"
      },
      "source": [
        "## Métricas"
      ]
    },
    {
      "cell_type": "markdown",
      "metadata": {
        "id": "0yB3tNWJZbDY"
      },
      "source": [
        "### Matriz de Confusión"
      ]
    },
    {
      "cell_type": "code",
      "execution_count": null,
      "metadata": {
        "id": "uTMU-mP_qUAT",
        "colab": {
          "base_uri": "https://localhost:8080/",
          "height": 610
        },
        "outputId": "493a109f-3326-40b5-d3b8-01f15d3c1007"
      },
      "outputs": [
        {
          "output_type": "stream",
          "name": "stdout",
          "text": [
            "              precision    recall  f1-score   support\n",
            "\n",
            "           0       0.85      0.76      0.81      6180\n",
            "           1       0.78      0.86      0.82      6118\n",
            "\n",
            "    accuracy                           0.81     12298\n",
            "   macro avg       0.82      0.81      0.81     12298\n",
            "weighted avg       0.82      0.81      0.81     12298\n",
            "\n"
          ]
        },
        {
          "output_type": "display_data",
          "data": {
            "text/plain": [
              "<Figure size 640x480 with 2 Axes>"
            ],
            "image/png": "[encoded data removed]"
          },
          "metadata": {}
        }
      ],
      "source": [
        "cm = confusion_matrix(y_test,y_pred)\n",
        "sns.heatmap(cm, cmap='Blues',annot=True,fmt='g')\n",
        "plt.xlabel('Predicted')\n",
        "plt.ylabel('True')\n",
        "\n",
        "print(classification_report(y_test,y_pred))"
      ]
    },
    {
      "cell_type": "markdown",
      "source": [
        "La matriz de confusión es lo suficientemente balanceada, aunque es un tanto más precisa en los casos en los que no se cancela la reserva."
      ],
      "metadata": {
        "id": "CFy7nf-GiV2F"
      }
    },
    {
      "cell_type": "markdown",
      "metadata": {
        "id": "ZudUP6lEZcrw"
      },
      "source": [
        "### Gráficos de las métricas en función de los ciclos (epochs)"
      ]
    },
    {
      "cell_type": "code",
      "execution_count": null,
      "metadata": {
        "id": "jMCVN5phn6Wy",
        "colab": {
          "base_uri": "https://localhost:8080/",
          "height": 35
        },
        "outputId": "ce9895b5-cbaa-4a64-fa68-389d21f70305"
      },
      "outputs": [
        {
          "output_type": "execute_result",
          "data": {
            "text/plain": [
              "'epochs = range(cant_epochs)\\n\\nplt.plot(epochs, historia_best_model.history[f1_score_metric], color=\\'magenta\\', label=\\'F1 Score\\')\\nplt.xlabel(\"epochs\")\\nplt.ylabel(\"F1 Score\")\\nplt.legend()'"
            ],
            "application/vnd.google.colaboratory.intrinsic+json": {
              "type": "string"
            }
          },
          "metadata": {},
          "execution_count": 95
        }
      ],
      "source": [
        "'''epochs = range(cant_epochs)\n",
        "\n",
        "plt.plot(epochs, historia_best_model.history[f1_score_metric], color='magenta', label='F1 Score')\n",
        "plt.xlabel(\"epochs\")\n",
        "plt.ylabel(\"F1 Score\")\n",
        "plt.legend()'''"
      ]
    },
    {
      "cell_type": "code",
      "execution_count": null,
      "metadata": {
        "id": "q_QEZ69jaNZ0",
        "colab": {
          "base_uri": "https://localhost:8080/",
          "height": 467
        },
        "outputId": "9e97a868-41a9-4b51-fc44-19d6d410c6ae"
      },
      "outputs": [
        {
          "output_type": "execute_result",
          "data": {
            "text/plain": [
              "<matplotlib.legend.Legend at 0x7fa268f1fe80>"
            ]
          },
          "metadata": {},
          "execution_count": 96
        },
        {
          "output_type": "display_data",
          "data": {
            "text/plain": [
              "<Figure size 640x480 with 1 Axes>"
            ],
            "image/png": "[encoded data removed]"
          },
          "metadata": {}
        }
      ],
      "source": [
        "epochs = range(cant_epochs)\n",
        "\n",
        "plt.plot(epochs, historia_best_model.history['auc'], color='orange', label='AUC')\n",
        "plt.xlabel(\"epochs\")\n",
        "plt.ylabel(\"AUC\")\n",
        "plt.legend()"
      ]
    },
    {
      "cell_type": "code",
      "execution_count": null,
      "metadata": {
        "id": "Nqurd5BXbbHO",
        "colab": {
          "base_uri": "https://localhost:8080/",
          "height": 467
        },
        "outputId": "ef5bba9e-be1c-401c-9ff5-6f5df5d82139"
      },
      "outputs": [
        {
          "output_type": "execute_result",
          "data": {
            "text/plain": [
              "<matplotlib.legend.Legend at 0x7fa26d36f490>"
            ]
          },
          "metadata": {},
          "execution_count": 97
        },
        {
          "output_type": "display_data",
          "data": {
            "text/plain": [
              "<Figure size 640x480 with 1 Axes>"
            ],
            "image/png": "[encoded data removed]"
          },
          "metadata": {}
        }
      ],
      "source": [
        "epochs = range(cant_epochs)\n",
        "\n",
        "plt.plot(epochs, historia_best_model.history['accuracy'], color='#4acce0', label='Accuracy')\n",
        "plt.xlabel(\"epochs\")\n",
        "plt.ylabel(\"accuracy\")\n",
        "plt.legend()"
      ]
    },
    {
      "cell_type": "code",
      "execution_count": null,
      "metadata": {
        "id": "0caxAOWif2Um",
        "colab": {
          "base_uri": "https://localhost:8080/",
          "height": 467
        },
        "outputId": "156eb541-faa1-4ee7-b733-400f77f474e6"
      },
      "outputs": [
        {
          "output_type": "execute_result",
          "data": {
            "text/plain": [
              "<matplotlib.legend.Legend at 0x7fa26ce62dd0>"
            ]
          },
          "metadata": {},
          "execution_count": 102
        },
        {
          "output_type": "display_data",
          "data": {
            "text/plain": [
              "<Figure size 640x480 with 1 Axes>"
            ],
            "image/png": "[encoded data removed]"
          },
          "metadata": {}
        }
      ],
      "source": [
        "epochs = range(cant_epochs)\n",
        "\n",
        "plt.plot(epochs, historia_best_model.history['loss'], color='#b81a1a', label='Loss')\n",
        "plt.xlabel(\"epochs\")\n",
        "plt.ylabel(\"Loss\")\n",
        "plt.legend()"
      ]
    },
    {
      "cell_type": "code",
      "source": [
        "epochs = range(cant_epochs)\n",
        "\n",
        "plt.plot(epochs, historia_best_model.history['get_f1'], color='#56fc03', label='F1 Score')\n",
        "plt.xlabel(\"epochs\")\n",
        "plt.ylabel(\"F1 Score\")\n",
        "plt.legend()"
      ],
      "metadata": {
        "colab": {
          "base_uri": "https://localhost:8080/",
          "height": 467
        },
        "id": "Yw0S_6uxZ1LN",
        "outputId": "c7ecd332-8f3e-4b00-9d12-f7f539b6f336"
      },
      "execution_count": null,
      "outputs": [
        {
          "output_type": "execute_result",
          "data": {
            "text/plain": [
              "<matplotlib.legend.Legend at 0x7fa26cddc640>"
            ]
          },
          "metadata": {},
          "execution_count": 103
        },
        {
          "output_type": "display_data",
          "data": {
            "text/plain": [
              "<Figure size 640x480 with 1 Axes>"
            ],
            "image/png": "[encoded data removed]"
          },
          "metadata": {}
        }
      ]
    },
    {
      "cell_type": "markdown",
      "source": [
        "En los gráficos podemos ver como a partir de los 10 ciclos, la tasa en la que se reduce el error y aumentan las métricas AUC y de accuracy decrece extremadamente, por lo que suponemos que utilizar 40 ciclos fue una buena idea para lograr un buen balance entre la calidad de nuestra predicción y el tiempo de entrenamiento."
      ],
      "metadata": {
        "id": "_SQoYBX8jJK5"
      }
    },
    {
      "cell_type": "markdown",
      "metadata": {
        "id": "9uGwVnZQqHNb"
      },
      "source": [
        "## Exportado de Predicciones"
      ]
    },
    {
      "cell_type": "code",
      "execution_count": null,
      "metadata": {
        "id": "vbLCMaqcqIt5",
        "colab": {
          "base_uri": "https://localhost:8080/"
        },
        "outputId": "a7135758-be59-4e47-9c90-191bc80f0717"
      },
      "outputs": [
        {
          "output_type": "stream",
          "name": "stdout",
          "text": [
            "830/830 [==============================] - 1s 2ms/step\n"
          ]
        }
      ],
      "source": [
        "import joblib\n",
        "joblib.dump(best_model, 'modelo_red_neuronal.pkl')\n",
        "loaded_model = joblib.load('modelo_red_neuronal.pkl')\n",
        "predicciones = loaded_model.predict(df_hotel_test)"
      ]
    },
    {
      "cell_type": "code",
      "execution_count": null,
      "metadata": {
        "id": "1THTWEmnqK2i"
      },
      "outputs": [],
      "source": [
        "df_sub = pd.DataFrame({'id': df_hotel_test_con_is_canceled['id'], 'is_canceled': predicciones})\n",
        "df_sub.to_csv('prediccion_redn_1.csv', index=False)"
      ]
    }
  ],
  "metadata": {
    "accelerator": "GPU",
    "colab": {
      "provenance": [],
      "collapsed_sections": [
        "GxJPjf1Sqhqr",
        "PaVHtT3No_RL"
      ]
    },
    "gpuClass": "standard",
    "kernelspec": {
      "display_name": "Python 3",
      "name": "python3"
    },
    "language_info": {
      "name": "python"
    }
  },
  "nbformat": 4,
  "nbformat_minor": 0
}